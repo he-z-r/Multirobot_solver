{
 "cells": [
  {
   "cell_type": "code",
   "execution_count": 1,
   "metadata": {},
   "outputs": [
    {
     "name": "stderr",
     "output_type": "stream",
     "text": [
      "`omega.symbolic.symbolic` failed to import `dd.cudd`.\n",
      "Will use `dd.autoref`.\n"
     ]
    }
   ],
   "source": [
    "\"\"\" This script tries only using the TuLiP toolbox to solve a multirobot motion planning problem.\n",
    "Specifically, a field of cells and a number of robots are specified along with the system dynamics,\n",
    "and constraints are written in monolithic LTL syntax.\n",
    "\"\"\"\n",
    "\n",
    "\n",
    "# Import the packages that we need\n",
    "from __future__ import print_function\n",
    "import numpy as np\n",
    "from tulip import spec\n",
    "from tulip import synth\n",
    "from tulip.transys import machines\n",
    "import State_encoding\n",
    "import LTL_encoding\n",
    "\n",
    "# Workspace parameters\n",
    "num_rows = 3\n",
    "num_cols = 3\n",
    "num_robots = 2\n",
    "robot_init_pos = np.array([[0, 0], [1, 0], [2, 0]])\n",
    "# The environment variables and specifications are none\n",
    "env_vars = set()\n",
    "env_init = set()\n",
    "env_prog = set()\n",
    "env_safe = set()\n",
    "\n",
    "# Generate robot system dynamics, encoded in sys_safe\n",
    "#   1. Can move up, down, left, and right\n",
    "#   2. Can't collide\n",
    "num_cells = num_rows*num_cols\n",
    "num_states = num_cells**num_robots\n",
    "sys_vars = {}\n",
    "sys_vars['loc'] = (0, num_states - 1)\n",
    "sys_init_pos = np.array([0, 3])\n",
    "sys_init = {'loc='+str(State_encoding.array2digit(sys_init_pos, num_cells))}\n",
    "sys_safe = set()\n",
    "sys_prog = set()\n",
    "\n",
    "curr_pos = np.zeros(num_robots, dtype=int)\n",
    "iter_num_robot = 0\n",
    "for curr_state in range(num_states):\n",
    "    LTL = '' # the LTL formula representing the dynamics of this state\n",
    "    next_state = np.array([], dtype=int)\n",
    "    if len(np.unique(curr_pos)) == len(curr_pos):\n",
    "        for next_movement in range(4**num_robots):\n",
    "            is_valid = True\n",
    "            temp_curr_pos = np.copy(curr_pos)\n",
    "            temp_next_movement = next_movement\n",
    "            for curr_robot in range(num_robots):\n",
    "                next_move = temp_next_movement % 4\n",
    "                temp_next_movement //= 4\n",
    "                # check if this move is valid, i.e., no collision and no out of grid\n",
    "                if next_move == 0:\n",
    "                    # move right\n",
    "                    if curr_pos[curr_robot] % num_cols < num_cols - 1:\n",
    "                        temp_curr_pos[curr_robot] += 1\n",
    "                    else:\n",
    "                        is_valid = False\n",
    "                        break\n",
    "                elif next_move == 1:\n",
    "                    # move up\n",
    "                    if curr_pos[curr_robot] >= num_cols:\n",
    "                        temp_curr_pos[curr_robot] -= num_cols\n",
    "                    else:\n",
    "                        is_valid = False\n",
    "                        break\n",
    "                elif next_move == 2:\n",
    "                    # move left\n",
    "                    if curr_pos[curr_robot] % num_cols > 0:\n",
    "                        temp_curr_pos[curr_robot] -= 1\n",
    "                    else:\n",
    "                        is_valid = False\n",
    "                        break\n",
    "                elif next_move == 3:\n",
    "                    # move down\n",
    "                    if curr_pos[curr_robot] < num_cols * (num_rows - 1):\n",
    "                        temp_curr_pos[curr_robot] += num_cols\n",
    "                    else:\n",
    "                        is_valid = False\n",
    "                        break\n",
    "            # check the following circumstance: two robots exchange their positions\n",
    "            if is_valid:\n",
    "                for i in range(num_robots):\n",
    "                    for j in range(i+1, num_robots):\n",
    "                        if temp_curr_pos[i] == curr_pos[j] and temp_curr_pos[j] == curr_pos[i]:\n",
    "                            is_valid = False\n",
    "                            break\n",
    "                    if not is_valid:\n",
    "                        break\n",
    "            if is_valid:\n",
    "                # check if there is duplicate in the next state\n",
    "                if len(np.unique(temp_curr_pos)) == len(temp_curr_pos):\n",
    "                    next_state = np.append(next_state, State_encoding.array2digit(temp_curr_pos, num_cells))\n",
    "\n",
    "    # It should be the case that there exist some next states\n",
    "        if len(next_state) > 0:\n",
    "            LTL = 'loc=' + str(curr_state) + ' -> X (loc=' + str(next_state[0])\n",
    "            for i in range(1, len(next_state)):\n",
    "                LTL = LTL + ' || loc=' + str(next_state[i])\n",
    "            LTL = LTL + ')'\n",
    "            sys_safe |= {LTL}\n",
    "    for i in range(num_robots):\n",
    "        if curr_pos[i] < num_cells - 1:\n",
    "            curr_pos[i] += 1\n",
    "            break\n",
    "        else:\n",
    "            curr_pos[i] = 0\n",
    "\n",
    "# Generate inner nad outer logic\n",
    "# Constraint 1:\n",
    "# []<> ([6,7,8], 2)\n",
    "# Constraint 2:\n",
    "# ([]<> [2], 2)\n",
    "# Constraint 3:\n",
    "# []! ([1], 1)\n",
    "ltl_formula_1 = LTL_encoding.cltl_conversion(np.array([6, 7, 8]), 2, num_robots, num_cells)\n",
    "sys_prog |= {ltl_formula_1}\n",
    "for i in range(num_robots):\n",
    "    ltl_formula_2 = LTL_encoding.ltl_conversion_ap(np.array([2]), i, num_robots, num_cells)\n",
    "    sys_prog |= {ltl_formula_2}\n",
    "ltl_formula_3 = LTL_encoding.ltl_negate(LTL_encoding.cltl_conversion(np.array([1]), 1, num_robots, num_cells))\n",
    "sys_safe |= {ltl_formula_3}\n"
   ]
  },
  {
   "cell_type": "code",
   "execution_count": 2,
   "metadata": {},
   "outputs": [],
   "source": [
    "# Create a GR(1) specification\n",
    "specs = spec.GRSpec(env_vars, sys_vars, env_init, sys_init,\n",
    "                    env_safe, sys_safe, env_prog, sys_prog)\n",
    "specs.qinit = '\\E \\A'  # Moore initial condition synthesized too"
   ]
  },
  {
   "cell_type": "code",
   "execution_count": 3,
   "metadata": {},
   "outputs": [
    {
     "name": "stdout",
     "output_type": "stream",
     "text": [
      "set()\n"
     ]
    }
   ],
   "source": [
    "print(env_vars)"
   ]
  },
  {
   "cell_type": "code",
   "execution_count": 4,
   "metadata": {},
   "outputs": [
    {
     "name": "stdout",
     "output_type": "stream",
     "text": [
      "{'loc': (0, 80)}\n"
     ]
    }
   ],
   "source": [
    "print(sys_vars)"
   ]
  },
  {
   "cell_type": "code",
   "execution_count": 5,
   "metadata": {},
   "outputs": [
    {
     "name": "stdout",
     "output_type": "stream",
     "text": [
      "set()\n"
     ]
    }
   ],
   "source": [
    "print(env_init)"
   ]
  },
  {
   "cell_type": "code",
   "execution_count": 6,
   "metadata": {},
   "outputs": [
    {
     "name": "stdout",
     "output_type": "stream",
     "text": [
      "{'loc=27'}\n"
     ]
    }
   ],
   "source": [
    "print(sys_init)"
   ]
  },
  {
   "cell_type": "code",
   "execution_count": 7,
   "metadata": {},
   "outputs": [
    {
     "name": "stdout",
     "output_type": "stream",
     "text": [
      "set()\n"
     ]
    }
   ],
   "source": [
    "print(env_safe)"
   ]
  },
  {
   "cell_type": "code",
   "execution_count": 8,
   "metadata": {},
   "outputs": [
    {
     "name": "stdout",
     "output_type": "stream",
     "text": [
      "{'loc=77 -> X (loc=47 || loc=49 || loc=65 || loc=67 || loc=71)', 'loc=27 -> X (loc=37 || loc=39 || loc=1 || loc=55 || loc=57)', 'loc=2 -> X (loc=14 || loc=28 || loc=32)', 'loc=38 -> X (loc=46 || loc=14 || loc=28 || loc=32 || loc=64 || loc=68)', 'loc=31 -> X (loc=41 || loc=37 || loc=43 || loc=5 || loc=1 || loc=3 || loc=7 || loc=59 || loc=55 || loc=57 || loc=61)', 'loc=76 -> X (loc=46 || loc=48 || loc=52 || loc=68 || loc=64 || loc=66)', 'loc=33 -> X (loc=43 || loc=39 || loc=7 || loc=3 || loc=61)', 'loc=42 -> X (loc=52 || loc=48 || loc=16 || loc=12 || loc=34 || loc=66)', 'loc=53 -> X (loc=23 || loc=25 || loc=41 || loc=43 || loc=79)', 'loc=4 -> X (loc=14 || loc=12 || loc=16 || loc=32 || loc=28 || loc=34)', 'loc=6 -> X (loc=16 || loc=12 || loc=34)', 'loc=29 -> X (loc=37 || loc=41 || loc=1 || loc=5 || loc=55 || loc=59)', 'loc=16 -> X (loc=26 || loc=22 || loc=24 || loc=8 || loc=4 || loc=6 || loc=44 || loc=42)', 'loc=15 -> X (loc=25 || loc=21 || loc=7 || loc=3 || loc=43 || loc=39)', 'loc=51 -> X (loc=25 || loc=21 || loc=43 || loc=39 || loc=79 || loc=75)', 'loc=19 -> X (loc=9 || loc=13 || loc=47 || loc=45 || loc=49)', 'loc=74 -> X (loc=46 || loc=64 || loc=68)', 'loc=63 -> X (loc=73 || loc=75 || loc=37 || loc=39 || loc=55 || loc=57)', 'loc=14 -> X (loc=22 || loc=26 || loc=2 || loc=4 || loc=8 || loc=38 || loc=44)', 'loc=45 -> X (loc=19 || loc=21 || loc=37 || loc=39 || loc=73 || loc=75)', 'loc=18 -> X (loc=12 || loc=46 || loc=48)', 'loc=25 -> X (loc=17 || loc=13 || loc=15 || loc=53 || loc=49 || loc=51)', 'loc=55 -> X (loc=65 || loc=63 || loc=67 || loc=29 || loc=27 || loc=31)', 'loc=24 -> X (loc=16 || loc=12 || loc=52 || loc=48)', 'loc=52 -> X (loc=26 || loc=22 || loc=24 || loc=44 || loc=42 || loc=76 || loc=78)', 'loc=22 -> X (loc=14 || loc=12 || loc=16 || loc=46 || loc=48 || loc=52)', 'loc=62 -> X (loc=68 || loc=32 || loc=34)', 'loc=1 -> X (loc=11 || loc=13 || loc=29 || loc=27 || loc=31)', 'loc=44 -> X (loc=52 || loc=14 || loc=16 || loc=32 || loc=34 || loc=68)', 'loc=39 -> X (loc=49 || loc=45 || loc=51 || loc=13 || loc=9 || loc=15 || loc=27 || loc=33 || loc=67 || loc=63 || loc=69)', 'loc=43 -> X (loc=53 || loc=49 || loc=51 || loc=17 || loc=13 || loc=15 || loc=35 || loc=31 || loc=33 || loc=71 || loc=69)', 'loc=79 -> X (loc=53 || loc=49 || loc=51 || loc=67 || loc=69)', 'loc=9 -> X (loc=19 || loc=21 || loc=3 || loc=37 || loc=39)', 'loc=12 -> X (loc=22 || loc=18 || loc=24 || loc=4 || loc=6 || loc=36 || loc=42)', 'loc=67 -> X (loc=77 || loc=73 || loc=75 || loc=79 || loc=41 || loc=37 || loc=39 || loc=59 || loc=55 || loc=57 || loc=61)', 'loc=78 -> X (loc=52 || loc=48 || loc=66)', 'loc=7 -> X (loc=17 || loc=13 || loc=15 || loc=35 || loc=31 || loc=33)', 'loc=8 -> X (loc=14 || loc=16 || loc=32 || loc=34)', 'loc=64 -> X (loc=74 || loc=72 || loc=76 || loc=38 || loc=36 || loc=56 || loc=54 || loc=58)', 'loc=34 -> X (loc=44 || loc=42 || loc=8 || loc=4 || loc=6 || loc=62 || loc=58)', 'loc=21 -> X (loc=13 || loc=9 || loc=15 || loc=49 || loc=45 || loc=51)', 'loc=36 -> X (loc=46 || loc=48 || loc=12 || loc=28 || loc=64 || loc=66)', 'loc=66 -> X (loc=76 || loc=72 || loc=78 || loc=36 || loc=42 || loc=58 || loc=54)', 'loc=54 -> X (loc=64 || loc=66 || loc=28)', 'loc=71 -> X (loc=77 || loc=41 || loc=43 || loc=59 || loc=61)', 'loc=73 -> X (loc=47 || loc=45 || loc=49 || loc=65 || loc=63 || loc=67)', 'loc=5 -> X (loc=11 || loc=13 || loc=17 || loc=29 || loc=31 || loc=35)', 'loc=23 -> X (loc=11 || loc=13 || loc=17 || loc=49 || loc=53)', 'loc=75 -> X (loc=49 || loc=45 || loc=51 || loc=67 || loc=63 || loc=69)', 'loc=47 -> X (loc=19 || loc=37 || loc=41 || loc=73 || loc=77)', 'loc=69 -> X (loc=79 || loc=75 || loc=43 || loc=39 || loc=57)', 'loc=37 -> X (loc=47 || loc=45 || loc=49 || loc=11 || loc=9 || loc=29 || loc=27 || loc=31 || loc=65 || loc=63 || loc=67)', 'loc=3 -> X (loc=13 || loc=9 || loc=15 || loc=31 || loc=33)', 'loc=13 -> X (loc=23 || loc=19 || loc=21 || loc=25 || loc=5 || loc=1 || loc=3 || loc=7 || loc=41 || loc=39 || loc=43)', 'loc=32 -> X (loc=38 || loc=44 || loc=2 || loc=4 || loc=8 || loc=56 || loc=58 || loc=62)', 'loc=57 -> X (loc=67 || loc=63 || loc=69 || loc=31 || loc=27)', 'loc=59 -> X (loc=65 || loc=67 || loc=71 || loc=29 || loc=31 || loc=35)', '!( loc=64 || loc=1 || loc=37 || loc=73 || loc=9 || loc=11 || loc=12 || loc=13 || loc=46 || loc=14 || loc=15 || loc=16 || loc=17 || loc=19 || loc=55 || loc=28 )', 'loc=35 -> X (loc=41 || loc=43 || loc=5 || loc=7 || loc=59 || loc=61)', 'loc=28 -> X (loc=38 || loc=36 || loc=2 || loc=4 || loc=56 || loc=54 || loc=58)', 'loc=41 -> X (loc=47 || loc=53 || loc=11 || loc=13 || loc=17 || loc=29 || loc=31 || loc=35 || loc=65 || loc=67 || loc=71)', 'loc=61 -> X (loc=71 || loc=67 || loc=35 || loc=31 || loc=33)', 'loc=11 -> X (loc=23 || loc=1 || loc=5 || loc=37 || loc=41)', 'loc=46 -> X (loc=18 || loc=22 || loc=38 || loc=36 || loc=74 || loc=72 || loc=76)', 'loc=65 -> X (loc=73 || loc=77 || loc=37 || loc=41 || loc=55 || loc=59)', 'loc=58 -> X (loc=68 || loc=64 || loc=66 || loc=32 || loc=28 || loc=34)', 'loc=68 -> X (loc=74 || loc=76 || loc=38 || loc=44 || loc=56 || loc=58 || loc=62)', 'loc=26 -> X (loc=14 || loc=16 || loc=52)', 'loc=72 -> X (loc=46 || loc=48 || loc=64 || loc=66)', 'loc=17 -> X (loc=23 || loc=25 || loc=5 || loc=7 || loc=41 || loc=43)', 'loc=49 -> X (loc=23 || loc=19 || loc=21 || loc=25 || loc=37 || loc=39 || loc=43 || loc=77 || loc=73 || loc=75 || loc=79)', 'loc=48 -> X (loc=22 || loc=18 || loc=24 || loc=36 || loc=42 || loc=76 || loc=72 || loc=78)', 'loc=56 -> X (loc=64 || loc=68 || loc=28 || loc=32)'}\n"
     ]
    }
   ],
   "source": [
    "print(sys_safe)"
   ]
  },
  {
   "cell_type": "code",
   "execution_count": 9,
   "metadata": {},
   "outputs": [
    {
     "name": "stdout",
     "output_type": "stream",
     "text": [
      "set()\n"
     ]
    }
   ],
   "source": [
    "print(env_prog)"
   ]
  },
  {
   "cell_type": "code",
   "execution_count": 10,
   "metadata": {},
   "outputs": [
    {
     "name": "stdout",
     "output_type": "stream",
     "text": [
      "{'( loc=65 || loc=2 || loc=38 || loc=74 || loc=11 || loc=47 || loc=56 || loc=29 )', '( loc=69 || loc=71 || loc=78 || loc=79 || loc=61 || loc=62 )', '( loc=18 || loc=19 || loc=21 || loc=22 || loc=23 || loc=24 || loc=25 || loc=26 )'}\n"
     ]
    }
   ],
   "source": [
    "print(sys_prog)"
   ]
  },
  {
   "cell_type": "code",
   "execution_count": 3,
   "metadata": {},
   "outputs": [
    {
     "name": "stdout",
     "output_type": "stream",
     "text": [
      "removed 0 nodes from 16 total\n"
     ]
    }
   ],
   "source": [
    "ctrl = synth.synthesize(specs)\n",
    "assert ctrl is not None, 'unrealizable'\n",
    "\n",
    "\n",
    "# Generate a graphical representation of the controller for viewing\n",
    "if not ctrl.save('gr1_set.png'):\n",
    "    print(ctrl)"
   ]
  },
  {
   "cell_type": "code",
   "execution_count": 12,
   "metadata": {},
   "outputs": [
    {
     "name": "stdout",
     "output_type": "stream",
     "text": [
      "move from\n",
      "\t state: Sinit\n",
      "\t with input:{}\n",
      "\t to state: 0\n",
      "\t reacting by producing output: {'loc': 27}\n",
      "move from\n",
      "\t state: 0\n",
      "\t with input:{}\n",
      "\t to state: 1\n",
      "\t reacting by producing output: {'loc': 57}\n",
      "move from\n",
      "\t state: 1\n",
      "\t with input:{}\n",
      "\t to state: 2\n",
      "\t reacting by producing output: {'loc': 67}\n",
      "move from\n",
      "\t state: 2\n",
      "\t with input:{}\n",
      "\t to state: 3\n",
      "\t reacting by producing output: {'loc': 41}\n",
      "move from\n",
      "\t state: 3\n",
      "\t with input:{}\n",
      "\t to state: 4\n",
      "\t reacting by producing output: {'loc': 65}\n",
      "move from\n",
      "\t state: 4\n",
      "\t with input:{}\n",
      "\t to state: 5\n",
      "\t reacting by producing output: {'loc': 41}\n",
      "move from\n",
      "\t state: 5\n",
      "\t with input:{}\n",
      "\t to state: 6\n",
      "\t reacting by producing output: {'loc': 71}\n",
      "move from\n",
      "\t state: 6\n",
      "\t with input:{}\n",
      "\t to state: 7\n",
      "\t reacting by producing output: {'loc': 41}\n",
      "move from\n",
      "\t state: 7\n",
      "\t with input:{}\n",
      "\t to state: 8\n",
      "\t reacting by producing output: {'loc': 53}\n",
      "move from\n",
      "\t state: 8\n",
      "\t with input:{}\n",
      "\t to state: 9\n",
      "\t reacting by producing output: {'loc': 25}\n",
      "move from\n",
      "\t state: 9\n",
      "\t with input:{}\n",
      "\t to state: 10\n",
      "\t reacting by producing output: {'loc': 49}\n",
      "move from\n",
      "\t state: 10\n",
      "\t with input:{}\n",
      "\t to state: 11\n",
      "\t reacting by producing output: {'loc': 77}\n",
      "move from\n",
      "\t state: 11\n",
      "\t with input:{}\n",
      "\t to state: 4\n",
      "\t reacting by producing output: {'loc': 65}\n",
      "move from\n",
      "\t state: 4\n",
      "\t with input:{}\n",
      "\t to state: 5\n",
      "\t reacting by producing output: {'loc': 41}\n",
      "move from\n",
      "\t state: 5\n",
      "\t with input:{}\n",
      "\t to state: 6\n",
      "\t reacting by producing output: {'loc': 71}\n",
      "move from\n",
      "\t state: 6\n",
      "\t with input:{}\n",
      "\t to state: 7\n",
      "\t reacting by producing output: {'loc': 41}\n",
      "move from\n",
      "\t state: 7\n",
      "\t with input:{}\n",
      "\t to state: 8\n",
      "\t reacting by producing output: {'loc': 53}\n",
      "move from\n",
      "\t state: 8\n",
      "\t with input:{}\n",
      "\t to state: 9\n",
      "\t reacting by producing output: {'loc': 25}\n",
      "move from\n",
      "\t state: 9\n",
      "\t with input:{}\n",
      "\t to state: 10\n",
      "\t reacting by producing output: {'loc': 49}\n",
      "move from\n",
      "\t state: 10\n",
      "\t with input:{}\n",
      "\t to state: 11\n",
      "\t reacting by producing output: {'loc': 77}\n",
      "move from\n",
      "\t state: 11\n",
      "\t with input:{}\n",
      "\t to state: 4\n",
      "\t reacting by producing output: {'loc': 65}\n",
      "move from\n",
      "\t state: 4\n",
      "\t with input:{}\n",
      "\t to state: 5\n",
      "\t reacting by producing output: {'loc': 41}\n",
      "move from\n",
      "\t state: 5\n",
      "\t with input:{}\n",
      "\t to state: 6\n",
      "\t reacting by producing output: {'loc': 71}\n",
      "move from\n",
      "\t state: 6\n",
      "\t with input:{}\n",
      "\t to state: 7\n",
      "\t reacting by producing output: {'loc': 41}\n",
      "move from\n",
      "\t state: 7\n",
      "\t with input:{}\n",
      "\t to state: 8\n",
      "\t reacting by producing output: {'loc': 53}\n",
      "move from\n",
      "\t state: 8\n",
      "\t with input:{}\n",
      "\t to state: 9\n",
      "\t reacting by producing output: {'loc': 25}\n",
      "move from\n",
      "\t state: 9\n",
      "\t with input:{}\n",
      "\t to state: 10\n",
      "\t reacting by producing output: {'loc': 49}\n",
      "move from\n",
      "\t state: 10\n",
      "\t with input:{}\n",
      "\t to state: 11\n",
      "\t reacting by producing output: {'loc': 77}\n",
      "move from\n",
      "\t state: 11\n",
      "\t with input:{}\n",
      "\t to state: 4\n",
      "\t reacting by producing output: {'loc': 65}\n",
      "move from\n",
      "\t state: 4\n",
      "\t with input:{}\n",
      "\t to state: 5\n",
      "\t reacting by producing output: {'loc': 41}\n"
     ]
    },
    {
     "data": {
      "text/plain": [
       "([0,\n",
       "  1,\n",
       "  2,\n",
       "  3,\n",
       "  4,\n",
       "  5,\n",
       "  6,\n",
       "  7,\n",
       "  8,\n",
       "  9,\n",
       "  10,\n",
       "  11,\n",
       "  4,\n",
       "  5,\n",
       "  6,\n",
       "  7,\n",
       "  8,\n",
       "  9,\n",
       "  10,\n",
       "  11,\n",
       "  4,\n",
       "  5,\n",
       "  6,\n",
       "  7,\n",
       "  8,\n",
       "  9,\n",
       "  10,\n",
       "  11,\n",
       "  4,\n",
       "  5],\n",
       " {'loc': [27,\n",
       "   57,\n",
       "   67,\n",
       "   41,\n",
       "   65,\n",
       "   41,\n",
       "   71,\n",
       "   41,\n",
       "   53,\n",
       "   25,\n",
       "   49,\n",
       "   77,\n",
       "   65,\n",
       "   41,\n",
       "   71,\n",
       "   41,\n",
       "   53,\n",
       "   25,\n",
       "   49,\n",
       "   77,\n",
       "   65,\n",
       "   41,\n",
       "   71,\n",
       "   41,\n",
       "   53,\n",
       "   25,\n",
       "   49,\n",
       "   77,\n",
       "   65,\n",
       "   41]})"
      ]
     },
     "execution_count": 12,
     "metadata": {},
     "output_type": "execute_result"
    }
   ],
   "source": [
    "machines.random_run(ctrl, N=30)"
   ]
  },
  {
   "cell_type": "code",
   "execution_count": 13,
   "metadata": {},
   "outputs": [],
   "source": [
    "s = np.array([27,57,67,41,65,41,53,25,49,79,67,41,65,41,53,25,49,79,67,41,65,41,53,25,49,79,67,41,65,41])"
   ]
  },
  {
   "cell_type": "code",
   "execution_count": 14,
   "metadata": {},
   "outputs": [],
   "source": [
    "states_2d_arr = State_encoding.array2coord(s, num_cells, num_robots, num_cols)"
   ]
  },
  {
   "cell_type": "code",
   "execution_count": 15,
   "metadata": {},
   "outputs": [
    {
     "name": "stdout",
     "output_type": "stream",
     "text": [
      "[[[0, 0], [1, 0]], [[1, 0], [2, 0]], [[1, 1], [2, 1]], [[1, 2], [1, 1]], [[0, 2], [2, 1]], [[1, 2], [1, 1]], [[2, 2], [1, 2]], [[2, 1], [0, 2]], [[1, 1], [1, 2]], [[2, 1], [2, 2]], [[1, 1], [2, 1]], [[1, 2], [1, 1]], [[0, 2], [2, 1]], [[1, 2], [1, 1]], [[2, 2], [1, 2]], [[2, 1], [0, 2]], [[1, 1], [1, 2]], [[2, 1], [2, 2]], [[1, 1], [2, 1]], [[1, 2], [1, 1]], [[0, 2], [2, 1]], [[1, 2], [1, 1]], [[2, 2], [1, 2]], [[2, 1], [0, 2]], [[1, 1], [1, 2]], [[2, 1], [2, 2]], [[1, 1], [2, 1]], [[1, 2], [1, 1]], [[0, 2], [2, 1]], [[1, 2], [1, 1]]]\n"
     ]
    }
   ],
   "source": [
    "print(states_2d_arr)"
   ]
  },
  {
   "cell_type": "code",
   "execution_count": null,
   "metadata": {},
   "outputs": [],
   "source": []
  }
 ],
 "metadata": {
  "kernelspec": {
   "display_name": "Python 3",
   "language": "python",
   "name": "python3"
  },
  "language_info": {
   "codemirror_mode": {
    "name": "ipython",
    "version": 3
   },
   "file_extension": ".py",
   "mimetype": "text/x-python",
   "name": "python",
   "nbconvert_exporter": "python",
   "pygments_lexer": "ipython3",
   "version": "3.6.9"
  }
 },
 "nbformat": 4,
 "nbformat_minor": 4
}
