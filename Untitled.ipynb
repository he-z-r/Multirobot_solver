{
 "cells": [
  {
   "cell_type": "code",
   "execution_count": 94,
   "metadata": {},
   "outputs": [],
   "source": [
    "\"\"\" This script tries only using the TuLiP toolbox to solve a multirobot motion planning problem.\n",
    "Specifically, a field of cells and a number of robots are specified along with the system dynamics,\n",
    "and constraints are written in monolithic LTL syntax.\n",
    "\"\"\"\n",
    "\n",
    "\n",
    "# Import the packages that we need\n",
    "from __future__ import print_function\n",
    "import numpy as np\n",
    "from tulip import spec\n",
    "from tulip.transys import machines\n",
    "from tulip import synth\n",
    "import State_encoding\n",
    "import LTL_encoding"
   ]
  },
  {
   "cell_type": "code",
   "execution_count": 95,
   "metadata": {},
   "outputs": [],
   "source": [
    "# Workspace parameters\n",
    "num_rows = 3\n",
    "num_cols = 3\n",
    "num_robots = 2\n",
    "robot_init_pos = np.array([[0, 0], [1, 0], [2, 0]])\n",
    "# The environment variables and specifications are none\n",
    "env_vars = set()\n",
    "env_init = set()\n",
    "env_prog = set()\n",
    "env_safe = set()"
   ]
  },
  {
   "cell_type": "code",
   "execution_count": 96,
   "metadata": {},
   "outputs": [],
   "source": [
    "# Generate robot system dynamics, encoded in sys_safe\n",
    "#   1. Can move up, down, left, and right\n",
    "#   2. Can't collide\n",
    "num_cells = num_rows*num_cols\n",
    "num_states = num_cells**num_robots\n",
    "sys_vars = {}\n",
    "sys_vars['loc'] = (0, num_states - 1)\n",
    "sys_init_pos = np.array([0, 3])\n",
    "sys_init = {'loc='+str(State_encoding.array2digit(sys_init_pos, num_cells))}\n",
    "sys_safe = set()\n",
    "sys_prog = set()"
   ]
  },
  {
   "cell_type": "code",
   "execution_count": 97,
   "metadata": {},
   "outputs": [],
   "source": [
    "curr_pos = np.zeros(num_robots, dtype=int)\n",
    "iter_num_robot = 0\n",
    "for curr_state in range(num_states):\n",
    "    LTL = '' # the LTL formula representing the dynamics of this state\n",
    "    next_state = np.array([], dtype=int)\n",
    "    if len(np.unique(curr_pos)) == len(curr_pos):\n",
    "        for next_movement in range(4**num_robots):\n",
    "            is_valid = True\n",
    "            temp_curr_pos = np.copy(curr_pos)\n",
    "            temp_next_movement = next_movement\n",
    "            for curr_robot in range(num_robots):\n",
    "                next_move = temp_next_movement % 4\n",
    "                temp_next_movement //= 4\n",
    "                # check if this move is valid, i.e., no collision and no out of grid\n",
    "                if next_move == 0:\n",
    "                    # move right\n",
    "                    if curr_pos[curr_robot] % num_cols < num_cols - 1:\n",
    "                        temp_curr_pos[curr_robot] += 1\n",
    "                    else:\n",
    "                        is_valid = False\n",
    "                        break\n",
    "                elif next_move == 1:\n",
    "                    # move up\n",
    "                    if curr_pos[curr_robot] >= num_cols:\n",
    "                        temp_curr_pos[curr_robot] -= num_cols\n",
    "                    else:\n",
    "                        is_valid = False\n",
    "                        break\n",
    "                elif next_move == 2:\n",
    "                    # move left\n",
    "                    if curr_pos[curr_robot] % num_cols > 0:\n",
    "                        temp_curr_pos[curr_robot] -= 1\n",
    "                    else:\n",
    "                        is_valid = False\n",
    "                        break\n",
    "                elif next_move == 3:\n",
    "                    # move down\n",
    "                    if curr_pos[curr_robot] < num_cols * (num_rows - 1):\n",
    "                        temp_curr_pos[curr_robot] += num_cols\n",
    "                    else:\n",
    "                        is_valid = False\n",
    "                        break\n",
    "            # check the following circumstance: two robots exchange their positions\n",
    "            if is_valid:\n",
    "                for i in range(num_robots):\n",
    "                    for j in range(i+1, num_robots):\n",
    "                        if temp_curr_pos[i] == curr_pos[j] and temp_curr_pos[j] == curr_pos[i]:\n",
    "                            is_valid = False\n",
    "                            break\n",
    "                    if not is_valid:\n",
    "                        break\n",
    "            if is_valid:\n",
    "                # check if there is duplicate in the next state\n",
    "                if len(np.unique(temp_curr_pos)) == len(temp_curr_pos):\n",
    "                    next_state = np.append(next_state, State_encoding.array2digit(temp_curr_pos, num_cells))\n",
    "\n",
    "    # It should be the case that there exist some next states\n",
    "        if len(next_state) > 0:\n",
    "            LTL = 'loc=' + str(curr_state) + ' -> X (loc=' + str(next_state[0])\n",
    "            for i in range(1, len(next_state)):\n",
    "                LTL = LTL + ' || loc=' + str(next_state[i])\n",
    "            LTL = LTL + ')'\n",
    "            sys_safe |= {LTL}\n",
    "    for i in range(num_robots):\n",
    "        if curr_pos[i] < num_cells - 1:\n",
    "            curr_pos[i] += 1\n",
    "            break\n",
    "        else:\n",
    "            curr_pos[i] = 0"
   ]
  },
  {
   "cell_type": "code",
   "execution_count": 98,
   "metadata": {},
   "outputs": [],
   "source": [
    "# Generate inner nad outer logic\n",
    "# Constraint 1:\n",
    "# []<> ([6,7,8], 2)\n",
    "# Constraint 2:\n",
    "# ([]<> [2], 2)\n",
    "# Constraint 3:\n",
    "# []! ([1], 1)\n",
    "ltl_formula_1 = LTL_encoding.cltl_conversion_async(np.array([6, 7, 8]), 2, num_robots, num_cells, 1)\n",
    "ltl_formula_1 = '(loc=69|loc=71|loc=78|loc=79|loc=61|loc=62) && X(loc=69|loc=71|loc=78|loc=79|loc=61|loc=62)'\n",
    "sys_prog |= {ltl_formula_1}\n",
    "for i in range(num_robots):\n",
    "    ltl_formula_2 = LTL_encoding.ltl_conversion_ap(np.array([2]), i, num_robots, num_cells)\n",
    "    sys_prog |= {ltl_formula_2}\n",
    "ltl_formula_3 = LTL_encoding.ltl_negate(LTL_encoding.cltl_conversion(np.array([1]), 1, num_robots, num_cells))\n",
    "sys_safe |= {ltl_formula_3}"
   ]
  },
  {
   "cell_type": "code",
   "execution_count": 99,
   "metadata": {},
   "outputs": [
    {
     "name": "stderr",
     "output_type": "stream",
     "text": [
      "Exception ignored in: <bound method BDD.__del__ of <dd.bdd.BDD object at 0x7f43efb6e320>>\n",
      "Traceback (most recent call last):\n",
      "  File \"/home/hezhirui/.local/lib/python3.6/site-packages/dd/bdd.py\", line 186, in __del__\n",
      "    assert all(v == 0 for v in self._ref.values()), self._ref\n",
      "AssertionError: {1: 33, 8: 3, 9: 2, 10: 3, 11: 3, 12: 2, 13: 1, 14: 1, 15: 2, 26: 2, 41: 2, 85: 1, 107: 1, 108: 2, 109: 1, 113: 2, 114: 2, 133: 1, 134: 1, 212: 1, 237: 3, 289: 2, 290: 2, 291: 1, 401: 1, 454: 1, 869: 1, 870: 1, 1193: 1, 1194: 1, 2118: 1, 2121: 1, 2123: 1, 2124: 1, 2125: 1, 2128: 1, 2131: 1, 2132: 1, 2133: 1, 2135: 1, 2136: 1, 2137: 1, 2146: 1, 2147: 1, 2149: 1, 2150: 1, 2151: 1}\n"
     ]
    },
    {
     "ename": "AssertionError",
     "evalue": "{'loc', \"loc'\"}",
     "output_type": "error",
     "traceback": [
      "\u001b[0;31m---------------------------------------------------------------------------\u001b[0m",
      "\u001b[0;31mAssertionError\u001b[0m                            Traceback (most recent call last)",
      "\u001b[0;32m<ipython-input-99-7d6b48693378>\u001b[0m in \u001b[0;36m<module>\u001b[0;34m\u001b[0m\n\u001b[1;32m      4\u001b[0m \u001b[0mspecs\u001b[0m\u001b[0;34m.\u001b[0m\u001b[0mqinit\u001b[0m \u001b[0;34m=\u001b[0m \u001b[0;34m'\\E \\A'\u001b[0m  \u001b[0;31m# Moore initial condition synthesized too\u001b[0m\u001b[0;34m\u001b[0m\u001b[0;34m\u001b[0m\u001b[0m\n\u001b[1;32m      5\u001b[0m \u001b[0;34m\u001b[0m\u001b[0m\n\u001b[0;32m----> 6\u001b[0;31m \u001b[0mctrl\u001b[0m \u001b[0;34m=\u001b[0m \u001b[0msynth\u001b[0m\u001b[0;34m.\u001b[0m\u001b[0msynthesize\u001b[0m\u001b[0;34m(\u001b[0m\u001b[0mspecs\u001b[0m\u001b[0;34m)\u001b[0m\u001b[0;34m\u001b[0m\u001b[0;34m\u001b[0m\u001b[0m\n\u001b[0m\u001b[1;32m      7\u001b[0m \u001b[0;32massert\u001b[0m \u001b[0mctrl\u001b[0m \u001b[0;32mis\u001b[0m \u001b[0;32mnot\u001b[0m \u001b[0;32mNone\u001b[0m\u001b[0;34m,\u001b[0m \u001b[0;34m'unrealizable'\u001b[0m\u001b[0;34m\u001b[0m\u001b[0;34m\u001b[0m\u001b[0m\n",
      "\u001b[0;32m~/.local/lib/python3.6/site-packages/tulip/synth.py\u001b[0m in \u001b[0;36msynthesize\u001b[0;34m(specs, env, sys, ignore_env_init, ignore_sys_init, rm_deadends, solver)\u001b[0m\n\u001b[1;32m   1109\u001b[0m         \u001b[0mignore_env_init\u001b[0m\u001b[0;34m,\u001b[0m\u001b[0;34m\u001b[0m\u001b[0;34m\u001b[0m\u001b[0m\n\u001b[1;32m   1110\u001b[0m         ignore_sys_init)\n\u001b[0;32m-> 1111\u001b[0;31m     \u001b[0;32mreturn\u001b[0m \u001b[0m_synthesize\u001b[0m\u001b[0;34m(\u001b[0m\u001b[0mspecs\u001b[0m\u001b[0;34m,\u001b[0m \u001b[0msolver\u001b[0m\u001b[0;34m,\u001b[0m \u001b[0mrm_deadends\u001b[0m\u001b[0;34m)\u001b[0m\u001b[0;34m\u001b[0m\u001b[0;34m\u001b[0m\u001b[0m\n\u001b[0m\u001b[1;32m   1112\u001b[0m \u001b[0;34m\u001b[0m\u001b[0m\n\u001b[1;32m   1113\u001b[0m \u001b[0;34m\u001b[0m\u001b[0m\n",
      "\u001b[0;32m~/.local/lib/python3.6/site-packages/tulip/synth.py\u001b[0m in \u001b[0;36m_synthesize\u001b[0;34m(specs, solver, rm_deadends)\u001b[0m\n\u001b[1;32m   1130\u001b[0m         \u001b[0mstrategy\u001b[0m \u001b[0;34m=\u001b[0m \u001b[0mgr1py\u001b[0m\u001b[0;34m.\u001b[0m\u001b[0msynthesize\u001b[0m\u001b[0;34m(\u001b[0m\u001b[0mspecs\u001b[0m\u001b[0;34m)\u001b[0m\u001b[0;34m\u001b[0m\u001b[0;34m\u001b[0m\u001b[0m\n\u001b[1;32m   1131\u001b[0m     \u001b[0;32melif\u001b[0m \u001b[0msolver\u001b[0m \u001b[0;34m==\u001b[0m \u001b[0;34m'omega'\u001b[0m\u001b[0;34m:\u001b[0m\u001b[0;34m\u001b[0m\u001b[0;34m\u001b[0m\u001b[0m\n\u001b[0;32m-> 1132\u001b[0;31m         \u001b[0mstrategy\u001b[0m \u001b[0;34m=\u001b[0m \u001b[0momega_int\u001b[0m\u001b[0;34m.\u001b[0m\u001b[0msynthesize_enumerated_streett\u001b[0m\u001b[0;34m(\u001b[0m\u001b[0mspecs\u001b[0m\u001b[0;34m)\u001b[0m\u001b[0;34m\u001b[0m\u001b[0;34m\u001b[0m\u001b[0m\n\u001b[0m\u001b[1;32m   1133\u001b[0m     \u001b[0;32melse\u001b[0m\u001b[0;34m:\u001b[0m\u001b[0;34m\u001b[0m\u001b[0;34m\u001b[0m\u001b[0m\n\u001b[1;32m   1134\u001b[0m         \u001b[0moptions\u001b[0m \u001b[0;34m=\u001b[0m \u001b[0;34m{\u001b[0m\u001b[0;34m'gr1c'\u001b[0m\u001b[0;34m,\u001b[0m \u001b[0;34m'gr1py'\u001b[0m\u001b[0;34m,\u001b[0m \u001b[0;34m'omega'\u001b[0m\u001b[0;34m,\u001b[0m \u001b[0;34m'slugs'\u001b[0m\u001b[0;34m}\u001b[0m\u001b[0;34m\u001b[0m\u001b[0;34m\u001b[0m\u001b[0m\n",
      "\u001b[0;32m~/.local/lib/python3.6/site-packages/tulip/interfaces/omega.py\u001b[0m in \u001b[0;36msynthesize_enumerated_streett\u001b[0;34m(spec)\u001b[0m\n\u001b[1;32m     52\u001b[0m     \u001b[0;32massert\u001b[0m \u001b[0maut\u001b[0m\u001b[0;34m.\u001b[0m\u001b[0maction\u001b[0m\u001b[0;34m[\u001b[0m\u001b[0;34m'sys'\u001b[0m\u001b[0;34m]\u001b[0m \u001b[0;34m!=\u001b[0m \u001b[0maut\u001b[0m\u001b[0;34m.\u001b[0m\u001b[0mfalse\u001b[0m\u001b[0;34m\u001b[0m\u001b[0;34m\u001b[0m\u001b[0m\n\u001b[1;32m     53\u001b[0m     \u001b[0mt0\u001b[0m \u001b[0;34m=\u001b[0m \u001b[0mtime\u001b[0m\u001b[0;34m.\u001b[0m\u001b[0mtime\u001b[0m\u001b[0;34m(\u001b[0m\u001b[0;34m)\u001b[0m\u001b[0;34m\u001b[0m\u001b[0;34m\u001b[0m\u001b[0m\n\u001b[0;32m---> 54\u001b[0;31m     \u001b[0mz\u001b[0m\u001b[0;34m,\u001b[0m \u001b[0myij\u001b[0m\u001b[0;34m,\u001b[0m \u001b[0mxijk\u001b[0m \u001b[0;34m=\u001b[0m \u001b[0mgr1\u001b[0m\u001b[0;34m.\u001b[0m\u001b[0msolve_streett_game\u001b[0m\u001b[0;34m(\u001b[0m\u001b[0maut\u001b[0m\u001b[0;34m)\u001b[0m\u001b[0;34m\u001b[0m\u001b[0;34m\u001b[0m\u001b[0m\n\u001b[0m\u001b[1;32m     55\u001b[0m     \u001b[0mt1\u001b[0m \u001b[0;34m=\u001b[0m \u001b[0mtime\u001b[0m\u001b[0;34m.\u001b[0m\u001b[0mtime\u001b[0m\u001b[0;34m(\u001b[0m\u001b[0;34m)\u001b[0m\u001b[0;34m\u001b[0m\u001b[0;34m\u001b[0m\u001b[0m\n\u001b[1;32m     56\u001b[0m     \u001b[0;31m# unrealizable ?\u001b[0m\u001b[0;34m\u001b[0m\u001b[0;34m\u001b[0m\u001b[0;34m\u001b[0m\u001b[0m\n",
      "\u001b[0;32m~/.local/lib/python3.6/site-packages/omega/games/gr1.py\u001b[0m in \u001b[0;36msolve_streett_game\u001b[0;34m(aut, rank)\u001b[0m\n\u001b[1;32m     67\u001b[0m         \u001b[0;32mfor\u001b[0m \u001b[0mgoal\u001b[0m \u001b[0;32min\u001b[0m \u001b[0maut\u001b[0m\u001b[0;34m.\u001b[0m\u001b[0mwin\u001b[0m\u001b[0;34m[\u001b[0m\u001b[0;34m'[]<>'\u001b[0m\u001b[0;34m]\u001b[0m\u001b[0;34m:\u001b[0m\u001b[0;34m\u001b[0m\u001b[0;34m\u001b[0m\u001b[0m\n\u001b[1;32m     68\u001b[0m             \u001b[0mgoal\u001b[0m \u001b[0;34m&=\u001b[0m \u001b[0mcox_z\u001b[0m\u001b[0;34m\u001b[0m\u001b[0;34m\u001b[0m\u001b[0m\n\u001b[0;32m---> 69\u001b[0;31m             \u001b[0my\u001b[0m\u001b[0;34m,\u001b[0m \u001b[0myj\u001b[0m\u001b[0;34m,\u001b[0m \u001b[0mxjk\u001b[0m \u001b[0;34m=\u001b[0m \u001b[0m_attractor_under_assumptions\u001b[0m\u001b[0;34m(\u001b[0m\u001b[0mgoal\u001b[0m\u001b[0;34m,\u001b[0m \u001b[0maut\u001b[0m\u001b[0;34m)\u001b[0m\u001b[0;34m\u001b[0m\u001b[0;34m\u001b[0m\u001b[0m\n\u001b[0m\u001b[1;32m     70\u001b[0m             \u001b[0mz\u001b[0m \u001b[0;34m&=\u001b[0m \u001b[0my\u001b[0m\u001b[0;34m\u001b[0m\u001b[0;34m\u001b[0m\u001b[0m\n\u001b[1;32m     71\u001b[0m             \u001b[0mxijk\u001b[0m\u001b[0;34m.\u001b[0m\u001b[0mappend\u001b[0m\u001b[0;34m(\u001b[0m\u001b[0mxjk\u001b[0m\u001b[0;34m)\u001b[0m\u001b[0;34m\u001b[0m\u001b[0;34m\u001b[0m\u001b[0m\n",
      "\u001b[0;32m~/.local/lib/python3.6/site-packages/omega/games/gr1.py\u001b[0m in \u001b[0;36m_attractor_under_assumptions\u001b[0;34m(goal, aut)\u001b[0m\n\u001b[1;32m     90\u001b[0m         \u001b[0;32mfor\u001b[0m \u001b[0msafe\u001b[0m \u001b[0;32min\u001b[0m \u001b[0maut\u001b[0m\u001b[0;34m.\u001b[0m\u001b[0mwin\u001b[0m\u001b[0;34m[\u001b[0m\u001b[0;34m'<>[]'\u001b[0m\u001b[0;34m]\u001b[0m\u001b[0;34m:\u001b[0m\u001b[0;34m\u001b[0m\u001b[0;34m\u001b[0m\u001b[0m\n\u001b[1;32m     91\u001b[0m             x = fx.trap(env_action, sys_action,\n\u001b[0;32m---> 92\u001b[0;31m                         safe, aut, unless=unless)\n\u001b[0m\u001b[1;32m     93\u001b[0m             \u001b[0mxk\u001b[0m\u001b[0;34m.\u001b[0m\u001b[0mappend\u001b[0m\u001b[0;34m(\u001b[0m\u001b[0mx\u001b[0m\u001b[0;34m)\u001b[0m\u001b[0;34m\u001b[0m\u001b[0;34m\u001b[0m\u001b[0m\n\u001b[1;32m     94\u001b[0m             \u001b[0my\u001b[0m \u001b[0;34m|=\u001b[0m \u001b[0mx\u001b[0m\u001b[0;34m\u001b[0m\u001b[0;34m\u001b[0m\u001b[0m\n",
      "\u001b[0;32m~/.local/lib/python3.6/site-packages/omega/symbolic/fixpoint.py\u001b[0m in \u001b[0;36mtrap\u001b[0;34m(env_action, sys_action, safe, aut, unless)\u001b[0m\n\u001b[1;32m     57\u001b[0m     \u001b[0;32mwhile\u001b[0m \u001b[0mq\u001b[0m \u001b[0;34m!=\u001b[0m \u001b[0mqold\u001b[0m\u001b[0;34m:\u001b[0m\u001b[0;34m\u001b[0m\u001b[0;34m\u001b[0m\u001b[0m\n\u001b[1;32m     58\u001b[0m         \u001b[0mqold\u001b[0m \u001b[0;34m=\u001b[0m \u001b[0mq\u001b[0m\u001b[0;34m\u001b[0m\u001b[0;34m\u001b[0m\u001b[0m\n\u001b[0;32m---> 59\u001b[0;31m         \u001b[0mpre\u001b[0m \u001b[0;34m=\u001b[0m \u001b[0mstep\u001b[0m\u001b[0;34m(\u001b[0m\u001b[0menv_action\u001b[0m\u001b[0;34m,\u001b[0m \u001b[0msys_action\u001b[0m\u001b[0;34m,\u001b[0m \u001b[0mq\u001b[0m\u001b[0;34m,\u001b[0m \u001b[0maut\u001b[0m\u001b[0;34m)\u001b[0m\u001b[0;34m\u001b[0m\u001b[0;34m\u001b[0m\u001b[0m\n\u001b[0m\u001b[1;32m     60\u001b[0m         \u001b[0mq\u001b[0m \u001b[0;34m=\u001b[0m \u001b[0msafe\u001b[0m \u001b[0;34m&\u001b[0m \u001b[0mpre\u001b[0m\u001b[0;34m\u001b[0m\u001b[0;34m\u001b[0m\u001b[0m\n\u001b[1;32m     61\u001b[0m         \u001b[0;32mif\u001b[0m \u001b[0munless\u001b[0m \u001b[0;32mis\u001b[0m \u001b[0;32mnot\u001b[0m \u001b[0;32mNone\u001b[0m\u001b[0;34m:\u001b[0m\u001b[0;34m\u001b[0m\u001b[0;34m\u001b[0m\u001b[0m\n",
      "\u001b[0;32m~/.local/lib/python3.6/site-packages/omega/symbolic/fixpoint.py\u001b[0m in \u001b[0;36mstep\u001b[0;34m(env_action, sys_action, target, aut)\u001b[0m\n\u001b[1;32m     86\u001b[0m     \u001b[0myp\u001b[0m \u001b[0;34m=\u001b[0m \u001b[0maut\u001b[0m\u001b[0;34m.\u001b[0m\u001b[0mvarlist\u001b[0m\u001b[0;34m[\u001b[0m\u001b[0;34m\"sys'\"\u001b[0m\u001b[0;34m]\u001b[0m\u001b[0;34m\u001b[0m\u001b[0;34m\u001b[0m\u001b[0m\n\u001b[1;32m     87\u001b[0m     \u001b[0mxp\u001b[0m \u001b[0;34m=\u001b[0m \u001b[0maut\u001b[0m\u001b[0;34m.\u001b[0m\u001b[0mvarlist\u001b[0m\u001b[0;34m[\u001b[0m\u001b[0;34m\"env'\"\u001b[0m\u001b[0;34m]\u001b[0m\u001b[0;34m\u001b[0m\u001b[0;34m\u001b[0m\u001b[0m\n\u001b[0;32m---> 88\u001b[0;31m     \u001b[0mu\u001b[0m \u001b[0;34m=\u001b[0m \u001b[0mprm\u001b[0m\u001b[0;34m.\u001b[0m\u001b[0mprime\u001b[0m\u001b[0;34m(\u001b[0m\u001b[0mtarget\u001b[0m\u001b[0;34m,\u001b[0m \u001b[0maut\u001b[0m\u001b[0;34m)\u001b[0m\u001b[0;34m\u001b[0m\u001b[0;34m\u001b[0m\u001b[0m\n\u001b[0m\u001b[1;32m     89\u001b[0m     \u001b[0;32mif\u001b[0m \u001b[0maut\u001b[0m\u001b[0;34m.\u001b[0m\u001b[0mplus_one\u001b[0m\u001b[0;34m:\u001b[0m\u001b[0;34m\u001b[0m\u001b[0;34m\u001b[0m\u001b[0m\n\u001b[1;32m     90\u001b[0m         \u001b[0;31m# sys_action /\\ (env_action => target')\u001b[0m\u001b[0;34m\u001b[0m\u001b[0;34m\u001b[0m\u001b[0;34m\u001b[0m\u001b[0m\n",
      "\u001b[0;32m~/.local/lib/python3.6/site-packages/omega/symbolic/prime.py\u001b[0m in \u001b[0;36mprime\u001b[0;34m(u, fol)\u001b[0m\n\u001b[1;32m    120\u001b[0m     \u001b[0msupport\u001b[0m \u001b[0;34m=\u001b[0m \u001b[0mfol\u001b[0m\u001b[0;34m.\u001b[0m\u001b[0msupport\u001b[0m\u001b[0;34m(\u001b[0m\u001b[0mu\u001b[0m\u001b[0;34m)\u001b[0m\u001b[0;34m\u001b[0m\u001b[0;34m\u001b[0m\u001b[0m\n\u001b[1;32m    121\u001b[0m     \u001b[0;31m# all identifiers are unprimed ?\u001b[0m\u001b[0;34m\u001b[0m\u001b[0;34m\u001b[0m\u001b[0;34m\u001b[0m\u001b[0m\n\u001b[0;32m--> 122\u001b[0;31m     \u001b[0;32massert\u001b[0m \u001b[0;32mnot\u001b[0m \u001b[0many\u001b[0m\u001b[0;34m(\u001b[0m\u001b[0mstx\u001b[0m\u001b[0;34m.\u001b[0m\u001b[0misprimed\u001b[0m\u001b[0;34m(\u001b[0m\u001b[0mname\u001b[0m\u001b[0;34m)\u001b[0m \u001b[0;32mfor\u001b[0m \u001b[0mname\u001b[0m \u001b[0;32min\u001b[0m \u001b[0msupport\u001b[0m\u001b[0;34m)\u001b[0m\u001b[0;34m,\u001b[0m \u001b[0msupport\u001b[0m\u001b[0;34m\u001b[0m\u001b[0;34m\u001b[0m\u001b[0m\n\u001b[0m\u001b[1;32m    123\u001b[0m     \u001b[0;31m# avoid priming constants\u001b[0m\u001b[0;34m\u001b[0m\u001b[0;34m\u001b[0m\u001b[0;34m\u001b[0m\u001b[0m\n\u001b[1;32m    124\u001b[0m     \u001b[0;31m# (no primed identifiers are declared for constants)\u001b[0m\u001b[0;34m\u001b[0m\u001b[0;34m\u001b[0m\u001b[0;34m\u001b[0m\u001b[0m\n",
      "\u001b[0;31mAssertionError\u001b[0m: {'loc', \"loc'\"}"
     ]
    }
   ],
   "source": [
    "# Create a GR(1) specification\n",
    "specs = spec.GRSpec(env_vars, sys_vars, env_init, sys_init,\n",
    "                    env_safe, sys_safe, env_prog, sys_prog)\n",
    "specs.qinit = '\\E \\A'  # Moore initial condition synthesized too\n",
    "\n",
    "ctrl = synth.synthesize(specs)\n",
    "assert ctrl is not None, 'unrealizable'"
   ]
  },
  {
   "cell_type": "code",
   "execution_count": 87,
   "metadata": {},
   "outputs": [
    {
     "name": "stdout",
     "output_type": "stream",
     "text": [
      "X ( loc=69 | loc=71 | loc=78 | loc=79 | loc=61 | loc=62 )\n"
     ]
    }
   ],
   "source": [
    "print(ltl_formula_1)"
   ]
  },
  {
   "cell_type": "code",
   "execution_count": null,
   "metadata": {},
   "outputs": [],
   "source": []
  }
 ],
 "metadata": {
  "kernelspec": {
   "display_name": "Python 3",
   "language": "python",
   "name": "python3"
  },
  "language_info": {
   "codemirror_mode": {
    "name": "ipython",
    "version": 3
   },
   "file_extension": ".py",
   "mimetype": "text/x-python",
   "name": "python",
   "nbconvert_exporter": "python",
   "pygments_lexer": "ipython3",
   "version": "3.6.9"
  }
 },
 "nbformat": 4,
 "nbformat_minor": 4
}
