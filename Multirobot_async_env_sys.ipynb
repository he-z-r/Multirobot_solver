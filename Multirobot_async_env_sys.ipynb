{
 "cells": [
  {
   "cell_type": "code",
   "execution_count": 1,
   "metadata": {},
   "outputs": [
    {
     "name": "stderr",
     "output_type": "stream",
     "text": [
      "`omega.symbolic.symbolic` failed to import `dd.cudd`.\n",
      "Will use `dd.autoref`.\n"
     ]
    }
   ],
   "source": [
    "\"\"\" This script tries only using the TuLiP toolbox to solve a multirobot motion planning problem.\n",
    "Specifically, a field of cells and a number of robots are specified along with the system dynamics,\n",
    "and constraints are written in monolithic LTL syntax.\n",
    "The difference between this script and TuLiP_multirobot_solver.py\n",
    "\"\"\"\n",
    "\n",
    "# Import the packages that we need\n",
    "from __future__ import print_function\n",
    "import numpy as np\n",
    "from tulip import spec\n",
    "from tulip.transys import machines\n",
    "from tulip import synth\n",
    "import gr1_fragment\n",
    "import State_encoding\n",
    "import LTL_encoding"
   ]
  },
  {
   "cell_type": "code",
   "execution_count": 2,
   "metadata": {},
   "outputs": [],
   "source": [
    "# Workspace parameters\n",
    "num_rows = 3\n",
    "num_cols = 2\n",
    "num_robots = 2\n",
    "delay = 1\n",
    "robot_init_pos = np.array([[0, 1], [1, 0]])\n",
    "# The environment variables\n",
    "env_vars = {}\n",
    "env_init = set()\n",
    "env_prog = set()\n",
    "env_safe = set()"
   ]
  },
  {
   "cell_type": "code",
   "execution_count": 3,
   "metadata": {},
   "outputs": [
    {
     "name": "stdout",
     "output_type": "stream",
     "text": [
      "{'x1': (0, 2), 'y1': (0, 3), 'c1': (-1, 2), 'delay1': 'boolean', 'x2': (0, 2), 'y2': (0, 3), 'c2': (-1, 2), 'delay2': 'boolean'}\n"
     ]
    }
   ],
   "source": [
    "for r in range(1, num_robots + 1):\n",
    "    env_vars[('x' + str(r))] = (0, num_cols)\n",
    "    env_vars[('y' + str(r))] = (0, num_rows)\n",
    "    env_vars[('c' + str(r))] = (-1, delay + 1)\n",
    "    env_vars[('delay' + str(r))] = 'boolean'\n",
    "print(env_vars)"
   ]
  },
  {
   "cell_type": "code",
   "execution_count": 4,
   "metadata": {},
   "outputs": [
    {
     "name": "stdout",
     "output_type": "stream",
     "text": [
      "{'c2=0', 'y1=1', 'c1=0', 'x2=1', 'x1=0', 'y2=0'}\n"
     ]
    }
   ],
   "source": [
    "env_init |= {'c1=0'}\n",
    "env_init |= {'c2=0'}\n",
    "for r in range(1, num_robots + 1):\n",
    "    env_init |= {'x' + str(r) + '=' + str(robot_init_pos[r - 1][0])}\n",
    "    env_init |= {'y' + str(r) + '=' + str(robot_init_pos[r - 1][1])}\n",
    "print(env_init)"
   ]
  },
  {
   "cell_type": "code",
   "execution_count": 5,
   "metadata": {},
   "outputs": [
    {
     "name": "stdout",
     "output_type": "stream",
     "text": [
      "{'( x1=0 && down1 ) -> X( x1=0 )', '( x1=0 && up1 ) -> X( x1=0 )', '( x1=1 && left1 ) -> ( ( X(x1=0) && !delay1 ) || ( X(x1=1) && delay1 ) )', '( x1=1 && stop1 ) -> ( X( x1=1 ) && ( !delay1 ) )', '( x2=0 && up2 ) -> X( x2=0 )', '( x2=0 && stop2 ) -> ( X( x2=0 ) && ( !delay2 ) )', '( x2=1 && down2 ) -> X( x2=1 )', '( x2=0 && down2 ) -> X( x2=0 )', '( x1=0 && stop1 ) -> ( X( x1=0 ) && ( !delay1 ) )', '( x1=1 && down1 ) -> X( x1=1 )', '( x2=0 && right2 ) -> ( ( X(x2=1) && !delay2 ) || ( X(x2=0) && delay2 ) )', '( x2=1 && stop2 ) -> ( X( x2=1 ) && ( !delay2 ) )', '( x2=1 && left2 ) -> ( ( X(x2=0) && !delay2 ) || ( X(x2=1) && delay2 ) )', '( x2=1 && up2 ) -> X( x2=1 )', '( x1=1 && up1 ) -> X( x1=1 )', '( x1=0 && right1 ) -> ( ( X(x1=1) && !delay1 ) || ( X(x1=0) && delay1 ) )'}\n",
      "{'( y2=2 && down2 ) -> ( ( X(y2=1) && !delay2 ) || ( X(y2=2) && delay2 ) )', '( y2=1 && down2 ) -> ( ( X(y2=0) && !delay2 ) || ( X(y2=1) && delay2 ) )', '( y1=2 && left1 ) -> X( y1=2 )', '( y1=1 && left1 ) -> X( y1=1 )', '( y1=0 && left1 ) -> X( y1=0 )', '( y2=0 && right2 ) -> X( y2=0 )', '( y2=0 && up2 ) -> ( ( X(y2=1) && !delay2 ) || ( X(y2=0) && delay2 ) )', '( y1=2 && right1 ) -> X( y1=2 )', '( y2=1 && left2 ) -> X( y2=1 )', '( y2=2 && left2 ) -> X( y2=2 )', '( y1=1 && stop1 ) -> ( X( y1=1 ) && ( !delay1 ) )', '( y2=2 && right2 ) -> X( y2=2 )', '( y2=0 && left2 ) -> X( y2=0 )', '( y2=1 && up2 ) -> ( ( X(y2=2) && !delay2 ) || ( X(y2=1) && delay2 ) )', '( y2=0 && stop2 ) -> ( X( y2=0 ) && ( !delay2 ) )', '( y1=0 && up1 ) -> ( ( X(y1=1) && !delay1 ) || ( X(y1=0) && delay1 ) )', '( y2=1 && right2 ) -> X( y2=1 )', '( y1=0 && stop1 ) -> ( X( y1=0 ) && ( !delay1 ) )', '( y1=1 && up1 ) -> ( ( X(y1=2) && !delay1 ) || ( X(y1=1) && delay1 ) )', '( y1=2 && down1 ) -> ( ( X(y1=1) && !delay1 ) || ( X(y1=2) && delay1 ) )', '( y2=2 && stop2 ) -> ( X( y2=2 ) && ( !delay2 ) )', '( y1=0 && right1 ) -> X( y1=0 )', '( y1=2 && stop1 ) -> ( X( y1=2 ) && ( !delay1 ) )', '( y2=1 && stop2 ) -> ( X( y2=1 ) && ( !delay2 ) )', '( y1=1 && down1 ) -> ( ( X(y1=0) && !delay1 ) || ( X(y1=1) && delay1 ) )', '( y1=1 && right1 ) -> X( y1=1 )'}\n"
     ]
    }
   ],
   "source": [
    "# Now no need to encode that each robot should only appear in one position\n",
    "# Encode the transition relations\n",
    "env_trans_x = set()\n",
    "env_trans_y = set()\n",
    "for r in range(1, num_robots + 1):\n",
    "    for col in range(num_cols):\n",
    "        if col != num_cols - 1:\n",
    "            env_trans_x |= {'( x' + str(r) + '=' + str(col) + ' && right' + str(r) + ' ) -> ( ( X(x' + str(r) + '=' +\n",
    "                            str(col+1) + ') && !delay' + str(r) + ' ) || ( X(x' + str(r) + '=' + str(col) +\n",
    "                            ') && delay' + str(r) + ' ) )'}\n",
    "        if col != 0:\n",
    "            env_trans_x |= {'( x' + str(r) + '=' + str(col) + ' && left' + str(r) + ' ) -> ( ( X(x' + str(r) + '=' +\n",
    "                            str(col - 1) + ') && !delay' + str(r) + ' ) || ( X(x' + str(r) + '=' + str(col) +\n",
    "                            ') && delay' + str(r) + ' ) )'}\n",
    "        env_trans_x |= {'( x' + str(r) + '=' + str(col) + ' && up' + str(r) + ' ) -> X( x' + str(r) + '=' + str(col) +\n",
    "                        ' )'}\n",
    "        env_trans_x |= {'( x' + str(r) + '=' + str(col) + ' && down' + str(r) + ' ) -> X( x' + str(r) + '=' + str(col) +\n",
    "                        ' )'}\n",
    "        env_trans_x |= {'( x' + str(r) + '=' + str(col) + ' && stop' + str(r) + ' ) -> ( X( x' + str(r) + '=' + str(col) +\n",
    "                        ' ) && ( !delay' + str(r) + ' ) )'}\n",
    "    for row in range(num_rows):\n",
    "        if row != num_rows - 1:\n",
    "            env_trans_y |= {'( y' + str(r) + '=' + str(row) + ' && up' + str(r) + ' ) -> ( ( X(y' + str(r) + '=' +\n",
    "                            str(row + 1) + ') && !delay' + str(r) + ' ) || ( X(y' + str(r) + '=' + str(row) +\n",
    "                            ') && delay' + str(r) + ' ) )'}\n",
    "        if row != 0:\n",
    "            env_trans_y |= {'( y' + str(r) + '=' + str(row) + ' && down' + str(r) + ' ) -> ( ( X(y' + str(r) + '=' +\n",
    "                            str(row - 1) + ') && !delay' + str(r) + ' ) || ( X(y' + str(r) + '=' + str(row) +\n",
    "                            ') && delay' + str(r) + ' ) )'}\n",
    "        env_trans_y |= {'( y' + str(r) + '=' + str(row) + ' && left' + str(r) + ' ) -> X( y' + str(r) + '=' + str(row) +\n",
    "                        ' )'}\n",
    "        env_trans_y |= {'( y' + str(r) + '=' + str(row) + ' && right' + str(r) + ' ) -> X( y' + str(r) + '=' + str(row) +\n",
    "                        ' )'}\n",
    "        env_trans_y |= {'( y' + str(r) + '=' + str(row) + ' && stop' + str(r) + ' ) -> ( X( y' + str(r) + '=' + str(row) +\n",
    "                        ' ) && ( !delay' + str(r) + ' ) )'}\n",
    "print(env_trans_x)\n",
    "print(env_trans_y)\n",
    "env_safe |= env_trans_x\n",
    "env_safe |= env_trans_y"
   ]
  },
  {
   "cell_type": "code",
   "execution_count": 6,
   "metadata": {},
   "outputs": [
    {
     "name": "stdout",
     "output_type": "stream",
     "text": [
      "( ( delay1 && c1=1 ) || ( delay2 && c2=1 ) ) -> ( ( ( !delay1 && c1=0 ) -> X(c1=-1) ) && ( ( delay1 && c1=0 ) -> X(c1=0) ) && ( ( !delay1 && c1=1 ) -> X(c1=0) ) && ( ( delay1 && c1=1 ) -> X(c1=1) ) && ( ( !delay2 && c2=0 ) -> X(c2=-1) ) && ( ( delay2 && c2=0 ) -> X(c2=0) ) && ( ( !delay2 && c2=1 ) -> X(c2=0) ) && ( ( delay2 && c2=1 ) -> X(c2=1) ) )\n",
      "!( ( delay1 && c1=1 ) || ( delay2 && c2=1 ) ) -> ( ( ( delay1 && c1=0 ) -> X(c1=1) ) && ( ( !delay1 && c1=0 ) -> X(c1=0) ) && ( ( delay1 && c1=1 ) -> X(c1=2) ) && ( ( !delay1 && c1=1 ) -> X(c1=1) ) && ( ( delay2 && c2=0 ) -> X(c2=1) ) && ( ( !delay2 && c2=0 ) -> X(c2=0) ) && ( ( delay2 && c2=1 ) -> X(c2=2) ) && ( ( !delay2 && c2=1 ) -> X(c2=1) ) )\n"
     ]
    }
   ],
   "source": [
    "# Relate the delay variables (delay#) to the clock variables (c#)\n",
    "delay2clock_minus = '( '\n",
    "delay2clock_plus = ''\n",
    "for r in range(1, num_robots + 1):\n",
    "    delay2clock_minus += '( delay' + str(r) + ' && c' + str(r) + '=' + str(delay) + ' ) || '\n",
    "delay2clock_minus = delay2clock_minus[:-3] + ') -> ( '\n",
    "delay2clock_plus = '!' + delay2clock_minus\n",
    "for r in range(1, num_robots + 1):\n",
    "    for c in range(delay + 1):\n",
    "        delay2clock_minus += '( ( !delay' + str(r) + ' && c' + str(r) + '=' + str(c) + ' ) -> X(c' + str(r) + '=' + \\\n",
    "                             str(c - 1) + ') ) && '\n",
    "        delay2clock_minus += '( ( delay' + str(r) + ' && c' + str(r) + '=' + str(c) + ' ) -> X(c' + str(r) + '=' + \\\n",
    "                             str(c) + ') ) && '\n",
    "        delay2clock_plus += '( ( delay' + str(r) + ' && c' + str(r) + '=' + str(c) + ' ) -> X(c' + str(r) + '=' + \\\n",
    "                            str(c + 1) + ') ) && '\n",
    "        delay2clock_plus += '( ( !delay' + str(r) + ' && c' + str(r) + '=' + str(c) + ' ) -> X(c' + str(r) + '=' + \\\n",
    "                            str(c) + ') ) && '\n",
    "delay2clock_minus = delay2clock_minus[:-3] + ')'\n",
    "delay2clock_plus = delay2clock_plus[:-3] + ')'\n",
    "print(delay2clock_minus)\n",
    "print(delay2clock_plus)\n",
    "env_safe |= {delay2clock_minus}\n",
    "env_safe |= {delay2clock_plus}"
   ]
  },
  {
   "cell_type": "code",
   "execution_count": 7,
   "metadata": {},
   "outputs": [
    {
     "name": "stdout",
     "output_type": "stream",
     "text": [
      "{'stop1': 'boolean', 'left1': 'boolean', 'right1': 'boolean', 'up1': 'boolean', 'down1': 'boolean', 'stop2': 'boolean', 'left2': 'boolean', 'right2': 'boolean', 'up2': 'boolean', 'down2': 'boolean'}\n"
     ]
    }
   ],
   "source": [
    "# Define sys_vars\n",
    "sys_vars = {}\n",
    "for r in range(1, num_robots + 1):\n",
    "    sys_vars['stop' + str(r)] = 'boolean'\n",
    "    sys_vars['left' + str(r)] = 'boolean'\n",
    "    sys_vars['right' + str(r)] = 'boolean'\n",
    "    sys_vars['up' + str(r)] = 'boolean'\n",
    "    sys_vars['down' + str(r)] = 'boolean'\n",
    "print(sys_vars)"
   ]
  },
  {
   "cell_type": "code",
   "execution_count": 8,
   "metadata": {},
   "outputs": [],
   "source": [
    "# Define initial command. Assume nothing.\n",
    "sys_init = set()\n",
    "\n",
    "sys_safe = set()\n",
    "sys_prog = set()"
   ]
  },
  {
   "cell_type": "code",
   "execution_count": 9,
   "metadata": {},
   "outputs": [
    {
     "name": "stdout",
     "output_type": "stream",
     "text": [
      "{'!(c1=2)', '!(c1=-1)', '!(c2=-1)', '!(c2=2)'}\n"
     ]
    }
   ],
   "source": [
    "# Constraint on the maximum delay\n",
    "sys_max_delay = set()\n",
    "for r in range(1, num_robots + 1):\n",
    "    sys_max_delay |= {'!(c' + str(r) + '=' + '-1)'}\n",
    "    sys_max_delay |= {'!(c' + str(r) + '=' + str(delay + 1) + ')'}\n",
    "print(sys_max_delay)\n",
    "sys_safe |= sys_max_delay"
   ]
  },
  {
   "cell_type": "code",
   "execution_count": 10,
   "metadata": {},
   "outputs": [
    {
     "name": "stdout",
     "output_type": "stream",
     "text": [
      "{'x1=1 -> !right1', 'y2=2 -> !up2', 'x2=1 -> !right2', 'y1=0 -> !down1', 'x1=0 -> !left1', 'y1=2 -> !up1', 'y2=0 -> !down2', 'x2=0 -> !left2'}\n"
     ]
    }
   ],
   "source": [
    "# Avoid bad actions\n",
    "sys_bad_act = set()\n",
    "for r in range(1, num_robots + 1):\n",
    "    sys_bad_act |= {'x' + str(r) + '=0 -> !left' + str(r)}\n",
    "    sys_bad_act |= {'x' + str(r) + '=' + str(num_cols - 1) + ' -> !right' + str(r)}\n",
    "    sys_bad_act |= {'y' + str(r) + '=0 -> !down' + str(r)}\n",
    "    sys_bad_act |= {'y' + str(r) + '=' + str(num_rows - 1) + ' -> !up' + str(r)}\n",
    "print(sys_bad_act)\n",
    "sys_safe |= sys_bad_act"
   ]
  },
  {
   "cell_type": "code",
   "execution_count": 11,
   "metadata": {},
   "outputs": [
    {
     "name": "stdout",
     "output_type": "stream",
     "text": [
      "{'( left2 ) <-> ( !right2 && !up2 && !down2 && !stop2 )', '( down2 ) <-> ( !right2 && !up2 && !left2 && !stop2 )', '( down1 ) <-> ( !right1 && !up1 && !left1 && !stop1 )', '( up1 ) <-> ( !right1 && !left1 && !down1 && !stop1 )', '( right1 ) <-> ( !left1 && !up1 && !down1 && !stop1 )', '( stop1 ) <-> ( !right1 && !up1 && !down1 && !left1 )', '( right2 ) <-> ( !left2 && !up2 && !down2 && !stop2 )', '( up2 ) <-> ( !right2 && !left2 && !down2 && !stop2 )', '( left1 ) <-> ( !right1 && !up1 && !down1 && !stop1 )', '( stop2 ) <-> ( !right2 && !up2 && !down2 && !left2 )'}\n"
     ]
    }
   ],
   "source": [
    "# Encode the constraint that each time exactly one action must be chosen\n",
    "sys_good_act = set()\n",
    "for r in range(1, num_robots + 1):\n",
    "    sys_good_act |= {'( left' + str(r) + ' ) <-> ( ' + '!right' + str(r) + ' && ' + '!up' + str(r) + ' && ' + '!down' +\n",
    "                str(r) + ' && ' + '!stop' + str(r) + ' )'}\n",
    "    sys_good_act |= {'( right' + str(r) + ' ) <-> ( ' + '!left' + str(r) + ' && ' + '!up' + str(r) + ' && ' + '!down' +\n",
    "                str(r) + ' && ' + '!stop' + str(r) + ' )'}\n",
    "    sys_good_act |= {'( up' + str(r) + ' ) <-> ( ' + '!right' + str(r) + ' && ' + '!left' + str(r) + ' && ' + '!down' +\n",
    "                str(r) + ' && ' + '!stop' + str(r) + ' )'}\n",
    "    sys_good_act |= {'( down' + str(r) + ' ) <-> ( ' + '!right' + str(r) + ' && ' + '!up' + str(r) + ' && ' + '!left' +\n",
    "                str(r) + ' && ' + '!stop' + str(r) + ' )'}\n",
    "    sys_good_act |= {'( stop' + str(r) + ' ) <-> ( ' + '!right' + str(r) + ' && ' + '!up' + str(r) + ' && ' + '!down' +\n",
    "                str(r) + ' && ' + '!left' + str(r) + ' )'}\n",
    "sys_safe |= sys_good_act\n",
    "print(sys_good_act)"
   ]
  },
  {
   "cell_type": "code",
   "execution_count": 12,
   "metadata": {},
   "outputs": [
    {
     "name": "stdout",
     "output_type": "stream",
     "text": [
      "{'( delay2 && down2 ) -> X( down2 )', '( delay1 && up1 ) -> X( up1 )', '( delay1 && right1 ) -> X( right1 )', '( delay2 && up2 ) -> X( up2 )', '( delay1 && down1 ) -> X( down1 )', '( delay1 && left1 ) -> X( left1 )', '( delay2 && right2 ) -> X( right2 )', '( delay2 && left2 ) -> X( left2 )'}\n"
     ]
    }
   ],
   "source": [
    "# Encode the constraint that if the last action was not executed yet, the same action should the next action\n",
    "sys_same_act = set()\n",
    "for r in range(1, num_robots + 1):\n",
    "    sys_same_act |= {'( delay' + str(r) + ' && left' + str(r) + ' ) -> X( left' + str(r) + ' )'}\n",
    "    sys_same_act |= {'( delay' + str(r) + ' && right' + str(r) + ' ) -> X( right' + str(r) + ' )'}\n",
    "    sys_same_act |= {'( delay' + str(r) + ' && up' + str(r) + ' ) -> X( up' + str(r) + ' )'}\n",
    "    sys_same_act |= {'( delay' + str(r) + ' && down' + str(r) + ' ) -> X( down' + str(r) + ' )'}\n",
    "print(sys_same_act)\n",
    "sys_safe |= sys_same_act"
   ]
  },
  {
   "cell_type": "code",
   "execution_count": 13,
   "metadata": {},
   "outputs": [],
   "source": [
    "# User-defined system requirements\n",
    "# Constraint 1: []<>([[0, 0], [0, 1], [0, 2]], 2)\n",
    "# Constraint 2: []!([1, 1], 1)\n",
    "# Constraint 3: ([]<>[1, 2], 2)\n",
    "\n",
    "sys_prog |= {'(x1=0) && (x2=0)'}\n",
    "sys_safe |= {'!(x1=1 && y1=1) && !(x2=1 && y2=1)'}\n",
    "sys_prog |= {'x1=1 && y1=2'}\n",
    "sys_prog |= {'x2=1 && y2=2'}"
   ]
  },
  {
   "cell_type": "code",
   "execution_count": 14,
   "metadata": {},
   "outputs": [],
   "source": [
    "# Create a GR(1) specification\n",
    "specs = spec.GRSpec(env_vars, sys_vars, env_init, sys_init,\n",
    "                    env_safe, sys_safe, env_prog, sys_prog)\n",
    "specs.qinit = '\\E \\A'  # Moore initial condition synthesized too\n",
    "specs.moore = False\n",
    "specs.plus_one = False"
   ]
  },
  {
   "cell_type": "code",
   "execution_count": 15,
   "metadata": {},
   "outputs": [],
   "source": [
    "specs.check_syntax()"
   ]
  },
  {
   "cell_type": "code",
   "execution_count": null,
   "metadata": {},
   "outputs": [
    {
     "name": "stdout",
     "output_type": "stream",
     "text": [
      "Start synthesis\n"
     ]
    }
   ],
   "source": [
    "print('Start synthesis')\n",
    "ctrl = synth.synthesize(specs)\n",
    "print('End synthesis')\n",
    "assert ctrl is not None, 'unrealizable'"
   ]
  },
  {
   "cell_type": "code",
   "execution_count": null,
   "metadata": {},
   "outputs": [],
   "source": [
    "machines.random_run(ctrl, N=30)"
   ]
  }
 ],
 "metadata": {
  "kernelspec": {
   "display_name": "Python 3",
   "language": "python",
   "name": "python3"
  },
  "language_info": {
   "codemirror_mode": {
    "name": "ipython",
    "version": 3
   },
   "file_extension": ".py",
   "mimetype": "text/x-python",
   "name": "python",
   "nbconvert_exporter": "python",
   "pygments_lexer": "ipython3",
   "version": "3.6.9"
  }
 },
 "nbformat": 4,
 "nbformat_minor": 4
}
