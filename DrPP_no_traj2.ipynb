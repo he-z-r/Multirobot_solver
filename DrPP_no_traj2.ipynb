{
 "cells": [
  {
   "cell_type": "code",
   "execution_count": 1,
   "metadata": {},
   "outputs": [
    {
     "name": "stderr",
     "output_type": "stream",
     "text": [
      "`omega.symbolic.symbolic` failed to import `dd.cudd`.\n",
      "Will use `dd.autoref`.\n"
     ]
    }
   ],
   "source": [
    "\"\"\" This script tries only using the TuLiP toolbox to solve a multirobot path planning (MrPP) problem.\n",
    "As opposed to multirobot path execution (MrPE) problem, predefined paths are not given\n",
    "\"\"\"\n",
    "\n",
    "# Import the packages that we need\n",
    "from __future__ import print_function\n",
    "import numpy as np\n",
    "from tulip import spec\n",
    "from tulip.transys import machines\n",
    "from tulip import synth\n",
    "import gr1_fragment"
   ]
  },
  {
   "cell_type": "code",
   "execution_count": 2,
   "metadata": {},
   "outputs": [],
   "source": [
    "# Define the parameters & desired trajectories\n",
    "num_robots = 2  # must be > 1\n",
    "num_cells = 10\n",
    "init = np.array([1, 10])\n",
    "dest = np.array([8, 3])"
   ]
  },
  {
   "cell_type": "code",
   "execution_count": 3,
   "metadata": {},
   "outputs": [],
   "source": [
    "# Define the env_vars based on the params % trajectories\n",
    "env_vars = set()\n",
    "env_vars_list = []\n",
    "for r in range(1, num_robots + 1):\n",
    "    env_vars_list.append([])\n",
    "    for p in range(1, num_cells + 1):\n",
    "        new_env_var = 's' + str(r) + 'a' + str(p)\n",
    "        env_vars |= {new_env_var}\n",
    "        env_vars_list[r - 1].append(new_env_var)"
   ]
  },
  {
   "cell_type": "code",
   "execution_count": 4,
   "metadata": {},
   "outputs": [
    {
     "name": "stdout",
     "output_type": "stream",
     "text": [
      "{'s2a4', 's2a6', 's1a9', 's1a5', 's2a9', 's2a1', 's1a8', 's1a4', 's2a7', 's2a5', 's2a3', 's2a10', 's2a8', 's1a3', 's1a6', 's1a2', 's2a2', 's1a7', 's1a1', 's1a10'}\n"
     ]
    }
   ],
   "source": [
    "print(env_vars)"
   ]
  },
  {
   "cell_type": "code",
   "execution_count": 5,
   "metadata": {},
   "outputs": [
    {
     "name": "stdout",
     "output_type": "stream",
     "text": [
      "[['s1a1', 's1a2', 's1a3', 's1a4', 's1a5', 's1a6', 's1a7', 's1a8', 's1a9', 's1a10'], ['s2a1', 's2a2', 's2a3', 's2a4', 's2a5', 's2a6', 's2a7', 's2a8', 's2a9', 's2a10']]\n"
     ]
    }
   ],
   "source": [
    "print(env_vars_list)"
   ]
  },
  {
   "cell_type": "code",
   "execution_count": 6,
   "metadata": {},
   "outputs": [],
   "source": [
    "# Define the initial conditions\n",
    "env_init = set()\n",
    "for r in range(num_robots):\n",
    "    env_init |= {env_vars_list[r][init[r] - 1]}"
   ]
  },
  {
   "cell_type": "code",
   "execution_count": 7,
   "metadata": {},
   "outputs": [
    {
     "name": "stdout",
     "output_type": "stream",
     "text": [
      "{'s2a10', 's1a1'}\n"
     ]
    }
   ],
   "source": [
    "print(env_init)"
   ]
  },
  {
   "cell_type": "code",
   "execution_count": 8,
   "metadata": {},
   "outputs": [],
   "source": [
    "env_safe = set()\n",
    "env_prog = set()\n",
    "# Encode the constraint that each robot can only appear in one position\n",
    "env_unique = set()\n",
    "for r in range(1, num_robots + 1):\n",
    "    for i in range(len(env_vars_list[r - 1])):\n",
    "        new_env_unique = '( ' + env_vars_list[r - 1][i] + ' ) <-> ( '\n",
    "        for j in range(len(env_vars_list[r - 1])):\n",
    "            if j != i:\n",
    "                new_env_unique += '!' + env_vars_list[r - 1][j] + ' && '\n",
    "        new_env_unique = new_env_unique[:-3] + ')'\n",
    "        env_unique |= {new_env_unique}\n",
    "env_safe |= env_unique"
   ]
  },
  {
   "cell_type": "code",
   "execution_count": 9,
   "metadata": {},
   "outputs": [
    {
     "name": "stdout",
     "output_type": "stream",
     "text": [
      "{'( s2a4 ) <-> ( !s2a1 && !s2a2 && !s2a3 && !s2a5 && !s2a6 && !s2a7 && !s2a8 && !s2a9 && !s2a10 )', '( s1a10 ) <-> ( !s1a1 && !s1a2 && !s1a3 && !s1a4 && !s1a5 && !s1a6 && !s1a7 && !s1a8 && !s1a9 )', '( s2a9 ) <-> ( !s2a1 && !s2a2 && !s2a3 && !s2a4 && !s2a5 && !s2a6 && !s2a7 && !s2a8 && !s2a10 )', '( s2a1 ) <-> ( !s2a2 && !s2a3 && !s2a4 && !s2a5 && !s2a6 && !s2a7 && !s2a8 && !s2a9 && !s2a10 )', '( s1a6 ) <-> ( !s1a1 && !s1a2 && !s1a3 && !s1a4 && !s1a5 && !s1a7 && !s1a8 && !s1a9 && !s1a10 )', '( s1a5 ) <-> ( !s1a1 && !s1a2 && !s1a3 && !s1a4 && !s1a6 && !s1a7 && !s1a8 && !s1a9 && !s1a10 )', '( s2a6 ) <-> ( !s2a1 && !s2a2 && !s2a3 && !s2a4 && !s2a5 && !s2a7 && !s2a8 && !s2a9 && !s2a10 )', '( s1a7 ) <-> ( !s1a1 && !s1a2 && !s1a3 && !s1a4 && !s1a5 && !s1a6 && !s1a8 && !s1a9 && !s1a10 )', '( s2a5 ) <-> ( !s2a1 && !s2a2 && !s2a3 && !s2a4 && !s2a6 && !s2a7 && !s2a8 && !s2a9 && !s2a10 )', '( s1a1 ) <-> ( !s1a2 && !s1a3 && !s1a4 && !s1a5 && !s1a6 && !s1a7 && !s1a8 && !s1a9 && !s1a10 )', '( s2a3 ) <-> ( !s2a1 && !s2a2 && !s2a4 && !s2a5 && !s2a6 && !s2a7 && !s2a8 && !s2a9 && !s2a10 )', '( s2a7 ) <-> ( !s2a1 && !s2a2 && !s2a3 && !s2a4 && !s2a5 && !s2a6 && !s2a8 && !s2a9 && !s2a10 )', '( s1a4 ) <-> ( !s1a1 && !s1a2 && !s1a3 && !s1a5 && !s1a6 && !s1a7 && !s1a8 && !s1a9 && !s1a10 )', '( s2a2 ) <-> ( !s2a1 && !s2a3 && !s2a4 && !s2a5 && !s2a6 && !s2a7 && !s2a8 && !s2a9 && !s2a10 )', '( s1a2 ) <-> ( !s1a1 && !s1a3 && !s1a4 && !s1a5 && !s1a6 && !s1a7 && !s1a8 && !s1a9 && !s1a10 )', '( s1a3 ) <-> ( !s1a1 && !s1a2 && !s1a4 && !s1a5 && !s1a6 && !s1a7 && !s1a8 && !s1a9 && !s1a10 )', '( s2a8 ) <-> ( !s2a1 && !s2a2 && !s2a3 && !s2a4 && !s2a5 && !s2a6 && !s2a7 && !s2a9 && !s2a10 )', '( s2a10 ) <-> ( !s2a1 && !s2a2 && !s2a3 && !s2a4 && !s2a5 && !s2a6 && !s2a7 && !s2a8 && !s2a9 )', '( s1a9 ) <-> ( !s1a1 && !s1a2 && !s1a3 && !s1a4 && !s1a5 && !s1a6 && !s1a7 && !s1a8 && !s1a10 )', '( s1a8 ) <-> ( !s1a1 && !s1a2 && !s1a3 && !s1a4 && !s1a5 && !s1a6 && !s1a7 && !s1a9 && !s1a10 )'}\n"
     ]
    }
   ],
   "source": [
    "print(env_unique)"
   ]
  },
  {
   "cell_type": "code",
   "execution_count": 10,
   "metadata": {},
   "outputs": [],
   "source": [
    "# Encode the transition system relations\n",
    "# transition = np.array([[0, 2, 7, 5], [1, 3, 0, 0], [2, 4, 0, 6], [3, 0, 0, 8], [0, 0, 1, 0], [0, 0, 3, 0], [0, 0, 0, 1], [0, 0, 4, 0]])\n",
    "# transition = np.array([[0, 2, 0, 0], [1, 0, 0, 0]])\n",
    "# transition = np.array([[0, 2, 0, 0], [1, 3, 0, 0], [0, 2, 0, 0]])\n",
    "transition = np.array([[0, 2, 0, 0], [1, 3, 0, 4], [2, 0, 0, 0], [0, 0, 2, 5], [9, 0, 4, 6], [0, 0, 5, 7], [8, 10, 6, 0], [0, 7, 0, 0], [0, 5, 4, 6], [7, 0, 0, 0]])\n",
    "actions = ['up', 'down', 'left', 'right']\n",
    "env_trans = set()\n",
    "sys_bad_act = set()\n",
    "# env_trans |= {'( s1a1 ) -> ( stop1 || down1 )'}\n",
    "# env_trans |= {'( s1a2 ) -> ( stop1 || up1 )'}\n",
    "for i in range(1, num_cells + 1):\n",
    "    for r in range(num_robots):\n",
    "        for d in range(4):\n",
    "            if transition[i - 1][d] > 0:\n",
    "                env_trans |= {'( ' + env_vars_list[r][i - 1] + ' && ' + actions[d] + str(r + 1) + ' ) -> X( ' +\n",
    "                            env_vars_list[r][i - 1] + ' || ' + env_vars_list[r][transition[i - 1][d] - 1] + ' )'}\n",
    "                # env_trans |= {'( ' + env_vars_list[r][i - 1] + ' && ' + actions[d] + str(r + 1) + ' ) -> X( ' +\n",
    "                            # env_vars_list[r][transition[i - 1][d] - 1] + ' )'}\n",
    "            else:\n",
    "                sys_bad_act |= {'( ' + env_vars_list[r][i - 1] + ' ) -> ( !' + actions[d] + str(r + 1) + ' )'}\n",
    "                # env_trans |= {'( ' + env_vars_list[r][i - 1] + ' && ' + actions[d] + str(r + 1) + ' ) -> X( ' +\n",
    "                      #  env_vars_list[r][i - 1] + ' )'}\n",
    "        env_trans |= {'( ' + env_vars_list[r][i - 1] + ' && ' + 'stop' + str(r + 1) + ' ) -> X( ' +\n",
    "                      env_vars_list[r][i - 1] + ' )'}\n",
    "\n",
    "env_safe |= env_trans"
   ]
  },
  {
   "cell_type": "code",
   "execution_count": 11,
   "metadata": {},
   "outputs": [
    {
     "name": "stdout",
     "output_type": "stream",
     "text": [
      "{'( s2a7 && stop2 ) -> X( s2a7 )', '( s1a2 && stop1 ) -> X( s1a2 )', '( s2a7 && up2 ) -> X( s2a7 || s2a8 )', '( s2a4 && stop2 ) -> X( s2a4 )', '( s2a7 && down2 ) -> X( s2a7 || s2a10 )', '( s2a6 && left2 ) -> X( s2a6 || s2a5 )', '( s1a8 && down1 ) -> X( s1a8 || s1a7 )', '( s2a8 && down2 ) -> X( s2a8 || s2a7 )', '( s2a6 && stop2 ) -> X( s2a6 )', '( s1a10 && up1 ) -> X( s1a10 || s1a7 )', '( s1a2 && right1 ) -> X( s1a2 || s1a4 )', '( s1a3 && up1 ) -> X( s1a3 || s1a2 )', '( s2a3 && stop2 ) -> X( s2a3 )', '( s2a2 && up2 ) -> X( s2a2 || s2a1 )', '( s2a4 && right2 ) -> X( s2a4 || s2a5 )', '( s2a5 && stop2 ) -> X( s2a5 )', '( s1a7 && down1 ) -> X( s1a7 || s1a10 )', '( s1a9 && right1 ) -> X( s1a9 || s1a6 )', '( s1a10 && stop1 ) -> X( s1a10 )', '( s2a10 && up2 ) -> X( s2a10 || s2a7 )', '( s2a4 && left2 ) -> X( s2a4 || s2a2 )', '( s1a7 && up1 ) -> X( s1a7 || s1a8 )', '( s1a6 && left1 ) -> X( s1a6 || s1a5 )', '( s2a8 && stop2 ) -> X( s2a8 )', '( s1a4 && left1 ) -> X( s1a4 || s1a2 )', '( s1a5 && right1 ) -> X( s1a5 || s1a6 )', '( s1a9 && left1 ) -> X( s1a9 || s1a4 )', '( s1a2 && up1 ) -> X( s1a2 || s1a1 )', '( s1a8 && stop1 ) -> X( s1a8 )', '( s2a3 && up2 ) -> X( s2a3 || s2a2 )', '( s2a6 && right2 ) -> X( s2a6 || s2a7 )', '( s1a5 && up1 ) -> X( s1a5 || s1a9 )', '( s1a9 && stop1 ) -> X( s1a9 )', '( s1a6 && right1 ) -> X( s1a6 || s1a7 )', '( s1a6 && stop1 ) -> X( s1a6 )', '( s2a1 && stop2 ) -> X( s2a1 )', '( s2a1 && down2 ) -> X( s2a1 || s2a2 )', '( s2a5 && right2 ) -> X( s2a5 || s2a6 )', '( s1a1 && stop1 ) -> X( s1a1 )', '( s1a2 && down1 ) -> X( s1a2 || s1a3 )', '( s1a9 && down1 ) -> X( s1a9 || s1a5 )', '( s1a5 && stop1 ) -> X( s1a5 )', '( s2a7 && left2 ) -> X( s2a7 || s2a6 )', '( s2a2 && stop2 ) -> X( s2a2 )', '( s2a5 && left2 ) -> X( s2a5 || s2a4 )', '( s2a5 && up2 ) -> X( s2a5 || s2a9 )', '( s1a1 && down1 ) -> X( s1a1 || s1a2 )', '( s2a9 && down2 ) -> X( s2a9 || s2a5 )', '( s1a5 && left1 ) -> X( s1a5 || s1a4 )', '( s2a10 && stop2 ) -> X( s2a10 )', '( s1a7 && stop1 ) -> X( s1a7 )', '( s2a9 && right2 ) -> X( s2a9 || s2a6 )', '( s2a9 && left2 ) -> X( s2a9 || s2a4 )', '( s2a2 && right2 ) -> X( s2a2 || s2a4 )', '( s2a2 && down2 ) -> X( s2a2 || s2a3 )', '( s1a7 && left1 ) -> X( s1a7 || s1a6 )', '( s1a4 && stop1 ) -> X( s1a4 )', '( s2a9 && stop2 ) -> X( s2a9 )', '( s1a3 && stop1 ) -> X( s1a3 )', '( s1a4 && right1 ) -> X( s1a4 || s1a5 )'}\n"
     ]
    }
   ],
   "source": [
    "print(env_trans)"
   ]
  },
  {
   "cell_type": "code",
   "execution_count": 12,
   "metadata": {},
   "outputs": [
    {
     "name": "stdout",
     "output_type": "stream",
     "text": [
      "60\n"
     ]
    }
   ],
   "source": [
    "print(len(env_trans))"
   ]
  },
  {
   "cell_type": "code",
   "execution_count": 13,
   "metadata": {},
   "outputs": [],
   "source": [
    "# Encode the constraint that every robot should stay after reaching its destination\n",
    "#env_dest_stop = set()\n",
    "sys_dest = set()\n",
    "for r in range(num_robots):\n",
    "    #env_dest_stop |= {'( ' + env_vars_list[r][dest[r] - 1] + ' ) -> X( ' + env_vars_list[r][dest[r] - 1] + ' )'}\n",
    "    sys_dest |= {env_vars_list[r][dest[r] - 1]}\n",
    "#env_safe |= env_dest_stop"
   ]
  },
  {
   "cell_type": "code",
   "execution_count": 14,
   "metadata": {},
   "outputs": [],
   "source": [
    "# print(env_dest_stop)"
   ]
  },
  {
   "cell_type": "code",
   "execution_count": 15,
   "metadata": {},
   "outputs": [
    {
     "name": "stdout",
     "output_type": "stream",
     "text": [
      "{'s2a3', 's1a8'}\n"
     ]
    }
   ],
   "source": [
    "print(sys_dest)"
   ]
  },
  {
   "cell_type": "code",
   "execution_count": 16,
   "metadata": {},
   "outputs": [],
   "source": [
    "# Encode the constraint that each robot should either not go or eventually not in the current cell\n",
    "env_go = set()\n",
    "for r in range(1, num_robots + 1):\n",
    "    for i in range(num_cells):\n",
    "        if i != dest[r - 1] - 1:\n",
    "            env_go |= {'( !' + env_vars_list[r - 1][i] + ' || ' + 'stop' + str(r) + ' )'}\n",
    "env_prog |= env_go\n",
    "\n",
    "# given that I defined the  effect of \"unavailable actions\" to be staying in place, either we need \n",
    "# to update this progress property (because if i am at a cell where left is not possible and i keep\n",
    "# saying left this progress property requires me to move eventually  which does not make sense)\n",
    "# the other option is  to explicitly ban the \"unavailable actions\" in system safety spec\n",
    "\n",
    "# THE ABOVE MENTION PROBLEM IS FIXED IN THIS VERSION"
   ]
  },
  {
   "cell_type": "code",
   "execution_count": 17,
   "metadata": {},
   "outputs": [
    {
     "name": "stdout",
     "output_type": "stream",
     "text": [
      "{'( !s2a9 || stop2 )', '( !s2a4 || stop2 )', '( !s1a7 || stop1 )', '( !s2a2 || stop2 )', '( !s1a9 || stop1 )', '( !s1a3 || stop1 )', '( !s1a2 || stop1 )', '( !s2a5 || stop2 )', '( !s2a1 || stop2 )', '( !s2a7 || stop2 )', '( !s2a8 || stop2 )', '( !s1a10 || stop1 )', '( !s1a1 || stop1 )', '( !s1a6 || stop1 )', '( !s1a4 || stop1 )', '( !s2a10 || stop2 )', '( !s1a5 || stop1 )', '( !s2a6 || stop2 )'}\n"
     ]
    }
   ],
   "source": [
    "print(env_go)"
   ]
  },
  {
   "cell_type": "code",
   "execution_count": 18,
   "metadata": {},
   "outputs": [],
   "source": [
    "# Define sys_vars\n",
    "sys_vars = set()\n",
    "for r in range(1, num_robots + 1):\n",
    "    sys_vars |= {'stop' + str(r)}\n",
    "    sys_vars |= {'left' + str(r)}\n",
    "    sys_vars |= {'right' + str(r)}\n",
    "    sys_vars |= {'up' + str(r)}\n",
    "    sys_vars |= {'down' + str(r)}"
   ]
  },
  {
   "cell_type": "code",
   "execution_count": 19,
   "metadata": {},
   "outputs": [
    {
     "name": "stdout",
     "output_type": "stream",
     "text": [
      "{'right2', 'stop2', 'right1', 'up1', 'up2', 'left2', 'down2', 'left1', 'stop1', 'down1'}\n"
     ]
    }
   ],
   "source": [
    "print(sys_vars)"
   ]
  },
  {
   "cell_type": "code",
   "execution_count": 20,
   "metadata": {},
   "outputs": [
    {
     "name": "stdout",
     "output_type": "stream",
     "text": [
      "{'( right1 ) <-> ( !left1 && !up1 && !down1 && !stop1 )', '( up1 ) <-> ( !right1 && !left1 && !down1 && !stop1 )', '( down2 ) <-> ( !right2 && !up2 && !left2 && !stop2 )', '( down1 ) <-> ( !right1 && !up1 && !left1 && !stop1 )', '( stop1 ) <-> ( !right1 && !up1 && !down1 && !left1 )', '( left2 ) <-> ( !right2 && !up2 && !down2 && !stop2 )', '( stop2 ) <-> ( !right2 && !up2 && !down2 && !left2 )', '( right2 ) <-> ( !left2 && !up2 && !down2 && !stop2 )', '( up2 ) <-> ( !right2 && !left2 && !down2 && !stop2 )', '( left1 ) <-> ( !right1 && !up1 && !down1 && !stop1 )'}\n",
      "{'( s2a10 ) -> ( !right2 )', '( s2a1 ) -> ( !left2 )', '( s2a1 ) -> ( !right2 )', '( s1a6 ) -> ( !up1 )', '( s2a3 ) -> ( !right2 )', '( s1a5 ) -> ( !down1 )', '( s2a5 ) -> ( !down2 )', '( s1a8 ) -> ( !right1 )', '( s1a9 ) -> ( !up1 )', '( s1a1 ) -> ( !left1 )', '( s1a2 ) -> ( !left1 )', '( s1a1 ) -> ( !up1 )', '( s1a8 ) -> ( !up1 )', '( s2a8 ) -> ( !left2 )', '( s1a7 ) -> ( !right1 )', '( s1a1 ) -> ( !right1 )', '( s2a2 ) -> ( !left2 )', '( s1a10 ) -> ( !down1 )', '( s1a10 ) -> ( !left1 )', '( s2a6 ) -> ( !up2 )', '( s2a10 ) -> ( !left2 )', '( s2a3 ) -> ( !down2 )', '( s2a6 ) -> ( !down2 )', '( s2a7 ) -> ( !right2 )', '( s2a1 ) -> ( !up2 )', '( s1a6 ) -> ( !down1 )', '( s2a8 ) -> ( !up2 )', '( s1a10 ) -> ( !right1 )', '( s2a9 ) -> ( !up2 )', '( s2a10 ) -> ( !down2 )', '( s2a4 ) -> ( !down2 )', '( s1a4 ) -> ( !up1 )', '( s1a3 ) -> ( !right1 )', '( s1a4 ) -> ( !down1 )', '( s1a3 ) -> ( !down1 )', '( s2a8 ) -> ( !right2 )', '( s1a3 ) -> ( !left1 )', '( s1a8 ) -> ( !left1 )', '( s2a4 ) -> ( !up2 )', '( s2a3 ) -> ( !left2 )'}\n"
     ]
    }
   ],
   "source": [
    "# Define initial command. Assume nothing.\n",
    "sys_init = set()\n",
    "\n",
    "sys_safe = set()\n",
    "sys_prog = set()\n",
    "sys_prog |= sys_dest\n",
    "#sys_safe |= env_dest_stop\n",
    "# Encode the constraint that each time one action must be selected\n",
    "sys_good_act = set()\n",
    "for r in range(1, num_robots + 1):\n",
    "    sys_good_act |= {'( left' + str(r) + ' ) <-> ( ' + '!right' + str(r) + ' && ' + '!up' + str(r) + ' && ' + '!down' +\n",
    "                str(r) + ' && ' + '!stop' + str(r) + ' )'}\n",
    "    sys_good_act |= {'( right' + str(r) + ' ) <-> ( ' + '!left' + str(r) + ' && ' + '!up' + str(r) + ' && ' + '!down' +\n",
    "                str(r) + ' && ' + '!stop' + str(r) + ' )'}\n",
    "    sys_good_act |= {'( up' + str(r) + ' ) <-> ( ' + '!right' + str(r) + ' && ' + '!left' + str(r) + ' && ' + '!down' +\n",
    "                str(r) + ' && ' + '!stop' + str(r) + ' )'}\n",
    "    sys_good_act |= {'( down' + str(r) + ' ) <-> ( ' + '!right' + str(r) + ' && ' + '!up' + str(r) + ' && ' + '!left' +\n",
    "                str(r) + ' && ' + '!stop' + str(r) + ' )'}\n",
    "    sys_good_act |= {'( stop' + str(r) + ' ) <-> ( ' + '!right' + str(r) + ' && ' + '!up' + str(r) + ' && ' + '!down' +\n",
    "                str(r) + ' && ' + '!left' + str(r) + ' )'}\n",
    "    \n",
    "sys_safe |= sys_good_act\n",
    "sys_safe |= sys_bad_act\n",
    "print(sys_good_act)\n",
    "print(sys_bad_act)"
   ]
  },
  {
   "cell_type": "code",
   "execution_count": 21,
   "metadata": {},
   "outputs": [],
   "source": [
    "# Encode the constraint that if ending point is reached, not go. And if ending point is not reached, always exist some\n",
    "# robot that goes\n",
    "sys_stop = set()\n",
    "#new_sys_nonstop = '( '\n",
    "for r in range(1, num_robots + 1):\n",
    "    sys_stop |= {'( ' + env_vars_list[r - 1][dest[r - 1] - 1] + ' ) -> ( ' + 'stop' + str(r) + ' )'}\n",
    "    #new_sys_nonstop += '( !' + env_vars_list[r - 1][dest[r - 1] - 1] + ' ) || '\n",
    "#new_sys_nonstop = new_sys_nonstop[:-3] + ') -> ( '\n",
    "#for r in range(1, num_robots + 1):\n",
    "#    new_sys_nonstop += '!stop' + str(r) + ' || '\n",
    "#new_sys_nonstop = new_sys_nonstop[:-3] + ')'\n",
    "#sys_stop |= {new_sys_nonstop}\n",
    "#sys_safe |= sys_stop\n",
    "# we do NOT want the not stop part because when there are multiple robots, the robots might choose to stop to give way\n",
    "# to other robots. synthesizer should be able to figure out (eventually) not choosing stop when not necessary."
   ]
  },
  {
   "cell_type": "code",
   "execution_count": 22,
   "metadata": {},
   "outputs": [
    {
     "name": "stdout",
     "output_type": "stream",
     "text": [
      "{'( s2a3 ) -> ( stop2 )', '( s1a8 ) -> ( stop1 )'}\n"
     ]
    }
   ],
   "source": [
    "print(sys_stop)"
   ]
  },
  {
   "cell_type": "code",
   "execution_count": 23,
   "metadata": {},
   "outputs": [],
   "source": [
    "# Encode the collision avoidance constraints\n",
    "# No need if only one robot\n",
    "sys_collision = set()\n",
    "for i in range(num_cells):\n",
    "    new_sys_collision = '!( '\n",
    "    for r in range(num_robots):\n",
    "        new_sys_collision += env_vars_list[r][i] + ' && '\n",
    "    new_sys_collision = new_sys_collision[:-3] + ')'\n",
    "    sys_collision |= {new_sys_collision}\n",
    "sys_safe |= sys_collision"
   ]
  },
  {
   "cell_type": "code",
   "execution_count": 24,
   "metadata": {},
   "outputs": [
    {
     "name": "stdout",
     "output_type": "stream",
     "text": [
      "{'!( s1a5 && s2a5 )', '!( s1a6 && s2a6 )', '!( s1a1 && s2a1 )', '!( s1a7 && s2a7 )', '!( s1a4 && s2a4 )', '!( s1a2 && s2a2 )', '!( s1a10 && s2a10 )', '!( s1a3 && s2a3 )', '!( s1a8 && s2a8 )', '!( s1a9 && s2a9 )'}\n"
     ]
    }
   ],
   "source": [
    "print(sys_collision)"
   ]
  },
  {
   "cell_type": "code",
   "execution_count": 25,
   "metadata": {},
   "outputs": [],
   "source": [
    "# Create a GR(1) specification\n",
    "specs = spec.GRSpec(env_vars, sys_vars, env_init, sys_init,\n",
    "                    env_safe, sys_safe, env_prog, sys_prog)\n",
    "specs.qinit = '\\A \\E'  # Moore initial condition synthesized too\n",
    "specs.moore = False\n",
    "specs.plus_one = False"
   ]
  },
  {
   "cell_type": "code",
   "execution_count": 26,
   "metadata": {},
   "outputs": [
    {
     "name": "stdout",
     "output_type": "stream",
     "text": [
      "((s2a10) && (s1a1) && [](( s1a2 && stop1 ) -> X( s1a2 )) && [](( s2a7 && up2 ) -> X( s2a7 || s2a8 )) && [](( s2a7 && down2 ) -> X( s2a7 || s2a10 )) && [](( s2a1 ) <-> ( !s2a2 && !s2a3 && !s2a4 && !s2a5 && !s2a6 && !s2a7 && !s2a8 && !s2a9 && !s2a10 )) && [](( s2a8 && down2 ) -> X( s2a8 || s2a7 )) && [](( s1a5 ) <-> ( !s1a1 && !s1a2 && !s1a3 && !s1a4 && !s1a6 && !s1a7 && !s1a8 && !s1a9 && !s1a10 )) && [](( s1a2 && right1 ) -> X( s1a2 || s1a4 )) && [](( s2a3 ) <-> ( !s2a1 && !s2a2 && !s2a4 && !s2a5 && !s2a6 && !s2a7 && !s2a8 && !s2a9 && !s2a10 )) && [](( s2a3 && stop2 ) -> X( s2a3 )) && [](( s1a7 && down1 ) -> X( s1a7 || s1a10 )) && [](( s1a10 && stop1 ) -> X( s1a10 )) && [](( s1a9 && right1 ) -> X( s1a9 || s1a6 )) && [](( s1a7 && up1 ) -> X( s1a7 || s1a8 )) && [](( s1a6 && left1 ) -> X( s1a6 || s1a5 )) && [](( s2a8 && stop2 ) -> X( s2a8 )) && [](( s1a4 && left1 ) -> X( s1a4 || s1a2 )) && [](( s1a5 && right1 ) -> X( s1a5 || s1a6 )) && [](( s2a3 && up2 ) -> X( s2a3 || s2a2 )) && [](( s1a7 ) <-> ( !s1a1 && !s1a2 && !s1a3 && !s1a4 && !s1a5 && !s1a6 && !s1a8 && !s1a9 && !s1a10 )) && [](( s1a6 && right1 ) -> X( s1a6 || s1a7 )) && [](( s1a6 && stop1 ) -> X( s1a6 )) && [](( s2a1 && down2 ) -> X( s2a1 || s2a2 )) && [](( s2a4 ) <-> ( !s2a1 && !s2a2 && !s2a3 && !s2a5 && !s2a6 && !s2a7 && !s2a8 && !s2a9 && !s2a10 )) && [](( s2a5 && right2 ) -> X( s2a5 || s2a6 )) && [](( s1a9 && down1 ) -> X( s1a9 || s1a5 )) && [](( s2a7 && left2 ) -> X( s2a7 || s2a6 )) && [](( s2a5 && up2 ) -> X( s2a5 || s2a9 )) && [](( s1a1 && down1 ) -> X( s1a1 || s1a2 )) && [](( s2a9 && down2 ) -> X( s2a9 || s2a5 )) && [](( s2a10 && stop2 ) -> X( s2a10 )) && [](( s2a5 ) <-> ( !s2a1 && !s2a2 && !s2a3 && !s2a4 && !s2a6 && !s2a7 && !s2a8 && !s2a9 && !s2a10 )) && [](( s2a2 && right2 ) -> X( s2a2 || s2a4 )) && [](( s2a2 && down2 ) -> X( s2a2 || s2a3 )) && [](( s1a7 && left1 ) -> X( s1a7 || s1a6 )) && [](( s2a9 && stop2 ) -> X( s2a9 )) && [](( s1a2 ) <-> ( !s1a1 && !s1a3 && !s1a4 && !s1a5 && !s1a6 && !s1a7 && !s1a8 && !s1a9 && !s1a10 )) && [](( s1a4 && right1 ) -> X( s1a4 || s1a5 )) && [](( s2a7 && stop2 ) -> X( s2a7 )) && [](( s2a4 && stop2 ) -> X( s2a4 )) && [](( s2a6 && left2 ) -> X( s2a6 || s2a5 )) && [](( s2a6 && stop2 ) -> X( s2a6 )) && [](( s2a6 ) <-> ( !s2a1 && !s2a2 && !s2a3 && !s2a4 && !s2a5 && !s2a7 && !s2a8 && !s2a9 && !s2a10 )) && [](( s1a10 && up1 ) -> X( s1a10 || s1a7 )) && [](( s1a1 ) <-> ( !s1a2 && !s1a3 && !s1a4 && !s1a5 && !s1a6 && !s1a7 && !s1a8 && !s1a9 && !s1a10 )) && [](( s2a7 ) <-> ( !s2a1 && !s2a2 && !s2a3 && !s2a4 && !s2a5 && !s2a6 && !s2a8 && !s2a9 && !s2a10 )) && [](( s1a3 && up1 ) -> X( s1a3 || s1a2 )) && [](( s2a2 && up2 ) -> X( s2a2 || s2a1 )) && [](( s2a4 && right2 ) -> X( s2a4 || s2a5 )) && [](( s2a5 && stop2 ) -> X( s2a5 )) && [](( s1a3 ) <-> ( !s1a1 && !s1a2 && !s1a4 && !s1a5 && !s1a6 && !s1a7 && !s1a8 && !s1a9 && !s1a10 )) && [](( s2a10 && up2 ) -> X( s2a10 || s2a7 )) && [](( s1a9 ) <-> ( !s1a1 && !s1a2 && !s1a3 && !s1a4 && !s1a5 && !s1a6 && !s1a7 && !s1a8 && !s1a10 )) && [](( s1a8 ) <-> ( !s1a1 && !s1a2 && !s1a3 && !s1a4 && !s1a5 && !s1a6 && !s1a7 && !s1a9 && !s1a10 )) && [](( s2a4 && left2 ) -> X( s2a4 || s2a2 )) && [](( s1a9 && left1 ) -> X( s1a9 || s1a4 )) && [](( s2a9 ) <-> ( !s2a1 && !s2a2 && !s2a3 && !s2a4 && !s2a5 && !s2a6 && !s2a7 && !s2a8 && !s2a10 )) && [](( s1a2 && up1 ) -> X( s1a2 || s1a1 )) && [](( s1a8 && stop1 ) -> X( s1a8 )) && [](( s1a6 ) <-> ( !s1a1 && !s1a2 && !s1a3 && !s1a4 && !s1a5 && !s1a7 && !s1a8 && !s1a9 && !s1a10 )) && [](( s2a6 && right2 ) -> X( s2a6 || s2a7 )) && [](( s1a5 && up1 ) -> X( s1a5 || s1a9 )) && [](( s1a9 && stop1 ) -> X( s1a9 )) && [](( s2a8 ) <-> ( !s2a1 && !s2a2 && !s2a3 && !s2a4 && !s2a5 && !s2a6 && !s2a7 && !s2a9 && !s2a10 )) && [](( s2a2 ) <-> ( !s2a1 && !s2a3 && !s2a4 && !s2a5 && !s2a6 && !s2a7 && !s2a8 && !s2a9 && !s2a10 )) && [](( s2a1 && stop2 ) -> X( s2a1 )) && [](( s2a10 ) <-> ( !s2a1 && !s2a2 && !s2a3 && !s2a4 && !s2a5 && !s2a6 && !s2a7 && !s2a8 && !s2a9 )) && [](( s1a10 ) <-> ( !s1a1 && !s1a2 && !s1a3 && !s1a4 && !s1a5 && !s1a6 && !s1a7 && !s1a8 && !s1a9 )) && [](( s1a1 && stop1 ) -> X( s1a1 )) && [](( s1a2 && down1 ) -> X( s1a2 || s1a3 )) && [](( s1a4 ) <-> ( !s1a1 && !s1a2 && !s1a3 && !s1a5 && !s1a6 && !s1a7 && !s1a8 && !s1a9 && !s1a10 )) && [](( s1a5 && stop1 ) -> X( s1a5 )) && [](( s2a2 && stop2 ) -> X( s2a2 )) && [](( s2a5 && left2 ) -> X( s2a5 || s2a4 )) && [](( s1a5 && left1 ) -> X( s1a5 || s1a4 )) && [](( s1a7 && stop1 ) -> X( s1a7 )) && [](( s2a9 && right2 ) -> X( s2a9 || s2a6 )) && [](( s2a9 && left2 ) -> X( s2a9 || s2a4 )) && [](( s1a4 && stop1 ) -> X( s1a4 )) && [](( s1a3 && stop1 ) -> X( s1a3 )) && [](( s1a8 && down1 ) -> X( s1a8 || s1a7 )) && []<>(( !s2a9 || stop2 )) && []<>(( !s1a3 || stop1 )) && []<>(( !s1a2 || stop1 )) && []<>(( !s2a5 || stop2 )) && []<>(( !s2a1 || stop2 )) && []<>(( !s1a1 || stop1 )) && []<>(( !s1a4 || stop1 )) && []<>(( !s2a10 || stop2 )) && []<>(( !s2a6 || stop2 )) && []<>(( !s2a4 || stop2 )) && []<>(( !s1a7 || stop1 )) && []<>(( !s2a2 || stop2 )) && []<>(( !s1a9 || stop1 )) && []<>(( !s2a8 || stop2 )) && []<>(( !s1a10 || stop1 )) && []<>(( !s1a6 || stop1 )) && []<>(( !s2a7 || stop2 )) && []<>(( !s1a5 || stop1 ))) -> ([](( s2a10 ) -> ( !right2 )) && [](( s2a1 ) -> ( !left2 )) && [](( s2a1 ) -> ( !right2 )) && [](( s1a6 ) -> ( !up1 )) && [](( down2 ) <-> ( !right2 && !up2 && !left2 && !stop2 )) && [](( s2a3 ) -> ( !right2 )) && [](( s1a5 ) -> ( !down1 )) && [](( s1a8 ) -> ( !right1 )) && [](( down1 ) <-> ( !right1 && !up1 && !left1 && !stop1 )) && [](!( s1a2 && s2a2 )) && [](( s1a9 ) -> ( !up1 )) && [](( s1a2 ) -> ( !left1 )) && [](!( s1a10 && s2a10 )) && [](( s1a8 ) -> ( !up1 )) && [](( s2a8 ) -> ( !left2 )) && [](( s1a7 ) -> ( !right1 )) && [](( s1a1 ) -> ( !right1 )) && [](( up2 ) <-> ( !right2 && !left2 && !down2 && !stop2 )) && [](( s2a6 ) -> ( !up2 )) && [](( s2a3 ) -> ( !down2 )) && [](( s2a6 ) -> ( !down2 )) && [](( s2a7 ) -> ( !right2 )) && [](( s2a1 ) -> ( !up2 )) && [](( up1 ) <-> ( !right1 && !left1 && !down1 && !stop1 )) && [](( s1a6 ) -> ( !down1 )) && [](( s2a8 ) -> ( !up2 )) && [](( s2a3 ) -> ( !left2 )) && [](!( s1a5 && s2a5 )) && [](!( s1a1 && s2a1 )) && [](!( s1a4 && s2a4 )) && [](( s2a10 ) -> ( !down2 )) && [](( s1a4 ) -> ( !up1 )) && [](!( s1a3 && s2a3 )) && [](( stop2 ) <-> ( !right2 && !up2 && !down2 && !left2 )) && [](( s1a3 ) -> ( !down1 )) && [](( s2a8 ) -> ( !right2 )) && [](!( s1a9 && s2a9 )) && [](( s1a8 ) -> ( !left1 )) && [](( right1 ) <-> ( !left1 && !up1 && !down1 && !stop1 )) && [](( s2a5 ) -> ( !down2 )) && [](( s1a1 ) -> ( !left1 )) && [](( s1a1 ) -> ( !up1 )) && [](( stop1 ) <-> ( !right1 && !up1 && !down1 && !left1 )) && [](( s1a10 ) -> ( !down1 )) && [](( s2a10 ) -> ( !left2 )) && [](( s2a2 ) -> ( !left2 )) && [](( s1a10 ) -> ( !left1 )) && [](!( s1a8 && s2a8 )) && [](!( s1a6 && s2a6 )) && [](( s1a10 ) -> ( !right1 )) && [](!( s1a7 && s2a7 )) && [](( s2a4 ) -> ( !down2 )) && [](( s1a3 ) -> ( !right1 )) && [](( s1a4 ) -> ( !down1 )) && [](( left2 ) <-> ( !right2 && !up2 && !down2 && !stop2 )) && [](( s2a9 ) -> ( !up2 )) && [](( right2 ) <-> ( !left2 && !up2 && !down2 && !stop2 )) && [](( s1a3 ) -> ( !left1 )) && [](( s2a4 ) -> ( !up2 )) && [](( left1 ) <-> ( !right1 && !up1 && !down1 && !stop1 )) && []<>(s2a3) && []<>(s1a8))\n"
     ]
    }
   ],
   "source": [
    "print(specs)"
   ]
  },
  {
   "cell_type": "code",
   "execution_count": null,
   "metadata": {},
   "outputs": [
    {
     "name": "stdout",
     "output_type": "stream",
     "text": [
      "Start synthesis\n"
     ]
    }
   ],
   "source": [
    "print('Start synthesis')\n",
    "ctrl = synth.synthesize(specs)\n",
    "print('End synthesis')\n",
    "assert ctrl is not None, 'unrealizable'"
   ]
  },
  {
   "cell_type": "code",
   "execution_count": null,
   "metadata": {},
   "outputs": [],
   "source": [
    "machines.random_run(ctrl, N=20)"
   ]
  },
  {
   "cell_type": "code",
   "execution_count": null,
   "metadata": {},
   "outputs": [],
   "source": [
    "print(len(env_unique))"
   ]
  },
  {
   "cell_type": "code",
   "execution_count": null,
   "metadata": {},
   "outputs": [],
   "source": []
  }
 ],
 "metadata": {
  "kernelspec": {
   "display_name": "Python 3",
   "language": "python",
   "name": "python3"
  },
  "language_info": {
   "codemirror_mode": {
    "name": "ipython",
    "version": 3
   },
   "file_extension": ".py",
   "mimetype": "text/x-python",
   "name": "python",
   "nbconvert_exporter": "python",
   "pygments_lexer": "ipython3",
   "version": "3.6.9"
  }
 },
 "nbformat": 4,
 "nbformat_minor": 4
}
