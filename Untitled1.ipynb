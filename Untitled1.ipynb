{
 "cells": [
  {
   "cell_type": "code",
   "execution_count": 49,
   "metadata": {},
   "outputs": [],
   "source": [
    "\"\"\" This script tries only using the TuLiP toolbox to solve a multirobot motion planning problem.\n",
    "Specifically, a field of cells and a number of robots are specified along with the system dynamics,\n",
    "and constraints are written in monolithic LTL syntax.\n",
    "\"\"\"\n",
    "\n",
    "\n",
    "# Import the packages that we need\n",
    "from __future__ import print_function\n",
    "import numpy as np\n",
    "from tulip import spec\n",
    "from tulip.transys import machines\n",
    "from tulip import synth\n",
    "import State_encoding\n",
    "import LTL_encoding"
   ]
  },
  {
   "cell_type": "code",
   "execution_count": 50,
   "metadata": {},
   "outputs": [],
   "source": [
    "# Workspace parameters\n",
    "num_rows = 3\n",
    "num_cols = 3\n",
    "num_robots = 2\n",
    "robot_init_pos = np.array([[0, 0], [1, 0], [2, 0]])\n",
    "# The environment variables and specifications are none\n",
    "env_vars = set()\n",
    "env_init = set()\n",
    "env_prog = set()\n",
    "env_safe = set()"
   ]
  },
  {
   "cell_type": "code",
   "execution_count": 51,
   "metadata": {},
   "outputs": [],
   "source": [
    "# Generate robot system dynamics, encoded in sys_safe\n",
    "#   1. Can move up, down, left, and right\n",
    "#   2. Can't collide\n",
    "num_cells = num_rows*num_cols\n",
    "num_states = num_cells**num_robots\n",
    "sys_vars = {}\n",
    "sys_vars['loc'] = (0, num_states - 1)\n",
    "sys_init_pos = np.array([0, 3])\n",
    "sys_init = {'loc='+str(State_encoding.array2digit(sys_init_pos, num_cells))}\n",
    "sys_safe = set()\n",
    "sys_prog = set()"
   ]
  },
  {
   "cell_type": "code",
   "execution_count": 52,
   "metadata": {},
   "outputs": [],
   "source": [
    "curr_pos = np.zeros(num_robots, dtype=int)\n",
    "iter_num_robot = 0\n",
    "for curr_state in range(num_states):\n",
    "    LTL = '' # the LTL formula representing the dynamics of this state\n",
    "    next_state = np.array([], dtype=int)\n",
    "    if len(np.unique(curr_pos)) == len(curr_pos):\n",
    "        for next_movement in range(4**num_robots):\n",
    "            is_valid = True\n",
    "            temp_curr_pos = np.copy(curr_pos)\n",
    "            temp_next_movement = next_movement\n",
    "            for curr_robot in range(num_robots):\n",
    "                next_move = temp_next_movement % 4\n",
    "                temp_next_movement //= 4\n",
    "                # check if this move is valid, i.e., no collision and no out of grid\n",
    "                if next_move == 0:\n",
    "                    # move right\n",
    "                    if curr_pos[curr_robot] % num_cols < num_cols - 1:\n",
    "                        temp_curr_pos[curr_robot] += 1\n",
    "                    else:\n",
    "                        is_valid = False\n",
    "                        break\n",
    "                elif next_move == 1:\n",
    "                    # move up\n",
    "                    if curr_pos[curr_robot] >= num_cols:\n",
    "                        temp_curr_pos[curr_robot] -= num_cols\n",
    "                    else:\n",
    "                        is_valid = False\n",
    "                        break\n",
    "                elif next_move == 2:\n",
    "                    # move left\n",
    "                    if curr_pos[curr_robot] % num_cols > 0:\n",
    "                        temp_curr_pos[curr_robot] -= 1\n",
    "                    else:\n",
    "                        is_valid = False\n",
    "                        break\n",
    "                elif next_move == 3:\n",
    "                    # move down\n",
    "                    if curr_pos[curr_robot] < num_cols * (num_rows - 1):\n",
    "                        temp_curr_pos[curr_robot] += num_cols\n",
    "                    else:\n",
    "                        is_valid = False\n",
    "                        break\n",
    "            # check the following circumstance: two robots exchange their positions\n",
    "            if is_valid:\n",
    "                for i in range(num_robots):\n",
    "                    for j in range(i+1, num_robots):\n",
    "                        if temp_curr_pos[i] == curr_pos[j] and temp_curr_pos[j] == curr_pos[i]:\n",
    "                            is_valid = False\n",
    "                            break\n",
    "                    if not is_valid:\n",
    "                        break\n",
    "            if is_valid:\n",
    "                # check if there is duplicate in the next state\n",
    "                if len(np.unique(temp_curr_pos)) == len(temp_curr_pos):\n",
    "                    next_state = np.append(next_state, State_encoding.array2digit(temp_curr_pos, num_cells))\n",
    "\n",
    "    # It should be the case that there exist some next states\n",
    "        if len(next_state) > 0:\n",
    "            LTL = 'loc=' + str(curr_state) + ' -> X (loc=' + str(next_state[0])\n",
    "            for i in range(1, len(next_state)):\n",
    "                LTL = LTL + ' || loc=' + str(next_state[i])\n",
    "            LTL = LTL + ')'\n",
    "            sys_safe |= {LTL}\n",
    "    for i in range(num_robots):\n",
    "        if curr_pos[i] < num_cells - 1:\n",
    "            curr_pos[i] += 1\n",
    "            break\n",
    "        else:\n",
    "            curr_pos[i] = 0"
   ]
  },
  {
   "cell_type": "code",
   "execution_count": 53,
   "metadata": {},
   "outputs": [],
   "source": [
    "# Generate inner nad outer logic\n",
    "# Constraint 1:\n",
    "# []<> ([6,7,8], 2)\n",
    "# Constraint 2:\n",
    "# ([]<> [2], 2)\n",
    "# Constraint 3:\n",
    "# []! ([1], 1)\n",
    "ltl_formula_1 = LTL_encoding.cltl_conversion_async(np.array([6, 7, 8]), 2, num_robots, num_cells, 1)\n",
    "ltl_formula_1 = 'X(loc=69)'\n",
    "sys_prog |= {ltl_formula_1}\n",
    "for i in range(num_robots):\n",
    "    ltl_formula_2 = LTL_encoding.ltl_conversion_ap(np.array([2]), i, num_robots, num_cells)\n",
    "    sys_prog |= {ltl_formula_2}\n",
    "ltl_formula_3 = LTL_encoding.ltl_negate(LTL_encoding.cltl_conversion(np.array([1]), 1, num_robots, num_cells))\n",
    "sys_safe |= {ltl_formula_3}"
   ]
  },
  {
   "cell_type": "code",
   "execution_count": 54,
   "metadata": {
    "scrolled": true
   },
   "outputs": [
    {
     "name": "stderr",
     "output_type": "stream",
     "text": [
      "Exception ignored in: <bound method BDD.__del__ of <dd.bdd.BDD object at 0x7f277f90c240>>\n",
      "Traceback (most recent call last):\n",
      "  File \"/home/hezhirui/.local/lib/python3.6/site-packages/dd/bdd.py\", line 186, in __del__\n",
      "    assert all(v == 0 for v in self._ref.values()), self._ref\n",
      "AssertionError: {1: 45, 7: 4, 8: 19, 9: 19, 10: 5, 11: 3, 12: 2, 13: 1, 14: 1, 15: 11, 16: 3, 27: 1, 62: 1, 63: 1, 87: 4, 88: 2, 89: 1, 198: 1, 202: 1, 203: 1, 204: 1, 225: 4, 226: 2, 286: 1, 353: 1, 416: 4, 444: 1, 476: 8, 477: 1, 614: 1, 976: 1, 1557: 1, 1558: 1, 1562: 3, 1572: 1, 1579: 3, 1580: 1, 1581: 1, 1587: 4, 1588: 1, 1592: 1, 1593: 1, 1596: 1, 1600: 1, 1601: 1, 1602: 1, 1604: 1, 1605: 1, 1606: 1, 1607: 10, 2147: 1, 2150: 2, 2152: 2, 2153: 1, 2154: 1, 2163: 2, 2164: 1, 2166: 1, 2167: 2, 2168: 1, 2169: 1, 2170: 2, 2228: 2, 2229: 4, 2231: 6, 2232: 4, 2233: 8, 2234: 1, 2236: 4, 2237: 1, 2239: 4, 2243: 4, 2244: 1, 2247: 1, 2251: 1, 2252: 1, 2253: 1, 2254: 5, 2255: 1, 2256: 1, 2257: 5, 2258: 1, 2259: 1, 2260: 1, 2261: 1, 2262: 1, 2263: 1, 2264: 1, 2265: 1, 2266: 2, 2364: 1, 2365: 1, 2366: 1, 2367: 2, 2368: 1, 2369: 6, 2370: 2, 2371: 1, 2372: 1, 2373: 2, 2374: 1, 2375: 1, 2376: 1, 2377: 1, 2378: 5, 2379: 1, 2380: 1, 2381: 1, 2382: 2, 2507: 1, 2508: 1, 2509: 1, 2510: 1, 2511: 1, 2512: 1, 2513: 1, 2514: 1, 2515: 1, 2516: 1, 2517: 1, 2518: 6, 2519: 1, 2520: 1, 2521: 1, 2522: 2, 2792: 1, 2793: 2, 2844: 1, 2847: 1, 2853: 1, 2854: 1, 2855: 1, 2856: 1, 2857: 1, 2858: 1, 2859: 1, 2860: 1, 2861: 1, 2862: 1, 2863: 1, 2864: 1, 2865: 1, 2866: 2, 2957: 1, 2958: 1, 2959: 1, 2960: 2, 2961: 1, 2962: 1, 2963: 1, 2964: 1, 2965: 1, 2966: 1, 2967: 1, 2968: 1, 2969: 1, 2970: 1, 2971: 2, 3080: 1, 3081: 1, 3082: 1, 3083: 1, 3084: 1, 3085: 1, 3086: 1, 3087: 1, 3088: 1, 3089: 1, 3090: 1, 3091: 1, 3092: 1, 3093: 2}\n"
     ]
    },
    {
     "ename": "AssertionError",
     "evalue": "{\"loc'\", 'loc'}",
     "output_type": "error",
     "traceback": [
      "\u001b[0;31m---------------------------------------------------------------------------\u001b[0m",
      "\u001b[0;31mAssertionError\u001b[0m                            Traceback (most recent call last)",
      "\u001b[0;32m<ipython-input-54-13b7a00a6ae3>\u001b[0m in \u001b[0;36m<module>\u001b[0;34m\u001b[0m\n\u001b[1;32m      3\u001b[0m                     env_safe, sys_safe, env_prog, sys_prog)\n\u001b[1;32m      4\u001b[0m \u001b[0mspecs\u001b[0m\u001b[0;34m.\u001b[0m\u001b[0mqinit\u001b[0m \u001b[0;34m=\u001b[0m \u001b[0;34m'\\E \\A'\u001b[0m  \u001b[0;31m# Moore initial condition synthesized too\u001b[0m\u001b[0;34m\u001b[0m\u001b[0;34m\u001b[0m\u001b[0m\n\u001b[0;32m----> 5\u001b[0;31m \u001b[0mctrl\u001b[0m \u001b[0;34m=\u001b[0m \u001b[0msynth\u001b[0m\u001b[0;34m.\u001b[0m\u001b[0msynthesize\u001b[0m\u001b[0;34m(\u001b[0m\u001b[0mspecs\u001b[0m\u001b[0;34m)\u001b[0m\u001b[0;34m\u001b[0m\u001b[0;34m\u001b[0m\u001b[0m\n\u001b[0m\u001b[1;32m      6\u001b[0m \u001b[0;32massert\u001b[0m \u001b[0mctrl\u001b[0m \u001b[0;32mis\u001b[0m \u001b[0;32mnot\u001b[0m \u001b[0;32mNone\u001b[0m\u001b[0;34m,\u001b[0m \u001b[0;34m'unrealizable'\u001b[0m\u001b[0;34m\u001b[0m\u001b[0;34m\u001b[0m\u001b[0m\n",
      "\u001b[0;32m~/.local/lib/python3.6/site-packages/tulip/synth.py\u001b[0m in \u001b[0;36msynthesize\u001b[0;34m(specs, env, sys, ignore_env_init, ignore_sys_init, rm_deadends, solver)\u001b[0m\n\u001b[1;32m   1109\u001b[0m         \u001b[0mignore_env_init\u001b[0m\u001b[0;34m,\u001b[0m\u001b[0;34m\u001b[0m\u001b[0;34m\u001b[0m\u001b[0m\n\u001b[1;32m   1110\u001b[0m         ignore_sys_init)\n\u001b[0;32m-> 1111\u001b[0;31m     \u001b[0;32mreturn\u001b[0m \u001b[0m_synthesize\u001b[0m\u001b[0;34m(\u001b[0m\u001b[0mspecs\u001b[0m\u001b[0;34m,\u001b[0m \u001b[0msolver\u001b[0m\u001b[0;34m,\u001b[0m \u001b[0mrm_deadends\u001b[0m\u001b[0;34m)\u001b[0m\u001b[0;34m\u001b[0m\u001b[0;34m\u001b[0m\u001b[0m\n\u001b[0m\u001b[1;32m   1112\u001b[0m \u001b[0;34m\u001b[0m\u001b[0m\n\u001b[1;32m   1113\u001b[0m \u001b[0;34m\u001b[0m\u001b[0m\n",
      "\u001b[0;32m~/.local/lib/python3.6/site-packages/tulip/synth.py\u001b[0m in \u001b[0;36m_synthesize\u001b[0;34m(specs, solver, rm_deadends)\u001b[0m\n\u001b[1;32m   1130\u001b[0m         \u001b[0mstrategy\u001b[0m \u001b[0;34m=\u001b[0m \u001b[0mgr1py\u001b[0m\u001b[0;34m.\u001b[0m\u001b[0msynthesize\u001b[0m\u001b[0;34m(\u001b[0m\u001b[0mspecs\u001b[0m\u001b[0;34m)\u001b[0m\u001b[0;34m\u001b[0m\u001b[0;34m\u001b[0m\u001b[0m\n\u001b[1;32m   1131\u001b[0m     \u001b[0;32melif\u001b[0m \u001b[0msolver\u001b[0m \u001b[0;34m==\u001b[0m \u001b[0;34m'omega'\u001b[0m\u001b[0;34m:\u001b[0m\u001b[0;34m\u001b[0m\u001b[0;34m\u001b[0m\u001b[0m\n\u001b[0;32m-> 1132\u001b[0;31m         \u001b[0mstrategy\u001b[0m \u001b[0;34m=\u001b[0m \u001b[0momega_int\u001b[0m\u001b[0;34m.\u001b[0m\u001b[0msynthesize_enumerated_streett\u001b[0m\u001b[0;34m(\u001b[0m\u001b[0mspecs\u001b[0m\u001b[0;34m)\u001b[0m\u001b[0;34m\u001b[0m\u001b[0;34m\u001b[0m\u001b[0m\n\u001b[0m\u001b[1;32m   1133\u001b[0m     \u001b[0;32melse\u001b[0m\u001b[0;34m:\u001b[0m\u001b[0;34m\u001b[0m\u001b[0;34m\u001b[0m\u001b[0m\n\u001b[1;32m   1134\u001b[0m         \u001b[0moptions\u001b[0m \u001b[0;34m=\u001b[0m \u001b[0;34m{\u001b[0m\u001b[0;34m'gr1c'\u001b[0m\u001b[0;34m,\u001b[0m \u001b[0;34m'gr1py'\u001b[0m\u001b[0;34m,\u001b[0m \u001b[0;34m'omega'\u001b[0m\u001b[0;34m,\u001b[0m \u001b[0;34m'slugs'\u001b[0m\u001b[0;34m}\u001b[0m\u001b[0;34m\u001b[0m\u001b[0;34m\u001b[0m\u001b[0m\n",
      "\u001b[0;32m~/.local/lib/python3.6/site-packages/tulip/interfaces/omega.py\u001b[0m in \u001b[0;36msynthesize_enumerated_streett\u001b[0;34m(spec)\u001b[0m\n\u001b[1;32m     52\u001b[0m     \u001b[0;32massert\u001b[0m \u001b[0maut\u001b[0m\u001b[0;34m.\u001b[0m\u001b[0maction\u001b[0m\u001b[0;34m[\u001b[0m\u001b[0;34m'sys'\u001b[0m\u001b[0;34m]\u001b[0m \u001b[0;34m!=\u001b[0m \u001b[0maut\u001b[0m\u001b[0;34m.\u001b[0m\u001b[0mfalse\u001b[0m\u001b[0;34m\u001b[0m\u001b[0;34m\u001b[0m\u001b[0m\n\u001b[1;32m     53\u001b[0m     \u001b[0mt0\u001b[0m \u001b[0;34m=\u001b[0m \u001b[0mtime\u001b[0m\u001b[0;34m.\u001b[0m\u001b[0mtime\u001b[0m\u001b[0;34m(\u001b[0m\u001b[0;34m)\u001b[0m\u001b[0;34m\u001b[0m\u001b[0;34m\u001b[0m\u001b[0m\n\u001b[0;32m---> 54\u001b[0;31m     \u001b[0mz\u001b[0m\u001b[0;34m,\u001b[0m \u001b[0myij\u001b[0m\u001b[0;34m,\u001b[0m \u001b[0mxijk\u001b[0m \u001b[0;34m=\u001b[0m \u001b[0mgr1\u001b[0m\u001b[0;34m.\u001b[0m\u001b[0msolve_streett_game\u001b[0m\u001b[0;34m(\u001b[0m\u001b[0maut\u001b[0m\u001b[0;34m)\u001b[0m\u001b[0;34m\u001b[0m\u001b[0;34m\u001b[0m\u001b[0m\n\u001b[0m\u001b[1;32m     55\u001b[0m     \u001b[0mt1\u001b[0m \u001b[0;34m=\u001b[0m \u001b[0mtime\u001b[0m\u001b[0;34m.\u001b[0m\u001b[0mtime\u001b[0m\u001b[0;34m(\u001b[0m\u001b[0;34m)\u001b[0m\u001b[0;34m\u001b[0m\u001b[0;34m\u001b[0m\u001b[0m\n\u001b[1;32m     56\u001b[0m     \u001b[0;31m# unrealizable ?\u001b[0m\u001b[0;34m\u001b[0m\u001b[0;34m\u001b[0m\u001b[0;34m\u001b[0m\u001b[0m\n",
      "\u001b[0;32m~/.local/lib/python3.6/site-packages/omega/games/gr1.py\u001b[0m in \u001b[0;36msolve_streett_game\u001b[0;34m(aut, rank)\u001b[0m\n\u001b[1;32m     67\u001b[0m         \u001b[0;32mfor\u001b[0m \u001b[0mgoal\u001b[0m \u001b[0;32min\u001b[0m \u001b[0maut\u001b[0m\u001b[0;34m.\u001b[0m\u001b[0mwin\u001b[0m\u001b[0;34m[\u001b[0m\u001b[0;34m'[]<>'\u001b[0m\u001b[0;34m]\u001b[0m\u001b[0;34m:\u001b[0m\u001b[0;34m\u001b[0m\u001b[0;34m\u001b[0m\u001b[0m\n\u001b[1;32m     68\u001b[0m             \u001b[0mgoal\u001b[0m \u001b[0;34m&=\u001b[0m \u001b[0mcox_z\u001b[0m\u001b[0;34m\u001b[0m\u001b[0;34m\u001b[0m\u001b[0m\n\u001b[0;32m---> 69\u001b[0;31m             \u001b[0my\u001b[0m\u001b[0;34m,\u001b[0m \u001b[0myj\u001b[0m\u001b[0;34m,\u001b[0m \u001b[0mxjk\u001b[0m \u001b[0;34m=\u001b[0m \u001b[0m_attractor_under_assumptions\u001b[0m\u001b[0;34m(\u001b[0m\u001b[0mgoal\u001b[0m\u001b[0;34m,\u001b[0m \u001b[0maut\u001b[0m\u001b[0;34m)\u001b[0m\u001b[0;34m\u001b[0m\u001b[0;34m\u001b[0m\u001b[0m\n\u001b[0m\u001b[1;32m     70\u001b[0m             \u001b[0mz\u001b[0m \u001b[0;34m&=\u001b[0m \u001b[0my\u001b[0m\u001b[0;34m\u001b[0m\u001b[0;34m\u001b[0m\u001b[0m\n\u001b[1;32m     71\u001b[0m             \u001b[0mxijk\u001b[0m\u001b[0;34m.\u001b[0m\u001b[0mappend\u001b[0m\u001b[0;34m(\u001b[0m\u001b[0mxjk\u001b[0m\u001b[0;34m)\u001b[0m\u001b[0;34m\u001b[0m\u001b[0;34m\u001b[0m\u001b[0m\n",
      "\u001b[0;32m~/.local/lib/python3.6/site-packages/omega/games/gr1.py\u001b[0m in \u001b[0;36m_attractor_under_assumptions\u001b[0;34m(goal, aut)\u001b[0m\n\u001b[1;32m     90\u001b[0m         \u001b[0;32mfor\u001b[0m \u001b[0msafe\u001b[0m \u001b[0;32min\u001b[0m \u001b[0maut\u001b[0m\u001b[0;34m.\u001b[0m\u001b[0mwin\u001b[0m\u001b[0;34m[\u001b[0m\u001b[0;34m'<>[]'\u001b[0m\u001b[0;34m]\u001b[0m\u001b[0;34m:\u001b[0m\u001b[0;34m\u001b[0m\u001b[0;34m\u001b[0m\u001b[0m\n\u001b[1;32m     91\u001b[0m             x = fx.trap(env_action, sys_action,\n\u001b[0;32m---> 92\u001b[0;31m                         safe, aut, unless=unless)\n\u001b[0m\u001b[1;32m     93\u001b[0m             \u001b[0mxk\u001b[0m\u001b[0;34m.\u001b[0m\u001b[0mappend\u001b[0m\u001b[0;34m(\u001b[0m\u001b[0mx\u001b[0m\u001b[0;34m)\u001b[0m\u001b[0;34m\u001b[0m\u001b[0;34m\u001b[0m\u001b[0m\n\u001b[1;32m     94\u001b[0m             \u001b[0my\u001b[0m \u001b[0;34m|=\u001b[0m \u001b[0mx\u001b[0m\u001b[0;34m\u001b[0m\u001b[0;34m\u001b[0m\u001b[0m\n",
      "\u001b[0;32m~/.local/lib/python3.6/site-packages/omega/symbolic/fixpoint.py\u001b[0m in \u001b[0;36mtrap\u001b[0;34m(env_action, sys_action, safe, aut, unless)\u001b[0m\n\u001b[1;32m     57\u001b[0m     \u001b[0;32mwhile\u001b[0m \u001b[0mq\u001b[0m \u001b[0;34m!=\u001b[0m \u001b[0mqold\u001b[0m\u001b[0;34m:\u001b[0m\u001b[0;34m\u001b[0m\u001b[0;34m\u001b[0m\u001b[0m\n\u001b[1;32m     58\u001b[0m         \u001b[0mqold\u001b[0m \u001b[0;34m=\u001b[0m \u001b[0mq\u001b[0m\u001b[0;34m\u001b[0m\u001b[0;34m\u001b[0m\u001b[0m\n\u001b[0;32m---> 59\u001b[0;31m         \u001b[0mpre\u001b[0m \u001b[0;34m=\u001b[0m \u001b[0mstep\u001b[0m\u001b[0;34m(\u001b[0m\u001b[0menv_action\u001b[0m\u001b[0;34m,\u001b[0m \u001b[0msys_action\u001b[0m\u001b[0;34m,\u001b[0m \u001b[0mq\u001b[0m\u001b[0;34m,\u001b[0m \u001b[0maut\u001b[0m\u001b[0;34m)\u001b[0m\u001b[0;34m\u001b[0m\u001b[0;34m\u001b[0m\u001b[0m\n\u001b[0m\u001b[1;32m     60\u001b[0m         \u001b[0mq\u001b[0m \u001b[0;34m=\u001b[0m \u001b[0msafe\u001b[0m \u001b[0;34m&\u001b[0m \u001b[0mpre\u001b[0m\u001b[0;34m\u001b[0m\u001b[0;34m\u001b[0m\u001b[0m\n\u001b[1;32m     61\u001b[0m         \u001b[0;32mif\u001b[0m \u001b[0munless\u001b[0m \u001b[0;32mis\u001b[0m \u001b[0;32mnot\u001b[0m \u001b[0;32mNone\u001b[0m\u001b[0;34m:\u001b[0m\u001b[0;34m\u001b[0m\u001b[0;34m\u001b[0m\u001b[0m\n",
      "\u001b[0;32m~/.local/lib/python3.6/site-packages/omega/symbolic/fixpoint.py\u001b[0m in \u001b[0;36mstep\u001b[0;34m(env_action, sys_action, target, aut)\u001b[0m\n\u001b[1;32m     86\u001b[0m     \u001b[0myp\u001b[0m \u001b[0;34m=\u001b[0m \u001b[0maut\u001b[0m\u001b[0;34m.\u001b[0m\u001b[0mvarlist\u001b[0m\u001b[0;34m[\u001b[0m\u001b[0;34m\"sys'\"\u001b[0m\u001b[0;34m]\u001b[0m\u001b[0;34m\u001b[0m\u001b[0;34m\u001b[0m\u001b[0m\n\u001b[1;32m     87\u001b[0m     \u001b[0mxp\u001b[0m \u001b[0;34m=\u001b[0m \u001b[0maut\u001b[0m\u001b[0;34m.\u001b[0m\u001b[0mvarlist\u001b[0m\u001b[0;34m[\u001b[0m\u001b[0;34m\"env'\"\u001b[0m\u001b[0;34m]\u001b[0m\u001b[0;34m\u001b[0m\u001b[0;34m\u001b[0m\u001b[0m\n\u001b[0;32m---> 88\u001b[0;31m     \u001b[0mu\u001b[0m \u001b[0;34m=\u001b[0m \u001b[0mprm\u001b[0m\u001b[0;34m.\u001b[0m\u001b[0mprime\u001b[0m\u001b[0;34m(\u001b[0m\u001b[0mtarget\u001b[0m\u001b[0;34m,\u001b[0m \u001b[0maut\u001b[0m\u001b[0;34m)\u001b[0m\u001b[0;34m\u001b[0m\u001b[0;34m\u001b[0m\u001b[0m\n\u001b[0m\u001b[1;32m     89\u001b[0m     \u001b[0;32mif\u001b[0m \u001b[0maut\u001b[0m\u001b[0;34m.\u001b[0m\u001b[0mplus_one\u001b[0m\u001b[0;34m:\u001b[0m\u001b[0;34m\u001b[0m\u001b[0;34m\u001b[0m\u001b[0m\n\u001b[1;32m     90\u001b[0m         \u001b[0;31m# sys_action /\\ (env_action => target')\u001b[0m\u001b[0;34m\u001b[0m\u001b[0;34m\u001b[0m\u001b[0;34m\u001b[0m\u001b[0m\n",
      "\u001b[0;32m~/.local/lib/python3.6/site-packages/omega/symbolic/prime.py\u001b[0m in \u001b[0;36mprime\u001b[0;34m(u, fol)\u001b[0m\n\u001b[1;32m    120\u001b[0m     \u001b[0msupport\u001b[0m \u001b[0;34m=\u001b[0m \u001b[0mfol\u001b[0m\u001b[0;34m.\u001b[0m\u001b[0msupport\u001b[0m\u001b[0;34m(\u001b[0m\u001b[0mu\u001b[0m\u001b[0;34m)\u001b[0m\u001b[0;34m\u001b[0m\u001b[0;34m\u001b[0m\u001b[0m\n\u001b[1;32m    121\u001b[0m     \u001b[0;31m# all identifiers are unprimed ?\u001b[0m\u001b[0;34m\u001b[0m\u001b[0;34m\u001b[0m\u001b[0;34m\u001b[0m\u001b[0m\n\u001b[0;32m--> 122\u001b[0;31m     \u001b[0;32massert\u001b[0m \u001b[0;32mnot\u001b[0m \u001b[0many\u001b[0m\u001b[0;34m(\u001b[0m\u001b[0mstx\u001b[0m\u001b[0;34m.\u001b[0m\u001b[0misprimed\u001b[0m\u001b[0;34m(\u001b[0m\u001b[0mname\u001b[0m\u001b[0;34m)\u001b[0m \u001b[0;32mfor\u001b[0m \u001b[0mname\u001b[0m \u001b[0;32min\u001b[0m \u001b[0msupport\u001b[0m\u001b[0;34m)\u001b[0m\u001b[0;34m,\u001b[0m \u001b[0msupport\u001b[0m\u001b[0;34m\u001b[0m\u001b[0;34m\u001b[0m\u001b[0m\n\u001b[0m\u001b[1;32m    123\u001b[0m     \u001b[0;31m# avoid priming constants\u001b[0m\u001b[0;34m\u001b[0m\u001b[0;34m\u001b[0m\u001b[0;34m\u001b[0m\u001b[0m\n\u001b[1;32m    124\u001b[0m     \u001b[0;31m# (no primed identifiers are declared for constants)\u001b[0m\u001b[0;34m\u001b[0m\u001b[0;34m\u001b[0m\u001b[0;34m\u001b[0m\u001b[0m\n",
      "\u001b[0;31mAssertionError\u001b[0m: {\"loc'\", 'loc'}"
     ]
    }
   ],
   "source": [
    "# Create a GR(1) specification\n",
    "specs = spec.GRSpec(env_vars, sys_vars, env_init, sys_init,\n",
    "                    env_safe, sys_safe, env_prog, sys_prog)\n",
    "specs.qinit = '\\E \\A'  # Moore initial condition synthesized too\n",
    "ctrl = synth.synthesize(specs)\n",
    "assert ctrl is not None, 'unrealizable'"
   ]
  },
  {
   "cell_type": "code",
   "execution_count": 57,
   "metadata": {},
   "outputs": [
    {
     "name": "stdout",
     "output_type": "stream",
     "text": [
      "(loc=27) && [](loc=52 -> X (loc=26 || loc=22 || loc=24 || loc=44 || loc=42 || loc=76 || loc=78)) && [](loc=67 -> X (loc=77 || loc=73 || loc=75 || loc=79 || loc=41 || loc=37 || loc=39 || loc=59 || loc=55 || loc=57 || loc=61)) && [](loc=64 -> X (loc=74 || loc=72 || loc=76 || loc=38 || loc=36 || loc=56 || loc=54 || loc=58)) && [](loc=62 -> X (loc=68 || loc=32 || loc=34)) && [](loc=43 -> X (loc=53 || loc=49 || loc=51 || loc=17 || loc=13 || loc=15 || loc=35 || loc=31 || loc=33 || loc=71 || loc=69)) && [](loc=53 -> X (loc=23 || loc=25 || loc=41 || loc=43 || loc=79)) && [](loc=66 -> X (loc=76 || loc=72 || loc=78 || loc=36 || loc=42 || loc=58 || loc=54)) && [](loc=37 -> X (loc=47 || loc=45 || loc=49 || loc=11 || loc=9 || loc=29 || loc=27 || loc=31 || loc=65 || loc=63 || loc=67)) && [](loc=19 -> X (loc=9 || loc=13 || loc=47 || loc=45 || loc=49)) && [](loc=46 -> X (loc=18 || loc=22 || loc=38 || loc=36 || loc=74 || loc=72 || loc=76)) && [](loc=15 -> X (loc=25 || loc=21 || loc=7 || loc=3 || loc=43 || loc=39)) && [](loc=2 -> X (loc=14 || loc=28 || loc=32)) && [](loc=29 -> X (loc=37 || loc=41 || loc=1 || loc=5 || loc=55 || loc=59)) && [](loc=32 -> X (loc=38 || loc=44 || loc=2 || loc=4 || loc=8 || loc=56 || loc=58 || loc=62)) && [](loc=57 -> X (loc=67 || loc=63 || loc=69 || loc=31 || loc=27)) && [](loc=3 -> X (loc=13 || loc=9 || loc=15 || loc=31 || loc=33)) && [](loc=55 -> X (loc=65 || loc=63 || loc=67 || loc=29 || loc=27 || loc=31)) && [](loc=1 -> X (loc=11 || loc=13 || loc=29 || loc=27 || loc=31)) && [](loc=6 -> X (loc=16 || loc=12 || loc=34)) && [](loc=28 -> X (loc=38 || loc=36 || loc=2 || loc=4 || loc=56 || loc=54 || loc=58)) && [](loc=38 -> X (loc=46 || loc=14 || loc=28 || loc=32 || loc=64 || loc=68)) && [](loc=74 -> X (loc=46 || loc=64 || loc=68)) && [](loc=33 -> X (loc=43 || loc=39 || loc=7 || loc=3 || loc=61)) && [](loc=36 -> X (loc=46 || loc=48 || loc=12 || loc=28 || loc=64 || loc=66)) && [](loc=11 -> X (loc=23 || loc=1 || loc=5 || loc=37 || loc=41)) && [](loc=8 -> X (loc=14 || loc=16 || loc=32 || loc=34)) && [](loc=39 -> X (loc=49 || loc=45 || loc=51 || loc=13 || loc=9 || loc=15 || loc=27 || loc=33 || loc=67 || loc=63 || loc=69)) && [](loc=51 -> X (loc=25 || loc=21 || loc=43 || loc=39 || loc=79 || loc=75)) && [](loc=21 -> X (loc=13 || loc=9 || loc=15 || loc=49 || loc=45 || loc=51)) && [](loc=59 -> X (loc=65 || loc=67 || loc=71 || loc=29 || loc=31 || loc=35)) && [](loc=22 -> X (loc=14 || loc=12 || loc=16 || loc=46 || loc=48 || loc=52)) && [](loc=61 -> X (loc=71 || loc=67 || loc=35 || loc=31 || loc=33)) && [](loc=27 -> X (loc=37 || loc=39 || loc=1 || loc=55 || loc=57)) && [](loc=56 -> X (loc=64 || loc=68 || loc=28 || loc=32)) && [](loc=26 -> X (loc=14 || loc=16 || loc=52)) && [](loc=4 -> X (loc=14 || loc=12 || loc=16 || loc=32 || loc=28 || loc=34)) && [](loc=54 -> X (loc=64 || loc=66 || loc=28)) && [](loc=76 -> X (loc=46 || loc=48 || loc=52 || loc=68 || loc=64 || loc=66)) && [](loc=75 -> X (loc=49 || loc=45 || loc=51 || loc=67 || loc=63 || loc=69)) && [](loc=65 -> X (loc=73 || loc=77 || loc=37 || loc=41 || loc=55 || loc=59)) && [](loc=12 -> X (loc=22 || loc=18 || loc=24 || loc=4 || loc=6 || loc=36 || loc=42)) && [](loc=17 -> X (loc=23 || loc=25 || loc=5 || loc=7 || loc=41 || loc=43)) && [](loc=23 -> X (loc=11 || loc=13 || loc=17 || loc=49 || loc=53)) && [](loc=77 -> X (loc=47 || loc=49 || loc=65 || loc=67 || loc=71)) && [](loc=41 -> X (loc=47 || loc=53 || loc=11 || loc=13 || loc=17 || loc=29 || loc=31 || loc=35 || loc=65 || loc=67 || loc=71)) && [](loc=69 -> X (loc=79 || loc=75 || loc=43 || loc=39 || loc=57)) && [](loc=35 -> X (loc=41 || loc=43 || loc=5 || loc=7 || loc=59 || loc=61)) && [](loc=13 -> X (loc=23 || loc=19 || loc=21 || loc=25 || loc=5 || loc=1 || loc=3 || loc=7 || loc=41 || loc=39 || loc=43)) && [](loc=45 -> X (loc=19 || loc=21 || loc=37 || loc=39 || loc=73 || loc=75)) && [](loc=79 -> X (loc=53 || loc=49 || loc=51 || loc=67 || loc=69)) && [](loc=73 -> X (loc=47 || loc=45 || loc=49 || loc=65 || loc=63 || loc=67)) && [](!( loc=64 || loc=1 || loc=37 || loc=73 || loc=9 || loc=11 || loc=12 || loc=13 || loc=46 || loc=14 || loc=15 || loc=16 || loc=17 || loc=19 || loc=55 || loc=28 )) && [](loc=48 -> X (loc=22 || loc=18 || loc=24 || loc=36 || loc=42 || loc=76 || loc=72 || loc=78)) && [](loc=63 -> X (loc=73 || loc=75 || loc=37 || loc=39 || loc=55 || loc=57)) && [](loc=5 -> X (loc=11 || loc=13 || loc=17 || loc=29 || loc=31 || loc=35)) && [](loc=58 -> X (loc=68 || loc=64 || loc=66 || loc=32 || loc=28 || loc=34)) && [](loc=44 -> X (loc=52 || loc=14 || loc=16 || loc=32 || loc=34 || loc=68)) && [](loc=49 -> X (loc=23 || loc=19 || loc=21 || loc=25 || loc=37 || loc=39 || loc=43 || loc=77 || loc=73 || loc=75 || loc=79)) && [](loc=25 -> X (loc=17 || loc=13 || loc=15 || loc=53 || loc=49 || loc=51)) && [](loc=78 -> X (loc=52 || loc=48 || loc=66)) && [](loc=24 -> X (loc=16 || loc=12 || loc=52 || loc=48)) && [](loc=31 -> X (loc=41 || loc=37 || loc=43 || loc=5 || loc=1 || loc=3 || loc=7 || loc=59 || loc=55 || loc=57 || loc=61)) && [](loc=47 -> X (loc=19 || loc=37 || loc=41 || loc=73 || loc=77)) && [](loc=14 -> X (loc=22 || loc=26 || loc=2 || loc=4 || loc=8 || loc=38 || loc=44)) && [](loc=71 -> X (loc=77 || loc=41 || loc=43 || loc=59 || loc=61)) && [](loc=18 -> X (loc=12 || loc=46 || loc=48)) && [](loc=7 -> X (loc=17 || loc=13 || loc=15 || loc=35 || loc=31 || loc=33)) && [](loc=68 -> X (loc=74 || loc=76 || loc=38 || loc=44 || loc=56 || loc=58 || loc=62)) && [](loc=16 -> X (loc=26 || loc=22 || loc=24 || loc=8 || loc=4 || loc=6 || loc=44 || loc=42)) && [](loc=9 -> X (loc=19 || loc=21 || loc=3 || loc=37 || loc=39)) && [](loc=42 -> X (loc=52 || loc=48 || loc=16 || loc=12 || loc=34 || loc=66)) && [](loc=72 -> X (loc=46 || loc=48 || loc=64 || loc=66)) && [](loc=34 -> X (loc=44 || loc=42 || loc=8 || loc=4 || loc=6 || loc=62 || loc=58)) && []<>(X(loc=69)) && []<>(( loc=18 || loc=19 || loc=21 || loc=22 || loc=23 || loc=24 || loc=25 || loc=26 )) && []<>(( loc=65 || loc=2 || loc=38 || loc=74 || loc=11 || loc=47 || loc=56 || loc=29 ))\n"
     ]
    }
   ],
   "source": [
    "print(specs)"
   ]
  },
  {
   "cell_type": "code",
   "execution_count": 56,
   "metadata": {},
   "outputs": [
    {
     "name": "stdout",
     "output_type": "stream",
     "text": [
      "X(loc=69)\n"
     ]
    }
   ],
   "source": [
    "print(ltl_formula_1)"
   ]
  },
  {
   "cell_type": "code",
   "execution_count": null,
   "metadata": {},
   "outputs": [],
   "source": []
  }
 ],
 "metadata": {
  "kernelspec": {
   "display_name": "Python 3",
   "language": "python",
   "name": "python3"
  },
  "language_info": {
   "codemirror_mode": {
    "name": "ipython",
    "version": 3
   },
   "file_extension": ".py",
   "mimetype": "text/x-python",
   "name": "python",
   "nbconvert_exporter": "python",
   "pygments_lexer": "ipython3",
   "version": "3.6.9"
  }
 },
 "nbformat": 4,
 "nbformat_minor": 4
}
