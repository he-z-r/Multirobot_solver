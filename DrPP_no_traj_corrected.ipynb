{
 "cells": [
  {
   "cell_type": "code",
   "execution_count": 248,
   "metadata": {},
   "outputs": [],
   "source": [
    "\"\"\" This script tries only using the TuLiP toolbox to solve a multirobot path planning (MrPP) problem.\n",
    "As opposed to multirobot path execution (MrPE) problem, predefined paths are not given\n",
    "\"\"\"\n",
    "\n",
    "# Import the packages that we need\n",
    "from __future__ import print_function\n",
    "import numpy as np\n",
    "from tulip import spec\n",
    "from tulip.transys import machines\n",
    "from tulip import synth\n",
    "import gr1_fragment"
   ]
  },
  {
   "cell_type": "code",
   "execution_count": 249,
   "metadata": {},
   "outputs": [],
   "source": [
    "# Define the parameters & desired trajectories\n",
    "num_robots = 2  # must be > 1\n",
    "num_cells = 8\n",
    "init = np.array([7, 8])\n",
    "dest = np.array([4, 1])"
   ]
  },
  {
   "cell_type": "code",
   "execution_count": 250,
   "metadata": {},
   "outputs": [],
   "source": [
    "# Define the env_vars based on the params % trajectories\n",
    "env_vars = set()\n",
    "env_vars_list = []\n",
    "for r in range(1, num_robots + 1):\n",
    "    env_vars_list.append([])\n",
    "    for p in range(1, num_cells + 1):\n",
    "        new_env_var = 's' + str(r) + 'a' + str(p)\n",
    "        env_vars |= {new_env_var}\n",
    "        env_vars_list[r - 1].append(new_env_var)"
   ]
  },
  {
   "cell_type": "code",
   "execution_count": 251,
   "metadata": {},
   "outputs": [
    {
     "name": "stdout",
     "output_type": "stream",
     "text": [
      "{'s2a8', 's1a4', 's1a5', 's2a2', 's1a2', 's2a5', 's2a3', 's2a7', 's1a6', 's2a1', 's1a3', 's2a4', 's2a6', 's1a7', 's1a8', 's1a1'}\n"
     ]
    }
   ],
   "source": [
    "print(env_vars)"
   ]
  },
  {
   "cell_type": "code",
   "execution_count": 252,
   "metadata": {},
   "outputs": [
    {
     "name": "stdout",
     "output_type": "stream",
     "text": [
      "[['s1a1', 's1a2', 's1a3', 's1a4', 's1a5', 's1a6', 's1a7', 's1a8'], ['s2a1', 's2a2', 's2a3', 's2a4', 's2a5', 's2a6', 's2a7', 's2a8']]\n"
     ]
    }
   ],
   "source": [
    "print(env_vars_list)"
   ]
  },
  {
   "cell_type": "code",
   "execution_count": 253,
   "metadata": {},
   "outputs": [],
   "source": [
    "# Define the initial conditions\n",
    "env_init = set()\n",
    "for r in range(num_robots):\n",
    "    env_init |= {env_vars_list[r][init[r] - 1]}"
   ]
  },
  {
   "cell_type": "code",
   "execution_count": 254,
   "metadata": {},
   "outputs": [
    {
     "name": "stdout",
     "output_type": "stream",
     "text": [
      "{'s1a7', 's2a8'}\n"
     ]
    }
   ],
   "source": [
    "print(env_init)"
   ]
  },
  {
   "cell_type": "code",
   "execution_count": 255,
   "metadata": {},
   "outputs": [],
   "source": [
    "env_safe = set()\n",
    "env_prog = set()\n",
    "# Encode the constraint that each robot can only appear in one position\n",
    "env_unique = set()\n",
    "for r in range(1, num_robots + 1):\n",
    "    for i in range(len(env_vars_list[r - 1])):\n",
    "        new_env_unique = '( ' + env_vars_list[r - 1][i] + ' ) <-> ( '\n",
    "        for j in range(len(env_vars_list[r - 1])):\n",
    "            if j != i:\n",
    "                new_env_unique += '!' + env_vars_list[r - 1][j] + ' && '\n",
    "        new_env_unique = new_env_unique[:-3] + ')'\n",
    "        env_unique |= {new_env_unique}\n",
    "env_safe |= env_unique"
   ]
  },
  {
   "cell_type": "code",
   "execution_count": 256,
   "metadata": {},
   "outputs": [
    {
     "name": "stdout",
     "output_type": "stream",
     "text": [
      "{'( s2a1 ) <-> ( !s2a2 && !s2a3 && !s2a4 && !s2a5 && !s2a6 && !s2a7 && !s2a8 )', '( s2a5 ) <-> ( !s2a1 && !s2a2 && !s2a3 && !s2a4 && !s2a6 && !s2a7 && !s2a8 )', '( s1a3 ) <-> ( !s1a1 && !s1a2 && !s1a4 && !s1a5 && !s1a6 && !s1a7 && !s1a8 )', '( s2a2 ) <-> ( !s2a1 && !s2a3 && !s2a4 && !s2a5 && !s2a6 && !s2a7 && !s2a8 )', '( s2a7 ) <-> ( !s2a1 && !s2a2 && !s2a3 && !s2a4 && !s2a5 && !s2a6 && !s2a8 )', '( s1a2 ) <-> ( !s1a1 && !s1a3 && !s1a4 && !s1a5 && !s1a6 && !s1a7 && !s1a8 )', '( s1a1 ) <-> ( !s1a2 && !s1a3 && !s1a4 && !s1a5 && !s1a6 && !s1a7 && !s1a8 )', '( s1a6 ) <-> ( !s1a1 && !s1a2 && !s1a3 && !s1a4 && !s1a5 && !s1a7 && !s1a8 )', '( s1a5 ) <-> ( !s1a1 && !s1a2 && !s1a3 && !s1a4 && !s1a6 && !s1a7 && !s1a8 )', '( s2a3 ) <-> ( !s2a1 && !s2a2 && !s2a4 && !s2a5 && !s2a6 && !s2a7 && !s2a8 )', '( s2a4 ) <-> ( !s2a1 && !s2a2 && !s2a3 && !s2a5 && !s2a6 && !s2a7 && !s2a8 )', '( s2a8 ) <-> ( !s2a1 && !s2a2 && !s2a3 && !s2a4 && !s2a5 && !s2a6 && !s2a7 )', '( s1a7 ) <-> ( !s1a1 && !s1a2 && !s1a3 && !s1a4 && !s1a5 && !s1a6 && !s1a8 )', '( s1a8 ) <-> ( !s1a1 && !s1a2 && !s1a3 && !s1a4 && !s1a5 && !s1a6 && !s1a7 )', '( s1a4 ) <-> ( !s1a1 && !s1a2 && !s1a3 && !s1a5 && !s1a6 && !s1a7 && !s1a8 )', '( s2a6 ) <-> ( !s2a1 && !s2a2 && !s2a3 && !s2a4 && !s2a5 && !s2a7 && !s2a8 )'}\n"
     ]
    }
   ],
   "source": [
    "print(env_unique)"
   ]
  },
  {
   "cell_type": "code",
   "execution_count": 257,
   "metadata": {},
   "outputs": [],
   "source": [
    "# Encode the transition system relations\n",
    "transition = np.array([[0, 2, 7, 5], [1, 3, 0, 0], [2, 4, 0, 6], [3, 0, 0, 8], [0, 0, 1, 0], [0, 0, 3, 0], [0, 0, 0, 1], [0, 0, 4, 0]])\n",
    "# transition = np.array([[0, 2, 0, 0], [1, 0, 0, 0]])\n",
    "# transition = np.array([[0, 2, 0, 0], [1, 3, 0, 0], [2, 0, 0, 0]])\n",
    "actions = ['up', 'down', 'left', 'right']\n",
    "env_trans = set()\n",
    "sys_trans = set()\n",
    "# env_trans |= {'( s1a1 ) -> ( stop1 || down1 )'}\n",
    "# env_trans |= {'( s1a2 ) -> ( stop1 || up1 )'}\n",
    "for i in range(1, num_cells + 1):\n",
    "    for r in range(num_robots):\n",
    "        for d in range(4):\n",
    "            if transition[i - 1][d] > 0:\n",
    "                env_trans |= {'( ' + env_vars_list[r][i - 1] + ' && ' + actions[d] + str(r + 1) + ' ) -> X( ' +\n",
    "                            env_vars_list[r][i - 1] + ' || ' + env_vars_list[r][transition[i - 1][d] - 1] + ' )'}\n",
    "                # env_trans |= {'( ' + env_vars_list[r][i - 1] + ' && ' + actions[d] + str(r + 1) + ' ) -> X( ' +\n",
    "                            # env_vars_list[r][transition[i - 1][d] - 1] + ' )'}\n",
    "            else:\n",
    "                sys_trans |= {'( ' + env_vars_list[r][i - 1] + ' ) -> ( !' + actions[d] + str(r + 1) + ' )'}\n",
    "                env_trans |= {'( ' + env_vars_list[r][i - 1] + ' && ' + actions[d] + str(r + 1) + ' ) -> X( ' +\n",
    "                      env_vars_list[r][i - 1] + ' )'}\n",
    "        env_trans |= {'( ' + env_vars_list[r][i - 1] + ' && ' + 'stop' + str(r + 1) + ' ) -> X( ' +\n",
    "                      env_vars_list[r][i - 1] + ' )'}\n",
    "\n",
    "env_safe |= env_trans"
   ]
  },
  {
   "cell_type": "code",
   "execution_count": 258,
   "metadata": {},
   "outputs": [
    {
     "name": "stdout",
     "output_type": "stream",
     "text": [
      "{'( s2a8 && stop2 ) -> X( s2a8 )', '( s1a1 && down1 ) -> X( s1a1 || s1a2 )', '( s1a1 && up1 ) -> X( s1a1 )', '( s1a3 && stop1 ) -> X( s1a3 )', '( s1a8 && right1 ) -> X( s1a8 )', '( s1a6 && down1 ) -> X( s1a6 )', '( s1a8 && down1 ) -> X( s1a8 )', '( s1a2 && stop1 ) -> X( s1a2 )', '( s2a1 && right2 ) -> X( s2a1 || s2a5 )', '( s1a2 && down1 ) -> X( s1a2 || s1a3 )', '( s2a3 && right2 ) -> X( s2a3 || s2a6 )', '( s1a6 && right1 ) -> X( s1a6 )', '( s2a6 && right2 ) -> X( s2a6 )', '( s2a4 && stop2 ) -> X( s2a4 )', '( s1a3 && right1 ) -> X( s1a3 || s1a6 )', '( s2a4 && right2 ) -> X( s2a4 || s2a8 )', '( s1a5 && down1 ) -> X( s1a5 )', '( s1a5 && up1 ) -> X( s1a5 )', '( s1a2 && up1 ) -> X( s1a2 || s1a1 )', '( s2a3 && left2 ) -> X( s2a3 )', '( s1a5 && right1 ) -> X( s1a5 )', '( s1a2 && left1 ) -> X( s1a2 )', '( s1a6 && left1 ) -> X( s1a6 || s1a3 )', '( s2a2 && down2 ) -> X( s2a2 || s2a3 )', '( s2a2 && stop2 ) -> X( s2a2 )', '( s2a6 && down2 ) -> X( s2a6 )', '( s2a6 && left2 ) -> X( s2a6 || s2a3 )', '( s1a7 && stop1 ) -> X( s1a7 )', '( s1a8 && left1 ) -> X( s1a8 || s1a4 )', '( s2a4 && left2 ) -> X( s2a4 )', '( s2a5 && down2 ) -> X( s2a5 )', '( s2a5 && up2 ) -> X( s2a5 )', '( s2a3 && up2 ) -> X( s2a3 || s2a2 )', '( s1a1 && stop1 ) -> X( s1a1 )', '( s2a2 && right2 ) -> X( s2a2 )', '( s1a4 && up1 ) -> X( s1a4 || s1a3 )', '( s2a8 && left2 ) -> X( s2a8 || s2a4 )', '( s1a4 && left1 ) -> X( s1a4 )', '( s1a5 && left1 ) -> X( s1a5 || s1a1 )', '( s2a8 && up2 ) -> X( s2a8 )', '( s2a5 && right2 ) -> X( s2a5 )', '( s1a4 && right1 ) -> X( s1a4 || s1a8 )', '( s1a4 && stop1 ) -> X( s1a4 )', '( s2a4 && down2 ) -> X( s2a4 )', '( s1a7 && down1 ) -> X( s1a7 )', '( s2a1 && down2 ) -> X( s2a1 || s2a2 )', '( s2a7 && right2 ) -> X( s2a7 || s2a1 )', '( s2a8 && right2 ) -> X( s2a8 )', '( s1a3 && up1 ) -> X( s1a3 || s1a2 )', '( s1a3 && down1 ) -> X( s1a3 || s1a4 )', '( s1a1 && left1 ) -> X( s1a1 || s1a7 )', '( s2a7 && stop2 ) -> X( s2a7 )', '( s1a2 && right1 ) -> X( s1a2 )', '( s2a1 && left2 ) -> X( s2a1 || s2a7 )', '( s1a4 && down1 ) -> X( s1a4 )', '( s1a7 && left1 ) -> X( s1a7 )', '( s1a6 && stop1 ) -> X( s1a6 )', '( s2a1 && stop2 ) -> X( s2a1 )', '( s1a8 && stop1 ) -> X( s1a8 )', '( s1a7 && right1 ) -> X( s1a7 || s1a1 )', '( s2a7 && up2 ) -> X( s2a7 )', '( s2a4 && up2 ) -> X( s2a4 || s2a3 )', '( s2a6 && stop2 ) -> X( s2a6 )', '( s2a2 && up2 ) -> X( s2a2 || s2a1 )', '( s2a5 && left2 ) -> X( s2a5 || s2a1 )', '( s1a6 && up1 ) -> X( s1a6 )', '( s1a5 && stop1 ) -> X( s1a5 )', '( s1a1 && right1 ) -> X( s1a1 || s1a5 )', '( s2a3 && stop2 ) -> X( s2a3 )', '( s2a6 && up2 ) -> X( s2a6 )', '( s2a5 && stop2 ) -> X( s2a5 )', '( s2a1 && up2 ) -> X( s2a1 )', '( s2a2 && left2 ) -> X( s2a2 )', '( s1a7 && up1 ) -> X( s1a7 )', '( s2a7 && down2 ) -> X( s2a7 )', '( s2a7 && left2 ) -> X( s2a7 )', '( s1a3 && left1 ) -> X( s1a3 )', '( s1a8 && up1 ) -> X( s1a8 )', '( s2a3 && down2 ) -> X( s2a3 || s2a4 )', '( s2a8 && down2 ) -> X( s2a8 )'}\n"
     ]
    }
   ],
   "source": [
    "print(env_trans)"
   ]
  },
  {
   "cell_type": "code",
   "execution_count": 259,
   "metadata": {},
   "outputs": [
    {
     "name": "stdout",
     "output_type": "stream",
     "text": [
      "80\n"
     ]
    }
   ],
   "source": [
    "print(len(env_trans))"
   ]
  },
  {
   "cell_type": "code",
   "execution_count": 260,
   "metadata": {},
   "outputs": [],
   "source": [
    "# Encode the constraint that every robot should stay after reaching its destination\n",
    "sys_dest_stop = set()\n",
    "sys_dest = set()\n",
    "for r in range(num_robots):\n",
    "    sys_dest_stop |= {'( ' + env_vars_list[r][dest[r] - 1] + ' ) -> X( ' + env_vars_list[r][dest[r] - 1] + ' )'}\n",
    "    sys_dest |= {env_vars_list[r][dest[r] - 1]}\n",
    "#env_safe |= env_dest_stop"
   ]
  },
  {
   "cell_type": "code",
   "execution_count": 261,
   "metadata": {},
   "outputs": [
    {
     "name": "stdout",
     "output_type": "stream",
     "text": [
      "{'( s1a4 ) -> X( s1a4 )', '( s2a1 ) -> X( s2a1 )'}\n"
     ]
    }
   ],
   "source": [
    "print(sys_dest_stop)"
   ]
  },
  {
   "cell_type": "code",
   "execution_count": 262,
   "metadata": {},
   "outputs": [
    {
     "name": "stdout",
     "output_type": "stream",
     "text": [
      "{'s2a1', 's1a4'}\n"
     ]
    }
   ],
   "source": [
    "print(sys_dest)"
   ]
  },
  {
   "cell_type": "code",
   "execution_count": 263,
   "metadata": {},
   "outputs": [],
   "source": [
    "# Encode the constraint that each robot should either not go or eventually not in the current cell\n",
    "env_go = set()\n",
    "for r in range(1, num_robots + 1):\n",
    "    for i in range(num_cells):\n",
    "        if i != dest[r - 1] - 1:\n",
    "            env_go |= {'( !' + env_vars_list[r - 1][i] + ' || ' + 'stop' + str(r) + ' )'}\n",
    "env_prog |= env_go\n",
    "\n",
    "# given that I defined the  effect of \"unavailable actions\" to be staying in place, either we need \n",
    "# to update this progress property (because if i am at a cell where left is not possible and i keep\n",
    "# saying left this progress property requires me to move eventually  which does not make sense)\n",
    "# the other option is  to explicitly ban the \"unavailable actions\" in system safety spec"
   ]
  },
  {
   "cell_type": "code",
   "execution_count": 264,
   "metadata": {},
   "outputs": [
    {
     "name": "stdout",
     "output_type": "stream",
     "text": [
      "{'( !s1a7 || stop1 )', '( !s1a3 || stop1 )', '( !s1a8 || stop1 )', '( !s2a3 || stop2 )', '( !s2a7 || stop2 )', '( !s2a8 || stop2 )', '( !s1a5 || stop1 )', '( !s1a1 || stop1 )', '( !s2a4 || stop2 )', '( !s2a5 || stop2 )', '( !s1a2 || stop1 )', '( !s2a2 || stop2 )', '( !s1a6 || stop1 )', '( !s2a6 || stop2 )'}\n"
     ]
    }
   ],
   "source": [
    "print(env_go)"
   ]
  },
  {
   "cell_type": "code",
   "execution_count": 265,
   "metadata": {},
   "outputs": [],
   "source": [
    "# Define sys_vars\n",
    "sys_vars = set()\n",
    "for r in range(1, num_robots + 1):\n",
    "    sys_vars |= {'stop' + str(r)}\n",
    "    sys_vars |= {'left' + str(r)}\n",
    "    sys_vars |= {'right' + str(r)}\n",
    "    sys_vars |= {'up' + str(r)}\n",
    "    sys_vars |= {'down' + str(r)}"
   ]
  },
  {
   "cell_type": "code",
   "execution_count": 266,
   "metadata": {},
   "outputs": [
    {
     "name": "stdout",
     "output_type": "stream",
     "text": [
      "{'right2', 'stop2', 'right1', 'stop1', 'up1', 'up2', 'left1', 'left2', 'down2', 'down1'}\n"
     ]
    }
   ],
   "source": [
    "print(sys_vars)"
   ]
  },
  {
   "cell_type": "code",
   "execution_count": 267,
   "metadata": {},
   "outputs": [
    {
     "name": "stdout",
     "output_type": "stream",
     "text": [
      "{'( stop1 ) <-> ( !right1 && !up1 && !down1 && !left1 )', '( left2 ) <-> ( !right2 && !up2 && !down2 && !stop2 )', '( right1 ) <-> ( !left1 && !up1 && !down1 && !stop1 )', '( up1 ) <-> ( !right1 && !left1 && !down1 && !stop1 )', '( down1 ) <-> ( !right1 && !up1 && !left1 && !stop1 )', '( right2 ) <-> ( !left2 && !up2 && !down2 && !stop2 )', '( down2 ) <-> ( !right2 && !up2 && !left2 && !stop2 )', '( stop2 ) <-> ( !right2 && !up2 && !down2 && !left2 )', '( left1 ) <-> ( !right1 && !up1 && !down1 && !stop1 )', '( up2 ) <-> ( !right2 && !left2 && !down2 && !stop2 )'}\n"
     ]
    }
   ],
   "source": [
    "# Define initial command. Assume nothing.\n",
    "sys_init = set()\n",
    "\n",
    "sys_safe = set()\n",
    "sys_prog = set()\n",
    "sys_prog |= sys_dest\n",
    "sys_safe |= sys_dest_stop\n",
    "sys_safe |= sys_trans\n",
    "# Encode the constraint that each time one action must be selected\n",
    "sys_act = set()\n",
    "for r in range(1, num_robots + 1):\n",
    "    sys_act |= {'( left' + str(r) + ' ) <-> ( ' + '!right' + str(r) + ' && ' + '!up' + str(r) + ' && ' + '!down' +\n",
    "                str(r) + ' && ' + '!stop' + str(r) + ' )'}\n",
    "    sys_act |= {'( right' + str(r) + ' ) <-> ( ' + '!left' + str(r) + ' && ' + '!up' + str(r) + ' && ' + '!down' +\n",
    "                str(r) + ' && ' + '!stop' + str(r) + ' )'}\n",
    "    sys_act |= {'( up' + str(r) + ' ) <-> ( ' + '!right' + str(r) + ' && ' + '!left' + str(r) + ' && ' + '!down' +\n",
    "                str(r) + ' && ' + '!stop' + str(r) + ' )'}\n",
    "    sys_act |= {'( down' + str(r) + ' ) <-> ( ' + '!right' + str(r) + ' && ' + '!up' + str(r) + ' && ' + '!left' +\n",
    "                str(r) + ' && ' + '!stop' + str(r) + ' )'}\n",
    "    sys_act |= {'( stop' + str(r) + ' ) <-> ( ' + '!right' + str(r) + ' && ' + '!up' + str(r) + ' && ' + '!down' +\n",
    "                str(r) + ' && ' + '!left' + str(r) + ' )'}\n",
    "    \n",
    "sys_safe |= sys_act\n",
    "print(sys_act)"
   ]
  },
  {
   "cell_type": "code",
   "execution_count": 268,
   "metadata": {},
   "outputs": [],
   "source": [
    "# Encode the constraint that if ending point is reached, not go. And if ending point is not reached, always exist some\n",
    "# robot that goes\n",
    "sys_stop = set()\n",
    "new_sys_nonstop = '( '\n",
    "for r in range(1, num_robots + 1):\n",
    "    sys_stop |= {'( ' + env_vars_list[r - 1][dest[r - 1] - 1] + ' ) -> ( ' + 'stop' + str(r) + ' )'}\n",
    "    new_sys_nonstop += '( !' + env_vars_list[r - 1][dest[r - 1] - 1] + ' ) || '\n",
    "new_sys_nonstop = new_sys_nonstop[:-3] + ') -> ( '\n",
    "for r in range(1, num_robots + 1):\n",
    "    new_sys_nonstop += '!stop' + str(r) + ' || '\n",
    "new_sys_nonstop = new_sys_nonstop[:-3] + ')'\n",
    "sys_stop |= {new_sys_nonstop}\n",
    "sys_safe |= sys_stop"
   ]
  },
  {
   "cell_type": "code",
   "execution_count": 269,
   "metadata": {},
   "outputs": [
    {
     "name": "stdout",
     "output_type": "stream",
     "text": [
      "{'( ( !s1a4 ) || ( !s2a1 ) ) -> ( !stop1 || !stop2 )', '( s2a1 ) -> ( stop2 )', '( s1a4 ) -> ( stop1 )'}\n"
     ]
    }
   ],
   "source": [
    "print(sys_stop)"
   ]
  },
  {
   "cell_type": "code",
   "execution_count": 270,
   "metadata": {},
   "outputs": [],
   "source": [
    "# Encode the collision avoidance constraints\n",
    "# No need if only one robot\n",
    "sys_collision = set()\n",
    "for i in range(num_cells):\n",
    "    new_sys_collision = '!( '\n",
    "    for r in range(num_robots):\n",
    "        new_sys_collision += env_vars_list[r][i] + ' && '\n",
    "    new_sys_collision = new_sys_collision[:-3] + ')'\n",
    "    sys_collision |= {new_sys_collision}\n",
    "sys_safe |= sys_collision"
   ]
  },
  {
   "cell_type": "code",
   "execution_count": 271,
   "metadata": {},
   "outputs": [
    {
     "name": "stdout",
     "output_type": "stream",
     "text": [
      "{'!( s1a2 && s2a2 )', '!( s1a7 && s2a7 )', '!( s1a6 && s2a6 )', '!( s1a5 && s2a5 )', '!( s1a8 && s2a8 )', '!( s1a4 && s2a4 )', '!( s1a3 && s2a3 )', '!( s1a1 && s2a1 )'}\n"
     ]
    }
   ],
   "source": [
    "print(sys_collision)"
   ]
  },
  {
   "cell_type": "code",
   "execution_count": 272,
   "metadata": {},
   "outputs": [],
   "source": [
    "# Create a GR(1) specification\n",
    "specs = spec.GRSpec(env_vars, sys_vars, env_init, sys_init,\n",
    "                    env_safe, sys_safe, env_prog, sys_prog)\n",
    "specs.qinit = '\\A \\E'  # Moore initial condition synthesized too\n",
    "specs.moore = False\n",
    "specs.plus_one = False"
   ]
  },
  {
   "cell_type": "code",
   "execution_count": 273,
   "metadata": {},
   "outputs": [
    {
     "name": "stdout",
     "output_type": "stream",
     "text": [
      "((s1a7) && (s2a8) && [](( s1a1 && up1 ) -> X( s1a1 )) && [](( s1a8 && right1 ) -> X( s1a8 )) && [](( s1a6 && down1 ) -> X( s1a6 )) && [](( s2a3 ) <-> ( !s2a1 && !s2a2 && !s2a4 && !s2a5 && !s2a6 && !s2a7 && !s2a8 )) && [](( s2a3 && right2 ) -> X( s2a3 || s2a6 )) && [](( s2a7 && down2 ) -> X( s2a7 )) && [](( s2a4 && stop2 ) -> X( s2a4 )) && [](( s1a3 && right1 ) -> X( s1a3 || s1a6 )) && [](( s2a4 && right2 ) -> X( s2a4 || s2a8 )) && [](( s1a8 && stop1 ) -> X( s1a8 )) && [](( s2a6 && left2 ) -> X( s2a6 || s2a3 )) && [](( s1a4 ) <-> ( !s1a1 && !s1a2 && !s1a3 && !s1a5 && !s1a6 && !s1a7 && !s1a8 )) && [](( s2a6 ) <-> ( !s2a1 && !s2a2 && !s2a3 && !s2a4 && !s2a5 && !s2a7 && !s2a8 )) && [](( s1a2 && up1 ) -> X( s1a2 || s1a1 )) && [](( s2a3 && left2 ) -> X( s2a3 )) && [](( s2a2 ) <-> ( !s2a1 && !s2a3 && !s2a4 && !s2a5 && !s2a6 && !s2a7 && !s2a8 )) && [](( s1a5 && right1 ) -> X( s1a5 )) && [](( s2a2 && down2 ) -> X( s2a2 || s2a3 )) && [](( s2a2 && stop2 ) -> X( s2a2 )) && [](( s2a6 && down2 ) -> X( s2a6 )) && [](( s1a7 && stop1 ) -> X( s1a7 )) && [](( s1a8 && left1 ) -> X( s1a8 || s1a4 )) && [](( s2a4 && left2 ) -> X( s2a4 )) && [](( s1a2 ) <-> ( !s1a1 && !s1a3 && !s1a4 && !s1a5 && !s1a6 && !s1a7 && !s1a8 )) && [](( s2a5 && down2 ) -> X( s2a5 )) && [](( s2a2 && right2 ) -> X( s2a2 )) && [](( s2a8 && left2 ) -> X( s2a8 || s2a4 )) && [](( s2a8 && up2 ) -> X( s2a8 )) && [](( s2a5 && right2 ) -> X( s2a5 )) && [](( s1a4 && right1 ) -> X( s1a4 || s1a8 )) && [](( s1a4 && stop1 ) -> X( s1a4 )) && [](( s2a7 && stop2 ) -> X( s2a7 )) && [](( s2a1 && left2 ) -> X( s2a1 || s2a7 )) && [](( s1a7 && left1 ) -> X( s1a7 )) && [](( s2a7 && up2 ) -> X( s2a7 )) && [](( s2a1 ) <-> ( !s2a2 && !s2a3 && !s2a4 && !s2a5 && !s2a6 && !s2a7 && !s2a8 )) && [](( s2a5 && left2 ) -> X( s2a5 || s2a1 )) && [](( s1a6 && up1 ) -> X( s1a6 )) && [](( s1a5 && stop1 ) -> X( s1a5 )) && [](( s1a1 && right1 ) -> X( s1a1 || s1a5 )) && [](( s2a3 && stop2 ) -> X( s2a3 )) && [](( s2a5 && stop2 ) -> X( s2a5 )) && [](( s2a1 && up2 ) -> X( s2a1 )) && [](( s2a2 && left2 ) -> X( s2a2 )) && [](( s1a8 && up1 ) -> X( s1a8 )) && [](( s2a8 && right2 ) -> X( s2a8 )) && [](( s2a8 && down2 ) -> X( s2a8 )) && [](( s2a8 && stop2 ) -> X( s2a8 )) && [](( s1a1 && down1 ) -> X( s1a1 || s1a2 )) && [](( s1a3 && stop1 ) -> X( s1a3 )) && [](( s1a8 && down1 ) -> X( s1a8 )) && [](( s1a2 && stop1 ) -> X( s1a2 )) && [](( s2a1 && right2 ) -> X( s2a1 || s2a5 )) && [](( s1a2 && down1 ) -> X( s1a2 || s1a3 )) && [](( s1a6 && right1 ) -> X( s1a6 )) && [](( s2a6 && right2 ) -> X( s2a6 )) && [](( s1a5 && down1 ) -> X( s1a5 )) && [](( s1a6 && left1 ) -> X( s1a6 || s1a3 )) && [](( s1a5 && up1 ) -> X( s1a5 )) && [](( s2a5 ) <-> ( !s2a1 && !s2a2 && !s2a3 && !s2a4 && !s2a6 && !s2a7 && !s2a8 )) && [](( s1a2 && left1 ) -> X( s1a2 )) && [](( s2a7 ) <-> ( !s2a1 && !s2a2 && !s2a3 && !s2a4 && !s2a5 && !s2a6 && !s2a8 )) && [](( s2a5 && up2 ) -> X( s2a5 )) && [](( s1a6 ) <-> ( !s1a1 && !s1a2 && !s1a3 && !s1a4 && !s1a5 && !s1a7 && !s1a8 )) && [](( s1a5 ) <-> ( !s1a1 && !s1a2 && !s1a3 && !s1a4 && !s1a6 && !s1a7 && !s1a8 )) && [](( s2a3 && up2 ) -> X( s2a3 || s2a2 )) && [](( s1a1 && stop1 ) -> X( s1a1 )) && [](( s1a4 && up1 ) -> X( s1a4 || s1a3 )) && [](( s2a8 ) <-> ( !s2a1 && !s2a2 && !s2a3 && !s2a4 && !s2a5 && !s2a6 && !s2a7 )) && [](( s1a7 ) <-> ( !s1a1 && !s1a2 && !s1a3 && !s1a4 && !s1a5 && !s1a6 && !s1a8 )) && [](( s1a4 && left1 ) -> X( s1a4 )) && [](( s1a5 && left1 ) -> X( s1a5 || s1a1 )) && [](( s1a3 ) <-> ( !s1a1 && !s1a2 && !s1a4 && !s1a5 && !s1a6 && !s1a7 && !s1a8 )) && [](( s1a7 && down1 ) -> X( s1a7 )) && [](( s2a4 && down2 ) -> X( s2a4 )) && [](( s2a1 && down2 ) -> X( s2a1 || s2a2 )) && [](( s2a7 && right2 ) -> X( s2a7 || s2a1 )) && [](( s1a3 && up1 ) -> X( s1a3 || s1a2 )) && [](( s1a3 && down1 ) -> X( s1a3 || s1a4 )) && [](( s1a1 && left1 ) -> X( s1a1 || s1a7 )) && [](( s1a2 && right1 ) -> X( s1a2 )) && [](( s1a4 && down1 ) -> X( s1a4 )) && [](( s1a6 && stop1 ) -> X( s1a6 )) && [](( s1a8 ) <-> ( !s1a1 && !s1a2 && !s1a3 && !s1a4 && !s1a5 && !s1a6 && !s1a7 )) && [](( s2a1 && stop2 ) -> X( s2a1 )) && [](( s1a7 && right1 ) -> X( s1a7 || s1a1 )) && [](( s2a4 && up2 ) -> X( s2a4 || s2a3 )) && [](( s2a6 && stop2 ) -> X( s2a6 )) && [](( s2a2 && up2 ) -> X( s2a2 || s2a1 )) && [](( s1a1 ) <-> ( !s1a2 && !s1a3 && !s1a4 && !s1a5 && !s1a6 && !s1a7 && !s1a8 )) && [](( s2a4 ) <-> ( !s2a1 && !s2a2 && !s2a3 && !s2a5 && !s2a6 && !s2a7 && !s2a8 )) && [](( s2a6 && up2 ) -> X( s2a6 )) && [](( s2a7 && left2 ) -> X( s2a7 )) && [](( s1a7 && up1 ) -> X( s1a7 )) && [](( s1a3 && left1 ) -> X( s1a3 )) && [](( s2a3 && down2 ) -> X( s2a3 || s2a4 )) && []<>(( !s1a7 || stop1 )) && []<>(( !s1a3 || stop1 )) && []<>(( !s1a8 || stop1 )) && []<>(( !s2a3 || stop2 )) && []<>(( !s2a7 || stop2 )) && []<>(( !s2a8 || stop2 )) && []<>(( !s1a5 || stop1 )) && []<>(( !s1a1 || stop1 )) && []<>(( !s2a4 || stop2 )) && []<>(( !s2a5 || stop2 )) && []<>(( !s1a2 || stop1 )) && []<>(( !s2a2 || stop2 )) && []<>(( !s1a6 || stop1 )) && []<>(( !s2a6 || stop2 ))) -> ([](( s1a8 ) -> ( !down1 )) && [](( s2a8 ) -> ( !right2 )) && [](( s2a6 ) -> ( !right2 )) && [](( s1a2 ) -> ( !right1 )) && [](( s1a4 ) -> ( !left1 )) && [](( down1 ) <-> ( !right1 && !up1 && !left1 && !stop1 )) && [](!( s1a7 && s2a7 )) && [](( s1a6 ) -> ( !down1 )) && [](( s1a4 ) -> ( stop1 )) && [](( s2a1 ) -> ( !up2 )) && [](( s2a6 ) -> ( !up2 )) && [](( s2a6 ) -> ( !down2 )) && [](( s2a4 ) -> ( !down2 )) && [](( s2a4 ) -> ( !left2 )) && [](( s2a5 ) -> ( !up2 )) && [](( s2a8 ) -> ( !down2 )) && [](( s1a4 ) -> ( !down1 )) && [](( s1a5 ) -> ( !down1 )) && [](( s1a7 ) -> ( !up1 )) && [](( s1a5 ) -> ( !up1 )) && [](!( s1a8 && s2a8 )) && [](!( s1a4 && s2a4 )) && [](!( s1a3 && s2a3 )) && [](( s2a8 ) -> ( !up2 )) && [](( down2 ) <-> ( !right2 && !up2 && !left2 && !stop2 )) && [](( s1a5 ) -> ( !right1 )) && [](( s1a8 ) -> ( !up1 )) && [](( ( !s1a4 ) || ( !s2a1 ) ) -> ( !stop1 || !stop2 )) && [](( s1a1 ) -> ( !up1 )) && [](( s2a2 ) -> ( !left2 )) && [](( s1a8 ) -> ( !right1 )) && [](( s2a3 ) -> ( !left2 )) && [](( s1a7 ) -> ( !left1 )) && [](( s2a5 ) -> ( !down2 )) && [](( left2 ) <-> ( !right2 && !up2 && !down2 && !stop2 )) && [](( s2a1 ) -> ( stop2 )) && [](( up1 ) <-> ( !right1 && !left1 && !down1 && !stop1 )) && [](!( s1a1 && s2a1 )) && [](!( s1a2 && s2a2 )) && [](( stop2 ) <-> ( !right2 && !up2 && !down2 && !left2 )) && [](!( s1a5 && s2a5 )) && [](( s2a1 ) -> X( s2a1 )) && [](( s2a7 ) -> ( !down2 )) && [](( left1 ) <-> ( !right1 && !up1 && !down1 && !stop1 )) && [](( s1a3 ) -> ( !left1 )) && [](( s1a2 ) -> ( !left1 )) && [](( up2 ) <-> ( !right2 && !left2 && !down2 && !stop2 )) && [](( s1a6 ) -> ( !up1 )) && [](( stop1 ) <-> ( !right1 && !up1 && !down1 && !left1 )) && [](( right1 ) <-> ( !left1 && !up1 && !down1 && !stop1 )) && [](( s2a2 ) -> ( !right2 )) && [](( s2a5 ) -> ( !right2 )) && [](( s2a7 ) -> ( !up2 )) && [](( right2 ) <-> ( !left2 && !up2 && !down2 && !stop2 )) && [](( s2a7 ) -> ( !left2 )) && [](( s1a7 ) -> ( !down1 )) && [](( s1a4 ) -> X( s1a4 )) && [](!( s1a6 && s2a6 )) && [](( s1a6 ) -> ( !right1 )) && []<>(s2a1) && []<>(s1a4))\n"
     ]
    }
   ],
   "source": [
    "print(specs)"
   ]
  },
  {
   "cell_type": "code",
   "execution_count": 274,
   "metadata": {},
   "outputs": [
    {
     "name": "stdout",
     "output_type": "stream",
     "text": [
      "Start synthesis\n",
      "removed 86640 nodes from 86657 total\n",
      "End synthesis\n"
     ]
    }
   ],
   "source": [
    "print('Start synthesis')\n",
    "ctrl = synth.synthesize(specs)\n",
    "print('End synthesis')\n",
    "assert ctrl is not None, 'unrealizable'"
   ]
  },
  {
   "cell_type": "code",
   "execution_count": 275,
   "metadata": {},
   "outputs": [
    {
     "name": "stdout",
     "output_type": "stream",
     "text": [
      "move from\n",
      "\t state: Sinit\n",
      "\t with input:{'s2a8': True, 's1a4': False, 's1a5': False, 's2a2': False, 's1a2': False, 's2a5': False, 's2a3': False, 's2a7': False, 's1a6': False, 's2a1': False, 's1a3': False, 's2a4': False, 's2a6': False, 's1a7': True, 's1a8': False, 's1a1': False}\n",
      "\t to state: 0\n",
      "\t reacting by producing output: {'right2': False, 'stop2': False, 'right1': False, 'stop1': True, 'up1': False, 'up2': False, 'left1': False, 'left2': True, 'down2': False, 'down1': False}\n",
      "move from\n",
      "\t state: 0\n",
      "\t with input:{'s2a8': True, 's1a4': False, 's1a5': False, 's2a2': False, 's1a2': False, 's2a5': False, 's2a3': False, 's2a7': False, 's1a6': False, 's2a1': False, 's1a3': False, 's2a4': False, 's2a6': False, 's1a7': True, 's1a8': False, 's1a1': False}\n",
      "\t to state: 0\n",
      "\t reacting by producing output: {'right2': False, 'stop2': False, 'right1': False, 'stop1': True, 'up1': False, 'up2': False, 'left1': False, 'left2': True, 'down2': False, 'down1': False}\n",
      "move from\n",
      "\t state: 0\n",
      "\t with input:{'s2a8': False, 's1a4': False, 's1a5': False, 's2a2': False, 's1a2': False, 's2a5': False, 's2a3': False, 's2a7': False, 's1a6': False, 's2a1': False, 's1a3': False, 's2a4': True, 's2a6': False, 's1a7': True, 's1a8': False, 's1a1': False}\n",
      "\t to state: 16384\n",
      "\t reacting by producing output: {'right2': False, 'stop2': True, 'right1': True, 'stop1': False, 'up1': False, 'up2': False, 'left1': False, 'left2': False, 'down2': False, 'down1': False}\n",
      "move from\n",
      "\t state: 16384\n",
      "\t with input:{'s2a8': False, 's1a4': False, 's1a5': False, 's2a2': False, 's1a2': False, 's2a5': False, 's2a3': False, 's2a7': False, 's1a6': False, 's2a1': False, 's1a3': False, 's2a4': True, 's2a6': False, 's1a7': True, 's1a8': False, 's1a1': False}\n",
      "\t to state: 16384\n",
      "\t reacting by producing output: {'right2': False, 'stop2': True, 'right1': True, 'stop1': False, 'up1': False, 'up2': False, 'left1': False, 'left2': False, 'down2': False, 'down1': False}\n",
      "move from\n",
      "\t state: 16384\n",
      "\t with input:{'s2a8': False, 's1a4': False, 's1a5': False, 's2a2': False, 's1a2': False, 's2a5': False, 's2a3': False, 's2a7': False, 's1a6': False, 's2a1': False, 's1a3': False, 's2a4': True, 's2a6': False, 's1a7': True, 's1a8': False, 's1a1': False}\n",
      "\t to state: 16384\n",
      "\t reacting by producing output: {'right2': False, 'stop2': True, 'right1': True, 'stop1': False, 'up1': False, 'up2': False, 'left1': False, 'left2': False, 'down2': False, 'down1': False}\n",
      "move from\n",
      "\t state: 16384\n",
      "\t with input:{'s2a8': False, 's1a4': False, 's1a5': False, 's2a2': False, 's1a2': False, 's2a5': False, 's2a3': False, 's2a7': False, 's1a6': False, 's2a1': False, 's1a3': False, 's2a4': True, 's2a6': False, 's1a7': True, 's1a8': False, 's1a1': False}\n",
      "\t to state: 16384\n",
      "\t reacting by producing output: {'right2': False, 'stop2': True, 'right1': True, 'stop1': False, 'up1': False, 'up2': False, 'left1': False, 'left2': False, 'down2': False, 'down1': False}\n",
      "move from\n",
      "\t state: 16384\n",
      "\t with input:{'s2a8': False, 's1a4': False, 's1a5': False, 's2a2': False, 's1a2': False, 's2a5': False, 's2a3': False, 's2a7': False, 's1a6': False, 's2a1': False, 's1a3': False, 's2a4': True, 's2a6': False, 's1a7': True, 's1a8': False, 's1a1': False}\n",
      "\t to state: 16384\n",
      "\t reacting by producing output: {'right2': False, 'stop2': True, 'right1': True, 'stop1': False, 'up1': False, 'up2': False, 'left1': False, 'left2': False, 'down2': False, 'down1': False}\n",
      "move from\n",
      "\t state: 16384\n",
      "\t with input:{'s2a8': False, 's1a4': False, 's1a5': False, 's2a2': False, 's1a2': False, 's2a5': False, 's2a3': False, 's2a7': False, 's1a6': False, 's2a1': False, 's1a3': False, 's2a4': True, 's2a6': False, 's1a7': True, 's1a8': False, 's1a1': False}\n",
      "\t to state: 16384\n",
      "\t reacting by producing output: {'right2': False, 'stop2': True, 'right1': True, 'stop1': False, 'up1': False, 'up2': False, 'left1': False, 'left2': False, 'down2': False, 'down1': False}\n",
      "move from\n",
      "\t state: 16384\n",
      "\t with input:{'s2a8': False, 's1a4': False, 's1a5': False, 's2a2': False, 's1a2': False, 's2a5': False, 's2a3': False, 's2a7': False, 's1a6': False, 's2a1': False, 's1a3': False, 's2a4': True, 's2a6': False, 's1a7': True, 's1a8': False, 's1a1': False}\n",
      "\t to state: 16384\n",
      "\t reacting by producing output: {'right2': False, 'stop2': True, 'right1': True, 'stop1': False, 'up1': False, 'up2': False, 'left1': False, 'left2': False, 'down2': False, 'down1': False}\n",
      "move from\n",
      "\t state: 16384\n",
      "\t with input:{'s2a8': False, 's1a4': False, 's1a5': False, 's2a2': False, 's1a2': False, 's2a5': False, 's2a3': False, 's2a7': False, 's1a6': False, 's2a1': False, 's1a3': False, 's2a4': True, 's2a6': False, 's1a7': False, 's1a8': False, 's1a1': True}\n",
      "\t to state: 24576\n",
      "\t reacting by producing output: {'right2': False, 'stop2': True, 'right1': False, 'stop1': False, 'up1': False, 'up2': False, 'left1': False, 'left2': False, 'down2': False, 'down1': True}\n",
      "move from\n",
      "\t state: 24576\n",
      "\t with input:{'s2a8': False, 's1a4': False, 's1a5': False, 's2a2': False, 's1a2': False, 's2a5': False, 's2a3': False, 's2a7': False, 's1a6': False, 's2a1': False, 's1a3': False, 's2a4': True, 's2a6': False, 's1a7': False, 's1a8': False, 's1a1': True}\n",
      "\t to state: 24576\n",
      "\t reacting by producing output: {'right2': False, 'stop2': True, 'right1': False, 'stop1': False, 'up1': False, 'up2': False, 'left1': False, 'left2': False, 'down2': False, 'down1': True}\n",
      "move from\n",
      "\t state: 24576\n",
      "\t with input:{'s2a8': False, 's1a4': False, 's1a5': False, 's2a2': False, 's1a2': False, 's2a5': False, 's2a3': False, 's2a7': False, 's1a6': False, 's2a1': False, 's1a3': False, 's2a4': True, 's2a6': False, 's1a7': False, 's1a8': False, 's1a1': True}\n",
      "\t to state: 24576\n",
      "\t reacting by producing output: {'right2': False, 'stop2': True, 'right1': False, 'stop1': False, 'up1': False, 'up2': False, 'left1': False, 'left2': False, 'down2': False, 'down1': True}\n",
      "move from\n",
      "\t state: 24576\n",
      "\t with input:{'s2a8': False, 's1a4': False, 's1a5': False, 's2a2': False, 's1a2': True, 's2a5': False, 's2a3': False, 's2a7': False, 's1a6': False, 's2a1': False, 's1a3': False, 's2a4': True, 's2a6': False, 's1a7': False, 's1a8': False, 's1a1': False}\n",
      "\t to state: 32768\n",
      "\t reacting by producing output: {'right2': False, 'stop2': True, 'right1': False, 'stop1': False, 'up1': False, 'up2': False, 'left1': False, 'left2': False, 'down2': False, 'down1': True}\n",
      "move from\n",
      "\t state: 32768\n",
      "\t with input:{'s2a8': False, 's1a4': False, 's1a5': False, 's2a2': False, 's1a2': True, 's2a5': False, 's2a3': False, 's2a7': False, 's1a6': False, 's2a1': False, 's1a3': False, 's2a4': True, 's2a6': False, 's1a7': False, 's1a8': False, 's1a1': False}\n",
      "\t to state: 32768\n",
      "\t reacting by producing output: {'right2': False, 'stop2': True, 'right1': False, 'stop1': False, 'up1': False, 'up2': False, 'left1': False, 'left2': False, 'down2': False, 'down1': True}\n",
      "move from\n",
      "\t state: 32768\n",
      "\t with input:{'s2a8': False, 's1a4': False, 's1a5': False, 's2a2': False, 's1a2': False, 's2a5': False, 's2a3': False, 's2a7': False, 's1a6': False, 's2a1': False, 's1a3': True, 's2a4': True, 's2a6': False, 's1a7': False, 's1a8': False, 's1a1': False}\n",
      "\t to state: 36864\n",
      "\t reacting by producing output: {'right2': False, 'stop2': True, 'right1': True, 'stop1': False, 'up1': False, 'up2': False, 'left1': False, 'left2': False, 'down2': False, 'down1': False}\n",
      "move from\n",
      "\t state: 36864\n",
      "\t with input:{'s2a8': False, 's1a4': False, 's1a5': False, 's2a2': False, 's1a2': False, 's2a5': False, 's2a3': False, 's2a7': False, 's1a6': False, 's2a1': False, 's1a3': True, 's2a4': True, 's2a6': False, 's1a7': False, 's1a8': False, 's1a1': False}\n",
      "\t to state: 36864\n",
      "\t reacting by producing output: {'right2': False, 'stop2': True, 'right1': True, 'stop1': False, 'up1': False, 'up2': False, 'left1': False, 'left2': False, 'down2': False, 'down1': False}\n",
      "move from\n",
      "\t state: 36864\n",
      "\t with input:{'s2a8': False, 's1a4': False, 's1a5': False, 's2a2': False, 's1a2': False, 's2a5': False, 's2a3': False, 's2a7': False, 's1a6': True, 's2a1': False, 's1a3': False, 's2a4': True, 's2a6': False, 's1a7': False, 's1a8': False, 's1a1': False}\n",
      "\t to state: 38912\n",
      "\t reacting by producing output: {'right2': False, 'stop2': False, 'right1': False, 'stop1': True, 'up1': False, 'up2': True, 'left1': False, 'left2': False, 'down2': False, 'down1': False}\n",
      "move from\n",
      "\t state: 38912\n",
      "\t with input:{'s2a8': False, 's1a4': False, 's1a5': False, 's2a2': False, 's1a2': False, 's2a5': False, 's2a3': True, 's2a7': False, 's1a6': True, 's2a1': False, 's1a3': False, 's2a4': False, 's2a6': False, 's1a7': False, 's1a8': False, 's1a1': False}\n",
      "\t to state: 39936\n",
      "\t reacting by producing output: {'right2': False, 'stop2': False, 'right1': False, 'stop1': True, 'up1': False, 'up2': True, 'left1': False, 'left2': False, 'down2': False, 'down1': False}\n",
      "move from\n",
      "\t state: 39936\n",
      "\t with input:{'s2a8': False, 's1a4': False, 's1a5': False, 's2a2': False, 's1a2': False, 's2a5': False, 's2a3': True, 's2a7': False, 's1a6': True, 's2a1': False, 's1a3': False, 's2a4': False, 's2a6': False, 's1a7': False, 's1a8': False, 's1a1': False}\n",
      "\t to state: 39936\n",
      "\t reacting by producing output: {'right2': False, 'stop2': False, 'right1': False, 'stop1': True, 'up1': False, 'up2': True, 'left1': False, 'left2': False, 'down2': False, 'down1': False}\n",
      "move from\n",
      "\t state: 39936\n",
      "\t with input:{'s2a8': False, 's1a4': False, 's1a5': False, 's2a2': False, 's1a2': False, 's2a5': False, 's2a3': True, 's2a7': False, 's1a6': True, 's2a1': False, 's1a3': False, 's2a4': False, 's2a6': False, 's1a7': False, 's1a8': False, 's1a1': False}\n",
      "\t to state: 39936\n",
      "\t reacting by producing output: {'right2': False, 'stop2': False, 'right1': False, 'stop1': True, 'up1': False, 'up2': True, 'left1': False, 'left2': False, 'down2': False, 'down1': False}\n",
      "move from\n",
      "\t state: 39936\n",
      "\t with input:{'s2a8': False, 's1a4': False, 's1a5': False, 's2a2': False, 's1a2': False, 's2a5': False, 's2a3': True, 's2a7': False, 's1a6': True, 's2a1': False, 's1a3': False, 's2a4': False, 's2a6': False, 's1a7': False, 's1a8': False, 's1a1': False}\n",
      "\t to state: 39936\n",
      "\t reacting by producing output: {'right2': False, 'stop2': False, 'right1': False, 'stop1': True, 'up1': False, 'up2': True, 'left1': False, 'left2': False, 'down2': False, 'down1': False}\n",
      "move from\n",
      "\t state: 39936\n",
      "\t with input:{'s2a8': False, 's1a4': False, 's1a5': False, 's2a2': True, 's1a2': False, 's2a5': False, 's2a3': False, 's2a7': False, 's1a6': True, 's2a1': False, 's1a3': False, 's2a4': False, 's2a6': False, 's1a7': False, 's1a8': False, 's1a1': False}\n",
      "\t to state: 46080\n",
      "\t reacting by producing output: {'right2': False, 'stop2': False, 'right1': False, 'stop1': False, 'up1': False, 'up2': True, 'left1': True, 'left2': False, 'down2': False, 'down1': False}\n",
      "move from\n",
      "\t state: 46080\n",
      "\t with input:{'s2a8': False, 's1a4': False, 's1a5': False, 's2a2': False, 's1a2': False, 's2a5': False, 's2a3': False, 's2a7': False, 's1a6': False, 's2a1': True, 's1a3': True, 's2a4': False, 's2a6': False, 's1a7': False, 's1a8': False, 's1a1': False}\n",
      "\t to state: 49152\n",
      "\t reacting by producing output: {'right2': False, 'stop2': True, 'right1': False, 'stop1': False, 'up1': False, 'up2': False, 'left1': False, 'left2': False, 'down2': False, 'down1': True}\n",
      "move from\n",
      "\t state: 49152\n",
      "\t with input:{'s2a8': False, 's1a4': True, 's1a5': False, 's2a2': False, 's1a2': False, 's2a5': False, 's2a3': False, 's2a7': False, 's1a6': False, 's2a1': True, 's1a3': False, 's2a4': False, 's2a6': False, 's1a7': False, 's1a8': False, 's1a1': False}\n",
      "\t to state: 57984\n",
      "\t reacting by producing output: {'right2': False, 'stop2': True, 'right1': False, 'stop1': True, 'up1': False, 'up2': False, 'left1': False, 'left2': False, 'down2': False, 'down1': False}\n",
      "move from\n",
      "\t state: 57984\n",
      "\t with input:{'s2a8': False, 's1a4': True, 's1a5': False, 's2a2': False, 's1a2': False, 's2a5': False, 's2a3': False, 's2a7': False, 's1a6': False, 's2a1': True, 's1a3': False, 's2a4': False, 's2a6': False, 's1a7': False, 's1a8': False, 's1a1': False}\n",
      "\t to state: 55296\n",
      "\t reacting by producing output: {'right2': False, 'stop2': True, 'right1': False, 'stop1': True, 'up1': False, 'up2': False, 'left1': False, 'left2': False, 'down2': False, 'down1': False}\n",
      "move from\n",
      "\t state: 55296\n",
      "\t with input:{'s2a8': False, 's1a4': True, 's1a5': False, 's2a2': False, 's1a2': False, 's2a5': False, 's2a3': False, 's2a7': False, 's1a6': False, 's2a1': True, 's1a3': False, 's2a4': False, 's2a6': False, 's1a7': False, 's1a8': False, 's1a1': False}\n",
      "\t to state: 57984\n",
      "\t reacting by producing output: {'right2': False, 'stop2': True, 'right1': False, 'stop1': True, 'up1': False, 'up2': False, 'left1': False, 'left2': False, 'down2': False, 'down1': False}\n",
      "move from\n",
      "\t state: 57984\n",
      "\t with input:{'s2a8': False, 's1a4': True, 's1a5': False, 's2a2': False, 's1a2': False, 's2a5': False, 's2a3': False, 's2a7': False, 's1a6': False, 's2a1': True, 's1a3': False, 's2a4': False, 's2a6': False, 's1a7': False, 's1a8': False, 's1a1': False}\n",
      "\t to state: 55296\n",
      "\t reacting by producing output: {'right2': False, 'stop2': True, 'right1': False, 'stop1': True, 'up1': False, 'up2': False, 'left1': False, 'left2': False, 'down2': False, 'down1': False}\n",
      "move from\n",
      "\t state: 55296\n",
      "\t with input:{'s2a8': False, 's1a4': True, 's1a5': False, 's2a2': False, 's1a2': False, 's2a5': False, 's2a3': False, 's2a7': False, 's1a6': False, 's2a1': True, 's1a3': False, 's2a4': False, 's2a6': False, 's1a7': False, 's1a8': False, 's1a1': False}\n",
      "\t to state: 57984\n",
      "\t reacting by producing output: {'right2': False, 'stop2': True, 'right1': False, 'stop1': True, 'up1': False, 'up2': False, 'left1': False, 'left2': False, 'down2': False, 'down1': False}\n",
      "move from\n",
      "\t state: 57984\n",
      "\t with input:{'s2a8': False, 's1a4': True, 's1a5': False, 's2a2': False, 's1a2': False, 's2a5': False, 's2a3': False, 's2a7': False, 's1a6': False, 's2a1': True, 's1a3': False, 's2a4': False, 's2a6': False, 's1a7': False, 's1a8': False, 's1a1': False}\n",
      "\t to state: 55296\n",
      "\t reacting by producing output: {'right2': False, 'stop2': True, 'right1': False, 'stop1': True, 'up1': False, 'up2': False, 'left1': False, 'left2': False, 'down2': False, 'down1': False}\n",
      "move from\n",
      "\t state: 55296\n",
      "\t with input:{'s2a8': False, 's1a4': True, 's1a5': False, 's2a2': False, 's1a2': False, 's2a5': False, 's2a3': False, 's2a7': False, 's1a6': False, 's2a1': True, 's1a3': False, 's2a4': False, 's2a6': False, 's1a7': False, 's1a8': False, 's1a1': False}\n",
      "\t to state: 57984\n",
      "\t reacting by producing output: {'right2': False, 'stop2': True, 'right1': False, 'stop1': True, 'up1': False, 'up2': False, 'left1': False, 'left2': False, 'down2': False, 'down1': False}\n"
     ]
    },
    {
     "data": {
      "text/plain": [
       "([0,\n",
       "  0,\n",
       "  16384,\n",
       "  16384,\n",
       "  16384,\n",
       "  16384,\n",
       "  16384,\n",
       "  16384,\n",
       "  16384,\n",
       "  24576,\n",
       "  24576,\n",
       "  24576,\n",
       "  32768,\n",
       "  32768,\n",
       "  36864,\n",
       "  36864,\n",
       "  38912,\n",
       "  39936,\n",
       "  39936,\n",
       "  39936,\n",
       "  39936,\n",
       "  46080,\n",
       "  49152,\n",
       "  57984,\n",
       "  55296,\n",
       "  57984,\n",
       "  55296,\n",
       "  57984,\n",
       "  55296,\n",
       "  57984],\n",
       " {'right2': [False,\n",
       "   False,\n",
       "   False,\n",
       "   False,\n",
       "   False,\n",
       "   False,\n",
       "   False,\n",
       "   False,\n",
       "   False,\n",
       "   False,\n",
       "   False,\n",
       "   False,\n",
       "   False,\n",
       "   False,\n",
       "   False,\n",
       "   False,\n",
       "   False,\n",
       "   False,\n",
       "   False,\n",
       "   False,\n",
       "   False,\n",
       "   False,\n",
       "   False,\n",
       "   False,\n",
       "   False,\n",
       "   False,\n",
       "   False,\n",
       "   False,\n",
       "   False,\n",
       "   False],\n",
       "  'stop2': [False,\n",
       "   False,\n",
       "   True,\n",
       "   True,\n",
       "   True,\n",
       "   True,\n",
       "   True,\n",
       "   True,\n",
       "   True,\n",
       "   True,\n",
       "   True,\n",
       "   True,\n",
       "   True,\n",
       "   True,\n",
       "   True,\n",
       "   True,\n",
       "   False,\n",
       "   False,\n",
       "   False,\n",
       "   False,\n",
       "   False,\n",
       "   False,\n",
       "   True,\n",
       "   True,\n",
       "   True,\n",
       "   True,\n",
       "   True,\n",
       "   True,\n",
       "   True,\n",
       "   True],\n",
       "  'right1': [False,\n",
       "   False,\n",
       "   True,\n",
       "   True,\n",
       "   True,\n",
       "   True,\n",
       "   True,\n",
       "   True,\n",
       "   True,\n",
       "   False,\n",
       "   False,\n",
       "   False,\n",
       "   False,\n",
       "   False,\n",
       "   True,\n",
       "   True,\n",
       "   False,\n",
       "   False,\n",
       "   False,\n",
       "   False,\n",
       "   False,\n",
       "   False,\n",
       "   False,\n",
       "   False,\n",
       "   False,\n",
       "   False,\n",
       "   False,\n",
       "   False,\n",
       "   False,\n",
       "   False],\n",
       "  'stop1': [True,\n",
       "   True,\n",
       "   False,\n",
       "   False,\n",
       "   False,\n",
       "   False,\n",
       "   False,\n",
       "   False,\n",
       "   False,\n",
       "   False,\n",
       "   False,\n",
       "   False,\n",
       "   False,\n",
       "   False,\n",
       "   False,\n",
       "   False,\n",
       "   True,\n",
       "   True,\n",
       "   True,\n",
       "   True,\n",
       "   True,\n",
       "   False,\n",
       "   False,\n",
       "   True,\n",
       "   True,\n",
       "   True,\n",
       "   True,\n",
       "   True,\n",
       "   True,\n",
       "   True],\n",
       "  'up1': [False,\n",
       "   False,\n",
       "   False,\n",
       "   False,\n",
       "   False,\n",
       "   False,\n",
       "   False,\n",
       "   False,\n",
       "   False,\n",
       "   False,\n",
       "   False,\n",
       "   False,\n",
       "   False,\n",
       "   False,\n",
       "   False,\n",
       "   False,\n",
       "   False,\n",
       "   False,\n",
       "   False,\n",
       "   False,\n",
       "   False,\n",
       "   False,\n",
       "   False,\n",
       "   False,\n",
       "   False,\n",
       "   False,\n",
       "   False,\n",
       "   False,\n",
       "   False,\n",
       "   False],\n",
       "  'up2': [False,\n",
       "   False,\n",
       "   False,\n",
       "   False,\n",
       "   False,\n",
       "   False,\n",
       "   False,\n",
       "   False,\n",
       "   False,\n",
       "   False,\n",
       "   False,\n",
       "   False,\n",
       "   False,\n",
       "   False,\n",
       "   False,\n",
       "   False,\n",
       "   True,\n",
       "   True,\n",
       "   True,\n",
       "   True,\n",
       "   True,\n",
       "   True,\n",
       "   False,\n",
       "   False,\n",
       "   False,\n",
       "   False,\n",
       "   False,\n",
       "   False,\n",
       "   False,\n",
       "   False],\n",
       "  'left1': [False,\n",
       "   False,\n",
       "   False,\n",
       "   False,\n",
       "   False,\n",
       "   False,\n",
       "   False,\n",
       "   False,\n",
       "   False,\n",
       "   False,\n",
       "   False,\n",
       "   False,\n",
       "   False,\n",
       "   False,\n",
       "   False,\n",
       "   False,\n",
       "   False,\n",
       "   False,\n",
       "   False,\n",
       "   False,\n",
       "   False,\n",
       "   True,\n",
       "   False,\n",
       "   False,\n",
       "   False,\n",
       "   False,\n",
       "   False,\n",
       "   False,\n",
       "   False,\n",
       "   False],\n",
       "  'left2': [True,\n",
       "   True,\n",
       "   False,\n",
       "   False,\n",
       "   False,\n",
       "   False,\n",
       "   False,\n",
       "   False,\n",
       "   False,\n",
       "   False,\n",
       "   False,\n",
       "   False,\n",
       "   False,\n",
       "   False,\n",
       "   False,\n",
       "   False,\n",
       "   False,\n",
       "   False,\n",
       "   False,\n",
       "   False,\n",
       "   False,\n",
       "   False,\n",
       "   False,\n",
       "   False,\n",
       "   False,\n",
       "   False,\n",
       "   False,\n",
       "   False,\n",
       "   False,\n",
       "   False],\n",
       "  'down2': [False,\n",
       "   False,\n",
       "   False,\n",
       "   False,\n",
       "   False,\n",
       "   False,\n",
       "   False,\n",
       "   False,\n",
       "   False,\n",
       "   False,\n",
       "   False,\n",
       "   False,\n",
       "   False,\n",
       "   False,\n",
       "   False,\n",
       "   False,\n",
       "   False,\n",
       "   False,\n",
       "   False,\n",
       "   False,\n",
       "   False,\n",
       "   False,\n",
       "   False,\n",
       "   False,\n",
       "   False,\n",
       "   False,\n",
       "   False,\n",
       "   False,\n",
       "   False,\n",
       "   False],\n",
       "  'down1': [False,\n",
       "   False,\n",
       "   False,\n",
       "   False,\n",
       "   False,\n",
       "   False,\n",
       "   False,\n",
       "   False,\n",
       "   False,\n",
       "   True,\n",
       "   True,\n",
       "   True,\n",
       "   True,\n",
       "   True,\n",
       "   False,\n",
       "   False,\n",
       "   False,\n",
       "   False,\n",
       "   False,\n",
       "   False,\n",
       "   False,\n",
       "   False,\n",
       "   True,\n",
       "   False,\n",
       "   False,\n",
       "   False,\n",
       "   False,\n",
       "   False,\n",
       "   False,\n",
       "   False]})"
      ]
     },
     "execution_count": 275,
     "metadata": {},
     "output_type": "execute_result"
    }
   ],
   "source": [
    "machines.random_run(ctrl, N=30)"
   ]
  },
  {
   "cell_type": "code",
   "execution_count": 29,
   "metadata": {},
   "outputs": [
    {
     "name": "stdout",
     "output_type": "stream",
     "text": [
      "3\n"
     ]
    }
   ],
   "source": [
    "print(len(env_unique))"
   ]
  },
  {
   "cell_type": "code",
   "execution_count": null,
   "metadata": {},
   "outputs": [],
   "source": []
  }
 ],
 "metadata": {
  "kernelspec": {
   "display_name": "Python 3",
   "language": "python",
   "name": "python3"
  },
  "language_info": {
   "codemirror_mode": {
    "name": "ipython",
    "version": 3
   },
   "file_extension": ".py",
   "mimetype": "text/x-python",
   "name": "python",
   "nbconvert_exporter": "python",
   "pygments_lexer": "ipython3",
   "version": "3.6.9"
  }
 },
 "nbformat": 4,
 "nbformat_minor": 4
}
