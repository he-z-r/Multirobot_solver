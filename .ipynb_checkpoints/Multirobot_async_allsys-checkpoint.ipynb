{
 "cells": [
  {
   "cell_type": "code",
   "execution_count": 66,
   "metadata": {},
   "outputs": [],
   "source": [
    "\"\"\" This script tries only using the TuLiP toolbox to solve a multirobot motion planning problem.\n",
    "Specifically, a field of cells and a number of robots are specified along with the system dynamics,\n",
    "and constraints are written in monolithic LTL syntax.\n",
    "The difference between this script and TuLiP_multirobot_solver.py\n",
    "\"\"\"\n",
    "\n",
    "# Import the packages that we need\n",
    "from __future__ import print_function\n",
    "import numpy as np\n",
    "from tulip import spec\n",
    "from tulip.transys import machines\n",
    "from tulip import synth\n",
    "import gr1_fragment\n",
    "import State_encoding\n",
    "import LTL_encoding"
   ]
  },
  {
   "cell_type": "code",
   "execution_count": 67,
   "metadata": {},
   "outputs": [],
   "source": [
    "# Workspace parameters\n",
    "num_rows = 3\n",
    "num_cols = 3\n",
    "num_robots = 2\n",
    "delay = 2\n",
    "robot_init_pos = np.array([[0, 1], [1, 0]])\n",
    "# The environment variables\n",
    "env_vars = {}\n",
    "env_init = set()\n",
    "env_prog = set()\n",
    "env_safe = set()"
   ]
  },
  {
   "cell_type": "code",
   "execution_count": 41,
   "metadata": {},
   "outputs": [],
   "source": [
    "# Define sys_vars\n",
    "sys_vars = {}\n",
    "for r in range(1, num_robots + 1):\n",
    "    sys_vars[('x' + str(r))] = (0, num_cols)\n",
    "    sys_vars[('y' + str(r))] = (0, num_rows)\n",
    "for r in range(1, num_robots + 1):\n",
    "    sys_vars['stop' + str(r)] = 'boolean'\n",
    "    sys_vars['left' + str(r)] = 'boolean'\n",
    "    sys_vars['right' + str(r)] = 'boolean'\n",
    "    sys_vars['up' + str(r)] = 'boolean'\n",
    "    sys_vars['down' + str(r)] = 'boolean'\n",
    "    sys_vars[('c' + str(r))] = (-1, delay + 1)\n",
    "    sys_vars[('delay' + str(r))] = 'boolean'\n",
    "print(sys_vars)"
   ]
  },
  {
   "cell_type": "code",
   "execution_count": 42,
   "metadata": {},
   "outputs": [
    {
     "name": "stdout",
     "output_type": "stream",
     "text": [
      "{}\n"
     ]
    }
   ],
   "source": [
    "# Define initial command.\n",
    "sys_init = set()\n",
    "for r in range(1, num_robots + 1):\n",
    "    sys_init |= {'x' + str(r) + '=' + str(robot_init_pos[r - 1][0])}\n",
    "    sys_init |= {'y' + str(r) + '=' + str(robot_init_pos[r - 1][1])}\n",
    "    sys_init |= {'c' + str(r) + '=0'}\n",
    "print(sys_init)"
   ]
  },
  {
   "cell_type": "code",
   "execution_count": null,
   "metadata": {},
   "outputs": [],
   "source": [
    "sys_safe = set()\n",
    "sys_prog = set()"
   ]
  },
  {
   "cell_type": "code",
   "execution_count": 43,
   "metadata": {},
   "outputs": [
    {
     "name": "stdout",
     "output_type": "stream",
     "text": [
      "{'( x2=1 && down2 ) -> X( x2=1 )', '( x2=2 && up2 ) -> X( x2=2 )', '( x1=1 && left1 ) -> ( ( X(x1=0) && !delay1 ) || ( X(x1=1 && left1) && delay1 ) )', '( x1=1 && right1 ) -> ( ( X(x1=2) && !delay1 ) || ( X(x1=1 && right1) && delay1 ) )', '( x1=0 && up1 ) -> X( x1=0 )', '( x1=0 && stop1 ) -> ( X( x1=0 ) && ( !delay1 ) )', '( x2=1 && right2 ) -> ( ( X(x2=2) && !delay2 ) || ( X(x2=1 && right2) && delay2 ) )', '( x1=2 && stop1 ) -> ( X( x1=2 ) && ( !delay1 ) )', '( x2=0 && stop2 ) -> ( X( x2=0 ) && ( !delay2 ) )', '( x1=2 && up1 ) -> X( x1=2 )', '( x2=1 && up2 ) -> X( x2=1 )', '( x1=1 && stop1 ) -> ( X( x1=1 ) && ( !delay1 ) )', '( x2=1 && stop2 ) -> ( X( x2=1 ) && ( !delay2 ) )', '( x1=0 && down1 ) -> X( x1=0 )', '( x2=0 && down2 ) -> X( x2=0 )', '( x1=0 && right1 ) -> ( ( X(x1=1) && !delay1 ) || ( X(x1=0 && right1) && delay1 ) )', '( x1=1 && up1 ) -> X( x1=1 )', '( x2=2 && left2 ) -> ( ( X(x2=1) && !delay2 ) || ( X(x2=2 && left2) && delay2 ) )', '( x1=1 && down1 ) -> X( x1=1 )', '( x2=0 && up2 ) -> X( x2=0 )', '( x2=2 && down2 ) -> X( x2=2 )', '( x1=2 && left1 ) -> ( ( X(x1=1) && !delay1 ) || ( X(x1=2 && left1) && delay1 ) )', '( x2=0 && right2 ) -> ( ( X(x2=1) && !delay2 ) || ( X(x2=0 && right2) && delay2 ) )', '( x2=1 && left2 ) -> ( ( X(x2=0) && !delay2 ) || ( X(x2=1 && left2) && delay2 ) )', '( x1=2 && down1 ) -> X( x1=2 )', '( x2=2 && stop2 ) -> ( X( x2=2 ) && ( !delay2 ) )'}\n",
      "{'( y2=0 && stop2 ) -> ( X( y2=0 ) && ( !delay2 ) )', '( y2=2 && left2 ) -> X( y2=2 )', '( y2=0 && right2 ) -> X( y2=0 )', '( y1=0 && up1 ) -> ( ( X(y1=1) && !delay1 ) || ( X(y1=0 && up1) && delay1 ) )', '( y2=0 && left2 ) -> X( y2=0 )', '( y1=1 && right1 ) -> X( y1=1 )', '( y1=1 && left1 ) -> X( y1=1 )', '( y1=1 && up1 ) -> ( ( X(y1=2) && !delay1 ) || ( X(y1=1 && up1) && delay1 ) )', '( y2=1 && up2 ) -> ( ( X(y2=2) && !delay2 ) || ( X(y2=1 && up2) && delay2 ) )', '( y1=0 && left1 ) -> X( y1=0 )', '( y2=1 && right2 ) -> X( y2=1 )', '( y1=2 && down1 ) -> ( ( X(y1=1) && !delay1 ) || ( X(y1=2 && down1) && delay1 ) )', '( y1=0 && stop1 ) -> ( X( y1=0 ) && ( !delay1 ) )', '( y1=1 && down1 ) -> ( ( X(y1=0) && !delay1 ) || ( X(y1=1 && down1) && delay1 ) )', '( y2=1 && stop2 ) -> ( X( y2=1 ) && ( !delay2 ) )', '( y1=1 && stop1 ) -> ( X( y1=1 ) && ( !delay1 ) )', '( y2=2 && down2 ) -> ( ( X(y2=1) && !delay2 ) || ( X(y2=2 && down2) && delay2 ) )', '( y1=2 && stop1 ) -> ( X( y1=2 ) && ( !delay1 ) )', '( y1=2 && left1 ) -> X( y1=2 )', '( y2=2 && right2 ) -> X( y2=2 )', '( y1=0 && right1 ) -> X( y1=0 )', '( y1=2 && right1 ) -> X( y1=2 )', '( y2=1 && left2 ) -> X( y2=1 )', '( y2=2 && stop2 ) -> ( X( y2=2 ) && ( !delay2 ) )', '( y2=0 && up2 ) -> ( ( X(y2=1) && !delay2 ) || ( X(y2=0 && up2) && delay2 ) )', '( y2=1 && down2 ) -> ( ( X(y2=0) && !delay2 ) || ( X(y2=1 && down2) && delay2 ) )'}\n"
     ]
    }
   ],
   "source": [
    "# Now no need to encode that each robot should only appear in one position\n",
    "# Encode the transition relations\n",
    "sys_trans_x = set()\n",
    "sys_trans_y = set()\n",
    "for r in range(1, num_robots + 1):\n",
    "    for col in range(num_cols):\n",
    "        if col != num_cols - 1:\n",
    "            sys_trans_x |= {'( x' + str(r) + '=' + str(col) + ' && right' + str(r) + ' ) -> ( ( X(x' + str(r) + '=' +\n",
    "                            str(col+1) + ') && !delay' + str(r) + ' ) || ( X(x' + str(r) + '=' + str(col) +\n",
    "                            ' && right' + str(r) + ') && delay' + str(r) + ' ) )'}\n",
    "        if col != 0:\n",
    "            sys_trans_x |= {'( x' + str(r) + '=' + str(col) + ' && left' + str(r) + ' ) -> ( ( X(x' + str(r) + '=' +\n",
    "                            str(col - 1) + ') && !delay' + str(r) + ' ) || ( X(x' + str(r) + '=' + str(col) +\n",
    "                            ' && left' + str(r) + ') && delay' + str(r) + ' ) )'}\n",
    "        sys_trans_x |= {'( x' + str(r) + '=' + str(col) + ' && up' + str(r) + ' ) -> X( x' + str(r) + '=' + str(col) +\n",
    "                        ' )'}\n",
    "        sys_trans_x |= {'( x' + str(r) + '=' + str(col) + ' && down' + str(r) + ' ) -> X( x' + str(r) + '=' + str(col) +\n",
    "                        ' )'}\n",
    "        sys_trans_x |= {'( x' + str(r) + '=' + str(col) + ' && stop' + str(r) + ' ) -> ( X( x' + str(r) + '=' + str(col) +\n",
    "                        ' ) && ( !delay' + str(r) + ' ) )'}\n",
    "    for row in range(num_rows):\n",
    "        if row != num_rows - 1:\n",
    "            sys_trans_y |= {'( y' + str(r) + '=' + str(row) + ' && up' + str(r) + ' ) -> ( ( X(y' + str(r) + '=' +\n",
    "                            str(row + 1) + ') && !delay' + str(r) + ' ) || ( X(y' + str(r) + '=' + str(row) +\n",
    "                            ' && up' + str(r) + ') && delay' + str(r) + ' ) )'}\n",
    "        if row != 0:\n",
    "            sys_trans_y |= {'( y' + str(r) + '=' + str(row) + ' && down' + str(r) + ' ) -> ( ( X(y' + str(r) + '=' +\n",
    "                            str(row - 1) + ') && !delay' + str(r) + ' ) || ( X(y' + str(r) + '=' + str(row) +\n",
    "                            ' && down' + str(r) + ') && delay' + str(r) + ' ) )'}\n",
    "        sys_trans_y |= {'( y' + str(r) + '=' + str(row) + ' && left' + str(r) + ' ) -> X( y' + str(r) + '=' + str(row) +\n",
    "                        ' )'}\n",
    "        sys_trans_y |= {'( y' + str(r) + '=' + str(row) + ' && right' + str(r) + ' ) -> X( y' + str(r) + '=' + str(row) +\n",
    "                        ' )'}\n",
    "        sys_trans_y |= {'( y' + str(r) + '=' + str(row) + ' && stop' + str(r) + ' ) -> ( X( y' + str(r) + '=' + str(row) +\n",
    "                        ' ) && ( !delay' + str(r) + ' ) )'}\n",
    "print(sys_trans_x)\n",
    "print(sys_trans_y)\n",
    "sys_safe |= sys_trans_x\n",
    "sys_safe |= sys_trans_y"
   ]
  },
  {
   "cell_type": "code",
   "execution_count": 44,
   "metadata": {},
   "outputs": [
    {
     "name": "stdout",
     "output_type": "stream",
     "text": [
      "{'x1': (0, 3), 'y1': (0, 3), 'x2': (0, 3), 'y2': (0, 3), 'stop1': 'boolean', 'left1': 'boolean', 'right1': 'boolean', 'up1': 'boolean', 'down1': 'boolean', 'c1': (-1, 3), 'delay1': 'boolean', 'stop2': 'boolean', 'left2': 'boolean', 'right2': 'boolean', 'up2': 'boolean', 'down2': 'boolean', 'c2': (-1, 3), 'delay2': 'boolean'}\n"
     ]
    }
   ],
   "source": [
    "# Relate the delay variables (delay#) to the clock variables (c#)\n",
    "delay2clock_minus = '( '\n",
    "delay2clock_plus = ''\n",
    "for r in range(1, num_robots + 1):\n",
    "    delay2clock_minus += '( delay' + str(r) + ' && c' + str(r) + '=' + str(delay) + ' ) || '\n",
    "delay2clock_plus = '( !' + delay2clock_minus[:-3] + ') ) -> ( '\n",
    "delay2clock_minus = delay2clock_minus[:-3] + ') -> ( '\n",
    "for r in range(1, num_robots + 1):\n",
    "    for c in range(delay + 1):\n",
    "        delay2clock_minus += '( ( !delay' + str(r) + ' && c' + str(r) + '=' + str(c) + ' ) -> X(c' + str(r) + '=' + \\\n",
    "                             str(c - 1) + ') ) && '\n",
    "        delay2clock_minus += '( ( delay' + str(r) + ' && c' + str(r) + '=' + str(c) + ' ) -> X(c' + str(r) + '=' + \\\n",
    "                             str(c) + ') ) && '\n",
    "        delay2clock_plus += '( ( delay' + str(r) + ' && c' + str(r) + '=' + str(c) + ' ) -> X(c' + str(r) + '=' + \\\n",
    "                            str(c + 1) + ') ) && '\n",
    "        delay2clock_plus += '( ( !delay' + str(r) + ' && c' + str(r) + '=' + str(c) + ' ) -> X(c' + str(r) + '=' + \\\n",
    "                            str(c) + ') ) && '\n",
    "delay2clock_minus = delay2clock_minus[:-3] + ')'\n",
    "delay2clock_plus = delay2clock_plus[:-3] + ')'\n",
    "print(delay2clock_minus)\n",
    "print(delay2clock_plus)\n",
    "sys_safe |= {delay2clock_minus}\n",
    "sys_safe |= {delay2clock_plus}"
   ]
  },
  {
   "cell_type": "code",
   "execution_count": 45,
   "metadata": {},
   "outputs": [
    {
     "name": "stdout",
     "output_type": "stream",
     "text": [
      "{'y2=0', 'c2=0', 'x1=0', 'x2=1', 'y1=1', 'c1=0'}\n"
     ]
    }
   ],
   "source": [
    "# Constraint on the maximum delay\n",
    "sys_max_delay = set()\n",
    "for r in range(1, num_robots + 1):\n",
    "    sys_max_delay |= {'!(c' + str(r) + '=' + '-1)'}\n",
    "    sys_max_delay |= {'!(c' + str(r) + '=' + str(delay + 1) + ')'}\n",
    "print(sys_max_delay)\n",
    "sys_safe |= sys_max_delay"
   ]
  },
  {
   "cell_type": "code",
   "execution_count": 46,
   "metadata": {},
   "outputs": [
    {
     "name": "stdout",
     "output_type": "stream",
     "text": [
      "( ( delay1 && c1=2 ) || ( delay2 && c2=2 ) ) -> ( ( ( !delay1 && c1=0 ) -> X(c1=-1) ) && ( ( delay1 && c1=0 ) -> X(c1=0) ) && ( ( !delay1 && c1=1 ) -> X(c1=0) ) && ( ( delay1 && c1=1 ) -> X(c1=1) ) && ( ( !delay1 && c1=2 ) -> X(c1=1) ) && ( ( delay1 && c1=2 ) -> X(c1=2) ) && ( ( !delay2 && c2=0 ) -> X(c2=-1) ) && ( ( delay2 && c2=0 ) -> X(c2=0) ) && ( ( !delay2 && c2=1 ) -> X(c2=0) ) && ( ( delay2 && c2=1 ) -> X(c2=1) ) && ( ( !delay2 && c2=2 ) -> X(c2=1) ) && ( ( delay2 && c2=2 ) -> X(c2=2) ) )\n",
      "( !( ( delay1 && c1=2 ) || ( delay2 && c2=2 ) ) ) -> ( ( ( delay1 && c1=0 ) -> X(c1=1) ) && ( ( !delay1 && c1=0 ) -> X(c1=0) ) && ( ( delay1 && c1=1 ) -> X(c1=2) ) && ( ( !delay1 && c1=1 ) -> X(c1=1) ) && ( ( delay1 && c1=2 ) -> X(c1=3) ) && ( ( !delay1 && c1=2 ) -> X(c1=2) ) && ( ( delay2 && c2=0 ) -> X(c2=1) ) && ( ( !delay2 && c2=0 ) -> X(c2=0) ) && ( ( delay2 && c2=1 ) -> X(c2=2) ) && ( ( !delay2 && c2=1 ) -> X(c2=1) ) && ( ( delay2 && c2=2 ) -> X(c2=3) ) && ( ( !delay2 && c2=2 ) -> X(c2=2) ) )\n"
     ]
    }
   ],
   "source": [
    "# Avoid bad actions\n",
    "sys_bad_act = set()\n",
    "for r in range(1, num_robots + 1):\n",
    "    sys_bad_act |= {'x' + str(r) + '=0 -> !left' + str(r)}\n",
    "    sys_bad_act |= {'x' + str(r) + '=' + str(num_cols - 1) + ' -> !right' + str(r)}\n",
    "    sys_bad_act |= {'y' + str(r) + '=0 -> !down' + str(r)}\n",
    "    sys_bad_act |= {'y' + str(r) + '=' + str(num_rows - 1) + ' -> !up' + str(r)}\n",
    "print(sys_bad_act)\n",
    "sys_safe |= sys_bad_act"
   ]
  },
  {
   "cell_type": "code",
   "execution_count": 47,
   "metadata": {},
   "outputs": [
    {
     "name": "stdout",
     "output_type": "stream",
     "text": [
      "{'!(c1=-1)', '!(c2=-1)', '!(c2=3)', '!(c1=3)'}\n"
     ]
    }
   ],
   "source": [
    "# Encode the constraint that each time exactly one action must be chosen\n",
    "sys_good_act = set()\n",
    "for r in range(1, num_robots + 1):\n",
    "    sys_good_act |= {'( left' + str(r) + ' ) <-> ( ' + '!right' + str(r) + ' && ' + '!up' + str(r) + ' && ' + '!down' +\n",
    "                str(r) + ' && ' + '!stop' + str(r) + ' )'}\n",
    "    sys_good_act |= {'( right' + str(r) + ' ) <-> ( ' + '!left' + str(r) + ' && ' + '!up' + str(r) + ' && ' + '!down' +\n",
    "                str(r) + ' && ' + '!stop' + str(r) + ' )'}\n",
    "    sys_good_act |= {'( up' + str(r) + ' ) <-> ( ' + '!right' + str(r) + ' && ' + '!left' + str(r) + ' && ' + '!down' +\n",
    "                str(r) + ' && ' + '!stop' + str(r) + ' )'}\n",
    "    sys_good_act |= {'( down' + str(r) + ' ) <-> ( ' + '!right' + str(r) + ' && ' + '!up' + str(r) + ' && ' + '!left' +\n",
    "                str(r) + ' && ' + '!stop' + str(r) + ' )'}\n",
    "    sys_good_act |= {'( stop' + str(r) + ' ) <-> ( ' + '!right' + str(r) + ' && ' + '!up' + str(r) + ' && ' + '!down' +\n",
    "                str(r) + ' && ' + '!left' + str(r) + ' )'}\n",
    "sys_safe |= sys_good_act\n",
    "print(sys_good_act)"
   ]
  },
  {
   "cell_type": "code",
   "execution_count": 48,
   "metadata": {},
   "outputs": [
    {
     "name": "stdout",
     "output_type": "stream",
     "text": [
      "{'x1=0 -> !left1', 'x2=0 -> !left2', 'y2=2 -> !up2', 'y1=0 -> !down1', 'x1=2 -> !right1', 'y2=0 -> !down2', 'y1=2 -> !up1', 'x2=2 -> !right2'}\n"
     ]
    }
   ],
   "source": [
    "# User-defined system requirements\n",
    "# Constraint 1: []<>([[0, 0], [0, 1], [0, 2]], 2)\n",
    "# Constraint 2: []!([1, 1], 1)\n",
    "# Constraint 3: ([]<>[2, 2], 2)\n",
    "\n",
    "sys_prog |= {'(x1=0) && (x2=0)'}\n",
    "sys_safe |= {'!(x1=1 && y1=1) && !(x2=1 && y2=1)'}\n",
    "sys_prog |= {'x1=2 && y1=2'}\n",
    "sys_prog |= {'x2=2 && y2=2'}"
   ]
  },
  {
   "cell_type": "code",
   "execution_count": 49,
   "metadata": {},
   "outputs": [],
   "source": [
    "# Create a GR(1) specification\n",
    "specs = spec.GRSpec(env_vars, sys_vars, env_init, sys_init,\n",
    "                    env_safe, sys_safe, env_prog, sys_prog)\n",
    "specs.qinit = '\\E \\A'  # Moore initial condition synthesized too\n",
    "specs.moore = False\n",
    "specs.plus_one = False"
   ]
  },
  {
   "cell_type": "code",
   "execution_count": 50,
   "metadata": {},
   "outputs": [
    {
     "name": "stdout",
     "output_type": "stream",
     "text": [
      "{'( left2 ) <-> ( !right2 && !up2 && !down2 && !stop2 )', '( left1 ) <-> ( !right1 && !up1 && !down1 && !stop1 )', '( up2 ) <-> ( !right2 && !left2 && !down2 && !stop2 )', '( up1 ) <-> ( !right1 && !left1 && !down1 && !stop1 )', '( stop1 ) <-> ( !right1 && !up1 && !down1 && !left1 )', '( down1 ) <-> ( !right1 && !up1 && !left1 && !stop1 )', '( right2 ) <-> ( !left2 && !up2 && !down2 && !stop2 )', '( stop2 ) <-> ( !right2 && !up2 && !down2 && !left2 )', '( right1 ) <-> ( !left1 && !up1 && !down1 && !stop1 )', '( down2 ) <-> ( !right2 && !up2 && !left2 && !stop2 )'}\n"
     ]
    }
   ],
   "source": [
    "specs.check_syntax()"
   ]
  },
  {
   "cell_type": "code",
   "execution_count": 51,
   "metadata": {},
   "outputs": [],
   "source": [
    "print(specs)"
   ]
  },
  {
   "cell_type": "code",
   "execution_count": 52,
   "metadata": {},
   "outputs": [],
   "source": [
    "print('Start synthesis')\n",
    "ctrl = synth.synthesize(specs)\n",
    "print('End synthesis')\n",
    "assert ctrl is not None, 'unrealizable'"
   ]
  },
  {
   "cell_type": "code",
   "execution_count": 53,
   "metadata": {},
   "outputs": [],
   "source": [
    "machines.random_run(ctrl, N=10)"
   ]
  },
  {
   "cell_type": "code",
   "execution_count": 54,
   "metadata": {
    "scrolled": true
   },
   "outputs": [
    {
     "name": "stdout",
     "output_type": "stream",
     "text": [
      "(y2=0) && (c2=0) && (x1=0) && (x2=1) && (y1=1) && (c1=0) && [](( x2=1 && down2 ) -> X( x2=1 )) && [](( y2=0 && stop2 ) -> ( X( y2=0 ) && ( !delay2 ) )) && [](( y2=2 && left2 ) -> X( y2=2 )) && [](( left2 ) <-> ( !right2 && !up2 && !down2 && !stop2 )) && [](( y2=0 && right2 ) -> X( y2=0 )) && [](( y1=0 && up1 ) -> ( ( X(y1=1) && !delay1 ) || ( X(y1=0 && up1) && delay1 ) )) && [](( y2=0 && left2 ) -> X( y2=0 )) && [](( x1=1 && right1 ) -> ( ( X(x1=2) && !delay1 ) || ( X(x1=1 && right1) && delay1 ) )) && [](x2=0 -> !left2) && [](( up1 ) <-> ( !right1 && !left1 && !down1 && !stop1 )) && [](!(c1=3)) && [](( down1 ) <-> ( !right1 && !up1 && !left1 && !stop1 )) && [](x1=0 -> !left1) && [](( y2=1 && up2 ) -> ( ( X(y2=2) && !delay2 ) || ( X(y2=1 && up2) && delay2 ) )) && [](( y1=0 && left1 ) -> X( y1=0 )) && [](( y2=1 && right2 ) -> X( y2=1 )) && [](!(c2=-1)) && [](y2=2 -> !up2) && [](( x1=0 && stop1 ) -> ( X( x1=0 ) && ( !delay1 ) )) && [](x1=2 -> !right1) && [](( x1=2 && stop1 ) -> ( X( x1=2 ) && ( !delay1 ) )) && [](( y1=0 && stop1 ) -> ( X( y1=0 ) && ( !delay1 ) )) && [](!(c2=3)) && [](( down2 ) <-> ( !right2 && !up2 && !left2 && !stop2 )) && [](( y2=1 && stop2 ) -> ( X( y2=1 ) && ( !delay2 ) )) && [](( y1=1 && stop1 ) -> ( X( y1=1 ) && ( !delay1 ) )) && [](( up2 ) <-> ( !right2 && !left2 && !down2 && !stop2 )) && [](( y2=2 && down2 ) -> ( ( X(y2=1) && !delay2 ) || ( X(y2=2 && down2) && delay2 ) )) && [](( x2=1 && stop2 ) -> ( X( x2=1 ) && ( !delay2 ) )) && [](( x1=0 && down1 ) -> X( x1=0 )) && [](( y1=2 && stop1 ) -> ( X( y1=2 ) && ( !delay1 ) )) && [](( x2=0 && down2 ) -> X( x2=0 )) && [](( y1=2 && left1 ) -> X( y1=2 )) && [](( y2=2 && right2 ) -> X( y2=2 )) && [](( y1=2 && right1 ) -> X( y1=2 )) && [](( x1=0 && right1 ) -> ( ( X(x1=1) && !delay1 ) || ( X(x1=0 && right1) && delay1 ) )) && [](( x1=1 && up1 ) -> X( x1=1 )) && [](y2=0 -> !down2) && [](( x1=1 && down1 ) -> X( x1=1 )) && [](( x2=0 && up2 ) -> X( x2=0 )) && [](( stop2 ) <-> ( !right2 && !up2 && !down2 && !left2 )) && [](!(x1=1 && y1=1) && !(x2=1 && y2=1)) && [](( x2=2 && down2 ) -> X( x2=2 )) && [](( x1=2 && left1 ) -> ( ( X(x1=1) && !delay1 ) || ( X(x1=2 && left1) && delay1 ) )) && [](( x2=0 && right2 ) -> ( ( X(x2=1) && !delay2 ) || ( X(x2=0 && right2) && delay2 ) )) && [](( y2=1 && down2 ) -> ( ( X(y2=0) && !delay2 ) || ( X(y2=1 && down2) && delay2 ) )) && [](( x2=2 && up2 ) -> X( x2=2 )) && [](( x1=2 && down1 ) -> X( x1=2 )) && [](( left1 ) <-> ( !right1 && !up1 && !down1 && !stop1 )) && [](( x1=1 && left1 ) -> ( ( X(x1=0) && !delay1 ) || ( X(x1=1 && left1) && delay1 ) )) && [](( y1=1 && right1 ) -> X( y1=1 )) && [](( y1=1 && left1 ) -> X( y1=1 )) && [](( y1=1 && up1 ) -> ( ( X(y1=2) && !delay1 ) || ( X(y1=1 && up1) && delay1 ) )) && [](( right2 ) <-> ( !left2 && !up2 && !down2 && !stop2 )) && [](( x1=0 && up1 ) -> X( x1=0 )) && [](!(c1=-1)) && [](( y1=2 && down1 ) -> ( ( X(y1=1) && !delay1 ) || ( X(y1=2 && down1) && delay1 ) )) && [](( x2=1 && right2 ) -> ( ( X(x2=2) && !delay2 ) || ( X(x2=1 && right2) && delay2 ) )) && [](( right1 ) <-> ( !left1 && !up1 && !down1 && !stop1 )) && [](y1=2 -> !up1) && [](( x2=0 && stop2 ) -> ( X( x2=0 ) && ( !delay2 ) )) && [](( x1=2 && up1 ) -> X( x1=2 )) && [](( y1=1 && down1 ) -> ( ( X(y1=0) && !delay1 ) || ( X(y1=1 && down1) && delay1 ) )) && [](( !( ( delay1 && c1=2 ) || ( delay2 && c2=2 ) ) ) -> ( ( ( delay1 && c1=0 ) -> X(c1=1) ) && ( ( !delay1 && c1=0 ) -> X(c1=0) ) && ( ( delay1 && c1=1 ) -> X(c1=2) ) && ( ( !delay1 && c1=1 ) -> X(c1=1) ) && ( ( delay1 && c1=2 ) -> X(c1=3) ) && ( ( !delay1 && c1=2 ) -> X(c1=2) ) && ( ( delay2 && c2=0 ) -> X(c2=1) ) && ( ( !delay2 && c2=0 ) -> X(c2=0) ) && ( ( delay2 && c2=1 ) -> X(c2=2) ) && ( ( !delay2 && c2=1 ) -> X(c2=1) ) && ( ( delay2 && c2=2 ) -> X(c2=3) ) && ( ( !delay2 && c2=2 ) -> X(c2=2) ) )) && [](( stop1 ) <-> ( !right1 && !up1 && !down1 && !left1 )) && [](( x2=1 && up2 ) -> X( x2=1 )) && [](( x1=1 && stop1 ) -> ( X( x1=1 ) && ( !delay1 ) )) && [](y1=0 -> !down1) && [](( y1=0 && right1 ) -> X( y1=0 )) && [](( x2=2 && left2 ) -> ( ( X(x2=1) && !delay2 ) || ( X(x2=2 && left2) && delay2 ) )) && [](( y2=1 && left2 ) -> X( y2=1 )) && [](( y2=2 && stop2 ) -> ( X( y2=2 ) && ( !delay2 ) )) && [](x2=2 -> !right2) && [](( ( delay1 && c1=2 ) || ( delay2 && c2=2 ) ) -> ( ( ( !delay1 && c1=0 ) -> X(c1=-1) ) && ( ( delay1 && c1=0 ) -> X(c1=0) ) && ( ( !delay1 && c1=1 ) -> X(c1=0) ) && ( ( delay1 && c1=1 ) -> X(c1=1) ) && ( ( !delay1 && c1=2 ) -> X(c1=1) ) && ( ( delay1 && c1=2 ) -> X(c1=2) ) && ( ( !delay2 && c2=0 ) -> X(c2=-1) ) && ( ( delay2 && c2=0 ) -> X(c2=0) ) && ( ( !delay2 && c2=1 ) -> X(c2=0) ) && ( ( delay2 && c2=1 ) -> X(c2=1) ) && ( ( !delay2 && c2=2 ) -> X(c2=1) ) && ( ( delay2 && c2=2 ) -> X(c2=2) ) )) && [](( y2=0 && up2 ) -> ( ( X(y2=1) && !delay2 ) || ( X(y2=0 && up2) && delay2 ) )) && [](( x2=1 && left2 ) -> ( ( X(x2=0) && !delay2 ) || ( X(x2=1 && left2) && delay2 ) )) && [](( x2=2 && stop2 ) -> ( X( x2=2 ) && ( !delay2 ) )) && []<>(x2=2 && y2=2) && []<>(x1=2 && y1=2) && []<>((x1=0) && (x2=0))\n"
     ]
    }
   ],
   "source": []
  },
  {
   "cell_type": "code",
   "execution_count": 55,
   "metadata": {},
   "outputs": [
    {
     "name": "stdout",
     "output_type": "stream",
     "text": [
      "Start synthesis\n",
      "removed 0 nodes from 20 total\n",
      "End synthesis\n"
     ]
    }
   ],
   "source": []
  },
  {
   "cell_type": "code",
   "execution_count": 65,
   "metadata": {
    "scrolled": false
   },
   "outputs": [
    {
     "name": "stdout",
     "output_type": "stream",
     "text": [
      "move from\n",
      "\t state: Sinit\n",
      "\t with input:{}\n",
      "\t to state: 0\n",
      "\t reacting by producing output: {'stop1': False, 'left1': False, 'right1': False, 'up1': False, 'down1': True, 'delay1': False, 'stop2': False, 'left2': False, 'right2': True, 'up2': False, 'down2': False, 'delay2': False, 'x1': 0, 'y1': 1, 'x2': 1, 'y2': 0, 'c1': 0, 'c2': 0}\n",
      "move from\n",
      "\t state: 0\n",
      "\t with input:{}\n",
      "\t to state: 1\n",
      "\t reacting by producing output: {'stop1': False, 'left1': False, 'right1': False, 'up1': True, 'down1': False, 'delay1': False, 'stop2': False, 'left2': False, 'right2': False, 'up2': True, 'down2': False, 'delay2': False, 'x1': 0, 'y1': 0, 'x2': 2, 'y2': 0, 'c1': 0, 'c2': 0}\n",
      "move from\n",
      "\t state: 1\n",
      "\t with input:{}\n",
      "\t to state: 2\n",
      "\t reacting by producing output: {'stop1': False, 'left1': False, 'right1': False, 'up1': False, 'down1': True, 'delay1': False, 'stop2': False, 'left2': False, 'right2': False, 'up2': True, 'down2': False, 'delay2': False, 'x1': 0, 'y1': 1, 'x2': 2, 'y2': 1, 'c1': 0, 'c2': 0}\n",
      "move from\n",
      "\t state: 2\n",
      "\t with input:{}\n",
      "\t to state: 3\n",
      "\t reacting by producing output: {'stop1': False, 'left1': False, 'right1': False, 'up1': True, 'down1': False, 'delay1': False, 'stop2': False, 'left2': False, 'right2': False, 'up2': False, 'down2': True, 'delay2': False, 'x1': 0, 'y1': 0, 'x2': 2, 'y2': 2, 'c1': 0, 'c2': 0}\n",
      "move from\n",
      "\t state: 3\n",
      "\t with input:{}\n",
      "\t to state: 4\n",
      "\t reacting by producing output: {'stop1': False, 'left1': False, 'right1': False, 'up1': False, 'down1': True, 'delay1': False, 'stop2': False, 'left2': False, 'right2': False, 'up2': False, 'down2': True, 'delay2': False, 'x1': 0, 'y1': 1, 'x2': 2, 'y2': 1, 'c1': 0, 'c2': 0}\n",
      "move from\n",
      "\t state: 4\n",
      "\t with input:{}\n",
      "\t to state: 5\n",
      "\t reacting by producing output: {'stop1': False, 'left1': False, 'right1': False, 'up1': True, 'down1': False, 'delay1': False, 'stop2': False, 'left2': False, 'right2': False, 'up2': True, 'down2': False, 'delay2': False, 'x1': 0, 'y1': 0, 'x2': 2, 'y2': 0, 'c1': 0, 'c2': 0}\n",
      "move from\n",
      "\t state: 5\n",
      "\t with input:{}\n",
      "\t to state: 6\n",
      "\t reacting by producing output: {'stop1': False, 'left1': False, 'right1': False, 'up1': True, 'down1': False, 'delay1': False, 'stop2': False, 'left2': False, 'right2': False, 'up2': False, 'down2': True, 'delay2': False, 'x1': 0, 'y1': 1, 'x2': 2, 'y2': 1, 'c1': 0, 'c2': 0}\n",
      "move from\n",
      "\t state: 6\n",
      "\t with input:{}\n",
      "\t to state: 7\n",
      "\t reacting by producing output: {'stop1': False, 'left1': False, 'right1': True, 'up1': False, 'down1': False, 'delay1': False, 'stop2': False, 'left2': False, 'right2': False, 'up2': True, 'down2': False, 'delay2': False, 'x1': 0, 'y1': 2, 'x2': 2, 'y2': 0, 'c1': 0, 'c2': 0}\n",
      "move from\n",
      "\t state: 7\n",
      "\t with input:{}\n",
      "\t to state: 8\n",
      "\t reacting by producing output: {'stop1': False, 'left1': False, 'right1': True, 'up1': False, 'down1': False, 'delay1': False, 'stop2': False, 'left2': False, 'right2': False, 'up2': False, 'down2': True, 'delay2': False, 'x1': 1, 'y1': 2, 'x2': 2, 'y2': 1, 'c1': 0, 'c2': 0}\n",
      "move from\n",
      "\t state: 8\n",
      "\t with input:{}\n",
      "\t to state: 9\n",
      "\t reacting by producing output: {'stop1': False, 'left1': False, 'right1': False, 'up1': False, 'down1': True, 'delay1': False, 'stop2': False, 'left2': False, 'right2': False, 'up2': True, 'down2': False, 'delay2': False, 'x1': 2, 'y1': 2, 'x2': 2, 'y2': 0, 'c1': 0, 'c2': 0}\n"
     ]
    },
    {
     "data": {
      "text/plain": [
       "([0, 1, 2, 3, 4, 5, 6, 7, 8, 9],\n",
       " {'x1': [0, 0, 0, 0, 0, 0, 0, 0, 1, 2],\n",
       "  'y1': [1, 0, 1, 0, 1, 0, 1, 2, 2, 2],\n",
       "  'x2': [1, 2, 2, 2, 2, 2, 2, 2, 2, 2],\n",
       "  'y2': [0, 0, 1, 2, 1, 0, 1, 0, 1, 0],\n",
       "  'stop1': [False,\n",
       "   False,\n",
       "   False,\n",
       "   False,\n",
       "   False,\n",
       "   False,\n",
       "   False,\n",
       "   False,\n",
       "   False,\n",
       "   False],\n",
       "  'left1': [False,\n",
       "   False,\n",
       "   False,\n",
       "   False,\n",
       "   False,\n",
       "   False,\n",
       "   False,\n",
       "   False,\n",
       "   False,\n",
       "   False],\n",
       "  'right1': [False,\n",
       "   False,\n",
       "   False,\n",
       "   False,\n",
       "   False,\n",
       "   False,\n",
       "   False,\n",
       "   True,\n",
       "   True,\n",
       "   False],\n",
       "  'up1': [False, True, False, True, False, True, True, False, False, False],\n",
       "  'down1': [True, False, True, False, True, False, False, False, False, True],\n",
       "  'c1': [0, 0, 0, 0, 0, 0, 0, 0, 0, 0],\n",
       "  'delay1': [False,\n",
       "   False,\n",
       "   False,\n",
       "   False,\n",
       "   False,\n",
       "   False,\n",
       "   False,\n",
       "   False,\n",
       "   False,\n",
       "   False],\n",
       "  'stop2': [False,\n",
       "   False,\n",
       "   False,\n",
       "   False,\n",
       "   False,\n",
       "   False,\n",
       "   False,\n",
       "   False,\n",
       "   False,\n",
       "   False],\n",
       "  'left2': [False,\n",
       "   False,\n",
       "   False,\n",
       "   False,\n",
       "   False,\n",
       "   False,\n",
       "   False,\n",
       "   False,\n",
       "   False,\n",
       "   False],\n",
       "  'right2': [True,\n",
       "   False,\n",
       "   False,\n",
       "   False,\n",
       "   False,\n",
       "   False,\n",
       "   False,\n",
       "   False,\n",
       "   False,\n",
       "   False],\n",
       "  'up2': [False, True, True, False, False, True, False, True, False, True],\n",
       "  'down2': [False, False, False, True, True, False, True, False, True, False],\n",
       "  'c2': [0, 0, 0, 0, 0, 0, 0, 0, 0, 0],\n",
       "  'delay2': [False,\n",
       "   False,\n",
       "   False,\n",
       "   False,\n",
       "   False,\n",
       "   False,\n",
       "   False,\n",
       "   False,\n",
       "   False,\n",
       "   False]})"
      ]
     },
     "execution_count": 65,
     "metadata": {},
     "output_type": "execute_result"
    }
   ],
   "source": []
  },
  {
   "cell_type": "code",
   "execution_count": null,
   "metadata": {},
   "outputs": [],
   "source": []
  },
  {
   "cell_type": "code",
   "execution_count": null,
   "metadata": {},
   "outputs": [],
   "source": []
  }
 ],
 "metadata": {
  "kernelspec": {
   "display_name": "Python 3",
   "language": "python",
   "name": "python3"
  },
  "language_info": {
   "codemirror_mode": {
    "name": "ipython",
    "version": 3
   },
   "file_extension": ".py",
   "mimetype": "text/x-python",
   "name": "python",
   "nbconvert_exporter": "python",
   "pygments_lexer": "ipython3",
   "version": "3.6.9"
  }
 },
 "nbformat": 4,
 "nbformat_minor": 4
}
