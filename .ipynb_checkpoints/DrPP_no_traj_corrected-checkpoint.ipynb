{
 "cells": [
  {
   "cell_type": "code",
   "execution_count": 1,
   "metadata": {},
   "outputs": [
    {
     "name": "stderr",
     "output_type": "stream",
     "text": [
      "`omega.symbolic.symbolic` failed to import `dd.cudd`.\n",
      "Will use `dd.autoref`.\n"
     ]
    }
   ],
   "source": [
    "\"\"\" This script tries only using the TuLiP toolbox to solve a multirobot path planning (MrPP) problem.\n",
    "As opposed to multirobot path execution (MrPE) problem, predefined paths are not given\n",
    "\"\"\"\n",
    "\n",
    "# Import the packages that we need\n",
    "from __future__ import print_function\n",
    "import numpy as np\n",
    "from tulip import spec\n",
    "from tulip.transys import machines\n",
    "from tulip import synth\n",
    "import gr1_fragment"
   ]
  },
  {
   "cell_type": "code",
   "execution_count": 2,
   "metadata": {},
   "outputs": [],
   "source": [
    "# Define the parameters & desired trajectories\n",
    "num_robots = 1  # must be > 1\n",
    "num_cells = 3\n",
    "init = np.array([1])\n",
    "dest = np.array([3])"
   ]
  },
  {
   "cell_type": "code",
   "execution_count": 3,
   "metadata": {},
   "outputs": [],
   "source": [
    "# Define the env_vars based on the params % trajectories\n",
    "env_vars = set()\n",
    "env_vars_list = []\n",
    "for r in range(1, num_robots + 1):\n",
    "    env_vars_list.append([])\n",
    "    for p in range(1, num_cells + 1):\n",
    "        new_env_var = 's' + str(r) + 'a' + str(p)\n",
    "        env_vars |= {new_env_var}\n",
    "        env_vars_list[r - 1].append(new_env_var)"
   ]
  },
  {
   "cell_type": "code",
   "execution_count": 4,
   "metadata": {},
   "outputs": [
    {
     "name": "stdout",
     "output_type": "stream",
     "text": [
      "{'s1a2', 's1a3', 's1a1'}\n"
     ]
    }
   ],
   "source": [
    "print(env_vars)"
   ]
  },
  {
   "cell_type": "code",
   "execution_count": 5,
   "metadata": {},
   "outputs": [
    {
     "name": "stdout",
     "output_type": "stream",
     "text": [
      "[['s1a1', 's1a2', 's1a3']]\n"
     ]
    }
   ],
   "source": [
    "print(env_vars_list)"
   ]
  },
  {
   "cell_type": "code",
   "execution_count": 6,
   "metadata": {},
   "outputs": [],
   "source": [
    "# Define the initial conditions\n",
    "env_init = set()\n",
    "for r in range(num_robots):\n",
    "    env_init |= {env_vars_list[r][init[r] - 1]}"
   ]
  },
  {
   "cell_type": "code",
   "execution_count": 7,
   "metadata": {},
   "outputs": [
    {
     "name": "stdout",
     "output_type": "stream",
     "text": [
      "{'s1a1'}\n"
     ]
    }
   ],
   "source": [
    "print(env_init)"
   ]
  },
  {
   "cell_type": "code",
   "execution_count": 8,
   "metadata": {},
   "outputs": [],
   "source": [
    "env_safe = set()\n",
    "env_prog = set()\n",
    "# Encode the constraint that each robot can only appear in one position\n",
    "env_unique = set()\n",
    "for r in range(1, num_robots + 1):\n",
    "    for i in range(len(env_vars_list[r - 1])):\n",
    "        new_env_unique = '( ' + env_vars_list[r - 1][i] + ' ) <-> ( '\n",
    "        for j in range(len(env_vars_list[r - 1])):\n",
    "            if j != i:\n",
    "                new_env_unique += '!' + env_vars_list[r - 1][j] + ' && '\n",
    "        new_env_unique = new_env_unique[:-3] + ')'\n",
    "        env_unique |= {new_env_unique}\n",
    "env_safe |= env_unique"
   ]
  },
  {
   "cell_type": "code",
   "execution_count": 9,
   "metadata": {},
   "outputs": [
    {
     "name": "stdout",
     "output_type": "stream",
     "text": [
      "{'( s1a1 ) <-> ( !s1a2 && !s1a3 )', '( s1a3 ) <-> ( !s1a1 && !s1a2 )', '( s1a2 ) <-> ( !s1a1 && !s1a3 )'}\n"
     ]
    }
   ],
   "source": [
    "print(env_unique)"
   ]
  },
  {
   "cell_type": "code",
   "execution_count": 10,
   "metadata": {},
   "outputs": [],
   "source": [
    "# Encode the transition system relations\n",
    "# transition = np.array([[0, 2, 7, 5], [1, 3, 0, 0], [2, 4, 0, 6], [3, 0, 0, 8], [0, 0, 1, 0], [0, 0, 3, 0], [0, 0, 0, 1], [0, 0, 4, 0]])\n",
    "# transition = np.array([[0, 2, 0, 0], [1, 0, 0, 0]])\n",
    "transition = np.array([[0, 2, 0, 0], [1, 3, 0, 0], [0, 2, 0, 0]])\n",
    "actions = ['up', 'down', 'left', 'right']\n",
    "env_trans = set()\n",
    "# env_trans |= {'( s1a1 ) -> ( stop1 || down1 )'}\n",
    "# env_trans |= {'( s1a2 ) -> ( stop1 || up1 )'}\n",
    "for i in range(1, num_cells + 1):\n",
    "    for r in range(num_robots):\n",
    "        for d in range(4):\n",
    "            if transition[i - 1][d] > 0:\n",
    "                env_trans |= {'( ' + env_vars_list[r][i - 1] + ' && ' + actions[d] + str(r + 1) + ' ) -> X( ' +\n",
    "                            env_vars_list[r][i - 1] + ' || ' + env_vars_list[r][transition[i - 1][d] - 1] + ' )'}\n",
    "                # env_trans |= {'( ' + env_vars_list[r][i - 1] + ' && ' + actions[d] + str(r + 1) + ' ) -> X( ' +\n",
    "                            # env_vars_list[r][transition[i - 1][d] - 1] + ' )'}\n",
    "            else:\n",
    "                # env_trans |= {'( ' + env_vars_list[r][i - 1] + ' ) -> ( !' + actions[d] + str(r + 1) + ' )'}\n",
    "                 env_trans |= {'( ' + env_vars_list[r][i - 1] + ' && ' + actions[d] + str(r + 1) + ' ) -> X( ' +\n",
    "                      env_vars_list[r][i - 1] + ' )'}\n",
    "        env_trans |= {'( ' + env_vars_list[r][i - 1] + ' && ' + 'stop' + str(r + 1) + ' ) -> X( ' +\n",
    "                      env_vars_list[r][i - 1] + ' )'}\n",
    "\n",
    "env_safe |= env_trans"
   ]
  },
  {
   "cell_type": "code",
   "execution_count": 11,
   "metadata": {},
   "outputs": [
    {
     "name": "stdout",
     "output_type": "stream",
     "text": [
      "{'( s1a1 && stop1 ) -> X( s1a1 )', '( s1a1 && left1 ) -> X( s1a1 )', '( s1a2 && left1 ) -> X( s1a2 )', '( s1a2 && right1 ) -> X( s1a2 )', '( s1a3 && stop1 ) -> X( s1a3 )', '( s1a3 && left1 ) -> X( s1a3 )', '( s1a3 && down1 ) -> X( s1a3 || s1a2 )', '( s1a2 && up1 ) -> X( s1a2 || s1a1 )', '( s1a3 && up1 ) -> X( s1a3 )', '( s1a3 && right1 ) -> X( s1a3 )', '( s1a2 && down1 ) -> X( s1a2 || s1a3 )', '( s1a1 && right1 ) -> X( s1a1 )', '( s1a2 && stop1 ) -> X( s1a2 )', '( s1a1 && down1 ) -> X( s1a1 || s1a2 )', '( s1a1 && up1 ) -> X( s1a1 )'}\n"
     ]
    }
   ],
   "source": [
    "print(env_trans)"
   ]
  },
  {
   "cell_type": "code",
   "execution_count": 12,
   "metadata": {},
   "outputs": [
    {
     "name": "stdout",
     "output_type": "stream",
     "text": [
      "15\n"
     ]
    }
   ],
   "source": [
    "print(len(env_trans))"
   ]
  },
  {
   "cell_type": "code",
   "execution_count": 13,
   "metadata": {},
   "outputs": [],
   "source": [
    "# Encode the constraint that every robot should stay after reaching its destination\n",
    "env_dest_stop = set()\n",
    "sys_dest = set()\n",
    "for r in range(num_robots):\n",
    "    env_dest_stop |= {'( ' + env_vars_list[r][dest[r] - 1] + ' ) -> X( ' + env_vars_list[r][dest[r] - 1] + ' )'}\n",
    "    sys_dest |= {env_vars_list[r][dest[r] - 1]}\n",
    "#env_safe |= env_dest_stop"
   ]
  },
  {
   "cell_type": "code",
   "execution_count": 14,
   "metadata": {},
   "outputs": [
    {
     "name": "stdout",
     "output_type": "stream",
     "text": [
      "{'( s1a3 ) -> X( s1a3 )'}\n"
     ]
    }
   ],
   "source": [
    "print(env_dest_stop)"
   ]
  },
  {
   "cell_type": "code",
   "execution_count": 15,
   "metadata": {},
   "outputs": [
    {
     "name": "stdout",
     "output_type": "stream",
     "text": [
      "{'s1a3'}\n"
     ]
    }
   ],
   "source": [
    "print(sys_dest)"
   ]
  },
  {
   "cell_type": "code",
   "execution_count": 16,
   "metadata": {},
   "outputs": [],
   "source": [
    "# Encode the constraint that each robot should either not go or eventually not in the current cell\n",
    "env_go = set()\n",
    "for r in range(1, num_robots + 1):\n",
    "    for i in range(num_cells):\n",
    "        if i != dest[r - 1] - 1:\n",
    "            env_go |= {'( !' + env_vars_list[r - 1][i] + ' || ' + 'stop' + str(r) + ' )'}\n",
    "env_prog |= env_go\n",
    "\n",
    "# given that I defined the  effect of \"unavailable actions\" to be staying in place, either we need \n",
    "# to update this progress property (because if i am at a cell where left is not possible and i keep\n",
    "# saying left this progress property requires me to move eventually  which does not make sense)\n",
    "# the other option is  to explicitly ban the \"unavailable actions\" in system safety spec"
   ]
  },
  {
   "cell_type": "code",
   "execution_count": 17,
   "metadata": {},
   "outputs": [
    {
     "name": "stdout",
     "output_type": "stream",
     "text": [
      "{'( !s1a2 || stop1 )', '( !s1a1 || stop1 )'}\n"
     ]
    }
   ],
   "source": [
    "print(env_go)"
   ]
  },
  {
   "cell_type": "code",
   "execution_count": 18,
   "metadata": {},
   "outputs": [],
   "source": [
    "# Define sys_vars\n",
    "sys_vars = set()\n",
    "for r in range(1, num_robots + 1):\n",
    "    sys_vars |= {'stop' + str(r)}\n",
    "    sys_vars |= {'left' + str(r)}\n",
    "    sys_vars |= {'right' + str(r)}\n",
    "    sys_vars |= {'up' + str(r)}\n",
    "    sys_vars |= {'down' + str(r)}"
   ]
  },
  {
   "cell_type": "code",
   "execution_count": 19,
   "metadata": {},
   "outputs": [
    {
     "name": "stdout",
     "output_type": "stream",
     "text": [
      "{'left1', 'right1', 'down1', 'stop1', 'up1'}\n"
     ]
    }
   ],
   "source": [
    "print(sys_vars)"
   ]
  },
  {
   "cell_type": "code",
   "execution_count": 20,
   "metadata": {},
   "outputs": [
    {
     "name": "stdout",
     "output_type": "stream",
     "text": [
      "{'( stop1 ) <-> ( !right1 && !up1 && !down1 && !left1 )', '( up1 ) <-> ( !right1 && !left1 && !down1 && !stop1 )', '( right1 ) <-> ( !left1 && !up1 && !down1 && !stop1 )', '( left1 ) <-> ( !right1 && !up1 && !down1 && !stop1 )', '( down1 ) <-> ( !right1 && !up1 && !left1 && !stop1 )'}\n"
     ]
    }
   ],
   "source": [
    "# Define initial command. Assume nothing.\n",
    "sys_init = set()\n",
    "\n",
    "sys_safe = set()\n",
    "sys_prog = set()\n",
    "sys_prog |= sys_dest\n",
    "sys_safe |= env_dest_stop\n",
    "# Encode the constraint that each time one action must be selected\n",
    "env_act = set()\n",
    "for r in range(1, num_robots + 1):\n",
    "    env_act |= {'( left' + str(r) + ' ) <-> ( ' + '!right' + str(r) + ' && ' + '!up' + str(r) + ' && ' + '!down' +\n",
    "                str(r) + ' && ' + '!stop' + str(r) + ' )'}\n",
    "    env_act |= {'( right' + str(r) + ' ) <-> ( ' + '!left' + str(r) + ' && ' + '!up' + str(r) + ' && ' + '!down' +\n",
    "                str(r) + ' && ' + '!stop' + str(r) + ' )'}\n",
    "    env_act |= {'( up' + str(r) + ' ) <-> ( ' + '!right' + str(r) + ' && ' + '!left' + str(r) + ' && ' + '!down' +\n",
    "                str(r) + ' && ' + '!stop' + str(r) + ' )'}\n",
    "    env_act |= {'( down' + str(r) + ' ) <-> ( ' + '!right' + str(r) + ' && ' + '!up' + str(r) + ' && ' + '!left' +\n",
    "                str(r) + ' && ' + '!stop' + str(r) + ' )'}\n",
    "    env_act |= {'( stop' + str(r) + ' ) <-> ( ' + '!right' + str(r) + ' && ' + '!up' + str(r) + ' && ' + '!down' +\n",
    "                str(r) + ' && ' + '!left' + str(r) + ' )'}\n",
    "    \n",
    "sys_safe |= env_act\n",
    "print(env_act)"
   ]
  },
  {
   "cell_type": "code",
   "execution_count": 21,
   "metadata": {},
   "outputs": [],
   "source": [
    "# Encode the constraint that if ending point is reached, not go. And if ending point is not reached, always exist some\n",
    "# robot that goes\n",
    "sys_stop = set()\n",
    "new_sys_nonstop = '( '\n",
    "for r in range(1, num_robots + 1):\n",
    "    sys_stop |= {'( ' + env_vars_list[r - 1][dest[r - 1] - 1] + ' ) -> ( ' + 'stop' + str(r) + ' )'}\n",
    "    new_sys_nonstop += '( !' + env_vars_list[r - 1][dest[r - 1] - 1] + ' ) || '\n",
    "new_sys_nonstop = new_sys_nonstop[:-3] + ') -> ( '\n",
    "for r in range(1, num_robots + 1):\n",
    "    new_sys_nonstop += '!stop' + str(r) + ' || '\n",
    "new_sys_nonstop = new_sys_nonstop[:-3] + ')'\n",
    "sys_stop |= {new_sys_nonstop}\n",
    "sys_safe |= sys_stop"
   ]
  },
  {
   "cell_type": "code",
   "execution_count": 22,
   "metadata": {},
   "outputs": [
    {
     "name": "stdout",
     "output_type": "stream",
     "text": [
      "{'( ( !s1a3 ) ) -> ( !stop1 )', '( s1a3 ) -> ( stop1 )'}\n"
     ]
    }
   ],
   "source": [
    "print(sys_stop)"
   ]
  },
  {
   "cell_type": "code",
   "execution_count": 23,
   "metadata": {},
   "outputs": [],
   "source": [
    "# Encode the collision avoidance constraints\n",
    "# No need if only one robot\n",
    "sys_collision = set()\n",
    "for i in range(num_cells):\n",
    "    new_sys_collision = '!( '\n",
    "    for r in range(num_robots):\n",
    "        new_sys_collision += env_vars_list[r][i] + ' && '\n",
    "    new_sys_collision = new_sys_collision[:-3] + ')'\n",
    "    sys_collision |= {new_sys_collision}\n",
    "# sys_safe |= sys_collision"
   ]
  },
  {
   "cell_type": "code",
   "execution_count": 24,
   "metadata": {},
   "outputs": [
    {
     "name": "stdout",
     "output_type": "stream",
     "text": [
      "{'!( s1a2 )', '!( s1a3 )', '!( s1a1 )'}\n"
     ]
    }
   ],
   "source": [
    "print(sys_collision)"
   ]
  },
  {
   "cell_type": "code",
   "execution_count": 25,
   "metadata": {},
   "outputs": [],
   "source": [
    "# Create a GR(1) specification\n",
    "specs = spec.GRSpec(env_vars, sys_vars, env_init, sys_init,\n",
    "                    env_safe, sys_safe, env_prog, sys_prog)\n",
    "specs.qinit = '\\A \\E'  # Moore initial condition synthesized too\n",
    "specs.moore = False\n",
    "specs.plus_one = False"
   ]
  },
  {
   "cell_type": "code",
   "execution_count": 26,
   "metadata": {},
   "outputs": [
    {
     "name": "stdout",
     "output_type": "stream",
     "text": [
      "((s1a1) && [](( s1a1 && left1 ) -> X( s1a1 )) && [](( s1a2 && left1 ) -> X( s1a2 )) && [](( s1a1 ) <-> ( !s1a2 && !s1a3 )) && [](( s1a3 && stop1 ) -> X( s1a3 )) && [](( s1a3 && left1 ) -> X( s1a3 )) && [](( s1a3 && down1 ) -> X( s1a3 || s1a2 )) && [](( s1a3 && up1 ) -> X( s1a3 )) && [](( s1a3 && right1 ) -> X( s1a3 )) && [](( s1a2 && stop1 ) -> X( s1a2 )) && [](( s1a1 && up1 ) -> X( s1a1 )) && [](( s1a1 && stop1 ) -> X( s1a1 )) && [](( s1a3 ) <-> ( !s1a1 && !s1a2 )) && [](( s1a2 && right1 ) -> X( s1a2 )) && [](( s1a2 ) <-> ( !s1a1 && !s1a3 )) && [](( s1a2 && up1 ) -> X( s1a2 || s1a1 )) && [](( s1a2 && down1 ) -> X( s1a2 || s1a3 )) && [](( s1a1 && right1 ) -> X( s1a1 )) && [](( s1a1 && down1 ) -> X( s1a1 || s1a2 )) && []<>(( !s1a2 || stop1 )) && []<>(( !s1a1 || stop1 ))) -> ([](( stop1 ) <-> ( !right1 && !up1 && !down1 && !left1 )) && [](( ( !s1a3 ) ) -> ( !stop1 )) && [](( right1 ) <-> ( !left1 && !up1 && !down1 && !stop1 )) && [](( s1a3 ) -> ( stop1 )) && [](( down1 ) <-> ( !right1 && !up1 && !left1 && !stop1 )) && [](( left1 ) <-> ( !right1 && !up1 && !down1 && !stop1 )) && [](( up1 ) <-> ( !right1 && !left1 && !down1 && !stop1 )) && [](( s1a3 ) -> X( s1a3 )) && []<>(s1a3))\n"
     ]
    }
   ],
   "source": [
    "print(specs)"
   ]
  },
  {
   "cell_type": "code",
   "execution_count": 27,
   "metadata": {},
   "outputs": [
    {
     "name": "stdout",
     "output_type": "stream",
     "text": [
      "Start synthesis\n",
      "removed 3 nodes from 5 total\n",
      "End synthesis\n"
     ]
    }
   ],
   "source": [
    "print('Start synthesis')\n",
    "ctrl = synth.synthesize(specs)\n",
    "print('End synthesis')\n",
    "assert ctrl is not None, 'unrealizable'"
   ]
  },
  {
   "cell_type": "code",
   "execution_count": 28,
   "metadata": {},
   "outputs": [
    {
     "name": "stdout",
     "output_type": "stream",
     "text": [
      "move from\n",
      "\t state: Sinit\n",
      "\t with input:{'s1a2': False, 's1a3': False, 's1a1': True}\n",
      "\t to state: 0\n",
      "\t reacting by producing output: {'left1': False, 'right1': False, 'down1': False, 'stop1': False, 'up1': True}\n",
      "move from\n",
      "\t state: 0\n",
      "\t with input:{'s1a2': False, 's1a3': False, 's1a1': True}\n",
      "\t to state: 0\n",
      "\t reacting by producing output: {'left1': False, 'right1': False, 'down1': False, 'stop1': False, 'up1': True}\n",
      "move from\n",
      "\t state: 0\n",
      "\t with input:{'s1a2': False, 's1a3': False, 's1a1': True}\n",
      "\t to state: 0\n",
      "\t reacting by producing output: {'left1': False, 'right1': False, 'down1': False, 'stop1': False, 'up1': True}\n",
      "move from\n",
      "\t state: 0\n",
      "\t with input:{'s1a2': False, 's1a3': False, 's1a1': True}\n",
      "\t to state: 0\n",
      "\t reacting by producing output: {'left1': False, 'right1': False, 'down1': False, 'stop1': False, 'up1': True}\n",
      "move from\n",
      "\t state: 0\n",
      "\t with input:{'s1a2': False, 's1a3': False, 's1a1': True}\n",
      "\t to state: 0\n",
      "\t reacting by producing output: {'left1': False, 'right1': False, 'down1': False, 'stop1': False, 'up1': True}\n",
      "move from\n",
      "\t state: 0\n",
      "\t with input:{'s1a2': False, 's1a3': False, 's1a1': True}\n",
      "\t to state: 0\n",
      "\t reacting by producing output: {'left1': False, 'right1': False, 'down1': False, 'stop1': False, 'up1': True}\n",
      "move from\n",
      "\t state: 0\n",
      "\t with input:{'s1a2': False, 's1a3': False, 's1a1': True}\n",
      "\t to state: 0\n",
      "\t reacting by producing output: {'left1': False, 'right1': False, 'down1': False, 'stop1': False, 'up1': True}\n",
      "move from\n",
      "\t state: 0\n",
      "\t with input:{'s1a2': False, 's1a3': False, 's1a1': True}\n",
      "\t to state: 0\n",
      "\t reacting by producing output: {'left1': False, 'right1': False, 'down1': False, 'stop1': False, 'up1': True}\n",
      "move from\n",
      "\t state: 0\n",
      "\t with input:{'s1a2': False, 's1a3': False, 's1a1': True}\n",
      "\t to state: 0\n",
      "\t reacting by producing output: {'left1': False, 'right1': False, 'down1': False, 'stop1': False, 'up1': True}\n",
      "move from\n",
      "\t state: 0\n",
      "\t with input:{'s1a2': False, 's1a3': False, 's1a1': True}\n",
      "\t to state: 0\n",
      "\t reacting by producing output: {'left1': False, 'right1': False, 'down1': False, 'stop1': False, 'up1': True}\n",
      "move from\n",
      "\t state: 0\n",
      "\t with input:{'s1a2': False, 's1a3': False, 's1a1': True}\n",
      "\t to state: 0\n",
      "\t reacting by producing output: {'left1': False, 'right1': False, 'down1': False, 'stop1': False, 'up1': True}\n",
      "move from\n",
      "\t state: 0\n",
      "\t with input:{'s1a2': False, 's1a3': False, 's1a1': True}\n",
      "\t to state: 0\n",
      "\t reacting by producing output: {'left1': False, 'right1': False, 'down1': False, 'stop1': False, 'up1': True}\n",
      "move from\n",
      "\t state: 0\n",
      "\t with input:{'s1a2': False, 's1a3': False, 's1a1': True}\n",
      "\t to state: 0\n",
      "\t reacting by producing output: {'left1': False, 'right1': False, 'down1': False, 'stop1': False, 'up1': True}\n",
      "move from\n",
      "\t state: 0\n",
      "\t with input:{'s1a2': False, 's1a3': False, 's1a1': True}\n",
      "\t to state: 0\n",
      "\t reacting by producing output: {'left1': False, 'right1': False, 'down1': False, 'stop1': False, 'up1': True}\n",
      "move from\n",
      "\t state: 0\n",
      "\t with input:{'s1a2': False, 's1a3': False, 's1a1': True}\n",
      "\t to state: 0\n",
      "\t reacting by producing output: {'left1': False, 'right1': False, 'down1': False, 'stop1': False, 'up1': True}\n",
      "move from\n",
      "\t state: 0\n",
      "\t with input:{'s1a2': False, 's1a3': False, 's1a1': True}\n",
      "\t to state: 0\n",
      "\t reacting by producing output: {'left1': False, 'right1': False, 'down1': False, 'stop1': False, 'up1': True}\n",
      "move from\n",
      "\t state: 0\n",
      "\t with input:{'s1a2': False, 's1a3': False, 's1a1': True}\n",
      "\t to state: 0\n",
      "\t reacting by producing output: {'left1': False, 'right1': False, 'down1': False, 'stop1': False, 'up1': True}\n",
      "move from\n",
      "\t state: 0\n",
      "\t with input:{'s1a2': False, 's1a3': False, 's1a1': True}\n",
      "\t to state: 0\n",
      "\t reacting by producing output: {'left1': False, 'right1': False, 'down1': False, 'stop1': False, 'up1': True}\n",
      "move from\n",
      "\t state: 0\n",
      "\t with input:{'s1a2': False, 's1a3': False, 's1a1': True}\n",
      "\t to state: 0\n",
      "\t reacting by producing output: {'left1': False, 'right1': False, 'down1': False, 'stop1': False, 'up1': True}\n",
      "move from\n",
      "\t state: 0\n",
      "\t with input:{'s1a2': False, 's1a3': False, 's1a1': True}\n",
      "\t to state: 0\n",
      "\t reacting by producing output: {'left1': False, 'right1': False, 'down1': False, 'stop1': False, 'up1': True}\n"
     ]
    },
    {
     "data": {
      "text/plain": [
       "([0, 0, 0, 0, 0, 0, 0, 0, 0, 0, 0, 0, 0, 0, 0, 0, 0, 0, 0, 0],\n",
       " {'left1': [False,\n",
       "   False,\n",
       "   False,\n",
       "   False,\n",
       "   False,\n",
       "   False,\n",
       "   False,\n",
       "   False,\n",
       "   False,\n",
       "   False,\n",
       "   False,\n",
       "   False,\n",
       "   False,\n",
       "   False,\n",
       "   False,\n",
       "   False,\n",
       "   False,\n",
       "   False,\n",
       "   False,\n",
       "   False],\n",
       "  'right1': [False,\n",
       "   False,\n",
       "   False,\n",
       "   False,\n",
       "   False,\n",
       "   False,\n",
       "   False,\n",
       "   False,\n",
       "   False,\n",
       "   False,\n",
       "   False,\n",
       "   False,\n",
       "   False,\n",
       "   False,\n",
       "   False,\n",
       "   False,\n",
       "   False,\n",
       "   False,\n",
       "   False,\n",
       "   False],\n",
       "  'down1': [False,\n",
       "   False,\n",
       "   False,\n",
       "   False,\n",
       "   False,\n",
       "   False,\n",
       "   False,\n",
       "   False,\n",
       "   False,\n",
       "   False,\n",
       "   False,\n",
       "   False,\n",
       "   False,\n",
       "   False,\n",
       "   False,\n",
       "   False,\n",
       "   False,\n",
       "   False,\n",
       "   False,\n",
       "   False],\n",
       "  'stop1': [False,\n",
       "   False,\n",
       "   False,\n",
       "   False,\n",
       "   False,\n",
       "   False,\n",
       "   False,\n",
       "   False,\n",
       "   False,\n",
       "   False,\n",
       "   False,\n",
       "   False,\n",
       "   False,\n",
       "   False,\n",
       "   False,\n",
       "   False,\n",
       "   False,\n",
       "   False,\n",
       "   False,\n",
       "   False],\n",
       "  'up1': [True,\n",
       "   True,\n",
       "   True,\n",
       "   True,\n",
       "   True,\n",
       "   True,\n",
       "   True,\n",
       "   True,\n",
       "   True,\n",
       "   True,\n",
       "   True,\n",
       "   True,\n",
       "   True,\n",
       "   True,\n",
       "   True,\n",
       "   True,\n",
       "   True,\n",
       "   True,\n",
       "   True,\n",
       "   True]})"
      ]
     },
     "execution_count": 28,
     "metadata": {},
     "output_type": "execute_result"
    }
   ],
   "source": [
    "machines.random_run(ctrl, N=20)"
   ]
  },
  {
   "cell_type": "code",
   "execution_count": 29,
   "metadata": {},
   "outputs": [
    {
     "name": "stdout",
     "output_type": "stream",
     "text": [
      "3\n"
     ]
    }
   ],
   "source": [
    "print(len(env_unique))"
   ]
  },
  {
   "cell_type": "code",
   "execution_count": null,
   "metadata": {},
   "outputs": [],
   "source": []
  }
 ],
 "metadata": {
  "kernelspec": {
   "display_name": "Python 3",
   "language": "python",
   "name": "python3"
  },
  "language_info": {
   "codemirror_mode": {
    "name": "ipython",
    "version": 3
   },
   "file_extension": ".py",
   "mimetype": "text/x-python",
   "name": "python",
   "nbconvert_exporter": "python",
   "pygments_lexer": "ipython3",
   "version": "3.6.9"
  }
 },
 "nbformat": 4,
 "nbformat_minor": 4
}
