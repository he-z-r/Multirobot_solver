{
 "cells": [
  {
   "cell_type": "code",
   "execution_count": 1,
   "metadata": {},
   "outputs": [
    {
     "name": "stderr",
     "output_type": "stream",
     "text": [
      "`omega.symbolic.symbolic` failed to import `dd.cudd`.\n",
      "Will use `dd.autoref`.\n"
     ]
    }
   ],
   "source": [
    "#!/usr/bin/env python\n",
    "\"\"\"Discrete synthesis from a dummy abstraction of controlled switched dynamics.\n",
    "\n",
    "This is an example to demonstrate how the output of abstracting a switched\n",
    "system, where the dynamics are controlled through switching and\n",
    "if multiple transitions are possible from a state in some mode,\n",
    "then the system controls which one is taken.\n",
    "\n",
    "We will assume, we have the 6 cell robot example.\n",
    "\n",
    "     +---+---+---+\n",
    "     | 3 | 4 | 5 |\n",
    "     +---+---+---+\n",
    "     | 0 | 1 | 2 |\n",
    "     +---+---+---+\n",
    "\"\"\"\n",
    "# NO, 26 Jul 2013.\n",
    "from __future__ import print_function\n",
    "\n",
    "import numpy as np\n",
    "from scipy import sparse as sp\n",
    "from tulip import spec\n",
    "from tulip import synth\n",
    "from tulip import transys\n"
   ]
  },
  {
   "cell_type": "code",
   "execution_count": 2,
   "metadata": {},
   "outputs": [],
   "source": [
    "###############################\n",
    "# Switched system with 4 modes:\n",
    "###############################\n",
    "\n",
    "# In this scenario we have limited actions \"left, right, up, down\" with\n",
    "# certain (nondeterministic) outcomes\n",
    "\n",
    "# Create a finite transition system\n",
    "sys_sws = transys.FTS()\n",
    "\n",
    "sys_sws.sys_actions.add_from({'right','up','left','down'})\n",
    "\n",
    "# str states\n",
    "n = 6\n",
    "states = transys.prepend_with(range(n), 's')\n",
    "sys_sws.states.add_from(set(states) )\n",
    "sys_sws.states.initial.add_from({'s0', 's3'})\n",
    "\n",
    "sys_sws.atomic_propositions.add_from(['home','lot'])\n",
    "state_labels = [{'home'}, set(), set(), set(), set(), {'lot'}]\n"
   ]
  },
  {
   "cell_type": "code",
   "execution_count": 3,
   "metadata": {},
   "outputs": [
    {
     "name": "stdout",
     "output_type": "stream",
     "text": [
      "['s0', 's1', 's2', 's3', 's4', 's5']\n"
     ]
    }
   ],
   "source": [
    "print(states)"
   ]
  },
  {
   "cell_type": "code",
   "execution_count": 4,
   "metadata": {},
   "outputs": [
    {
     "name": "stdout",
     "output_type": "stream",
     "text": [
      "States:\n",
      "NodeView(('s1', 's5', 's4', 's2', 's3', 's0'))\n"
     ]
    }
   ],
   "source": [
    "print(sys_sws.states)"
   ]
  },
  {
   "cell_type": "code",
   "execution_count": 5,
   "metadata": {},
   "outputs": [
    {
     "name": "stdout",
     "output_type": "stream",
     "text": [
      "SubSet(['s0', 's3'])\n"
     ]
    }
   ],
   "source": [
    "print(sys_sws.states.initial)"
   ]
  },
  {
   "cell_type": "code",
   "execution_count": 6,
   "metadata": {},
   "outputs": [],
   "source": [
    "# Add states and decorate TS with state labels (aka atomic propositions)\n",
    "for state, label in zip(states, state_labels):\n",
    "    sys_sws.states.add(state, ap=label)"
   ]
  },
  {
   "cell_type": "code",
   "execution_count": 7,
   "metadata": {},
   "outputs": [],
   "source": [
    "# mode1 transitions\n",
    "transmat1 = np.array([[0,1,0,0,1,0],\n",
    "                      [0,0,1,0,0,1],\n",
    "                      [0,0,1,0,0,0],\n",
    "                      [0,1,0,0,1,0],\n",
    "                      [0,0,1,0,0,1],\n",
    "                      [0,0,0,0,0,1]])\n",
    "sys_sws.transitions.add_adj(\n",
    "    sp.lil_matrix(transmat1), states, sys_actions='right'\n",
    ")\n",
    "\n",
    "# mode2 transitions\n",
    "transmat2 = np.array([[0,0,0,1,0,0],\n",
    "                      [0,0,0,0,1,1],\n",
    "                      [0,0,0,0,0,1],\n",
    "                      [0,0,0,1,0,0],\n",
    "                      [0,0,0,0,1,0],\n",
    "                      [0,0,0,0,0,1]])\n",
    "sys_sws.transitions.add_adj(\n",
    "    sp.lil_matrix(transmat2), states, sys_actions='up'\n",
    ")\n",
    "\n",
    "# mode3 transitions\n",
    "transmat3 = np.array([[1,0,0,0,0,0],\n",
    "                      [1,0,0,1,0,0],\n",
    "                      [0,1,0,0,1,0],\n",
    "                      [0,0,0,1,0,0],\n",
    "                      [1,0,0,1,0,0],\n",
    "                      [0,1,0,0,1,0]])\n",
    "sys_sws.transitions.add_adj(\n",
    "    sp.lil_matrix(transmat3), states, sys_actions='left'\n",
    ")\n",
    "\n",
    "# mode4 transitions\n",
    "transmat4 = np.array([[1,0,0,0,0,0],\n",
    "                      [0,1,0,0,0,0],\n",
    "                      [0,0,1,0,0,0],\n",
    "                      [1,0,0,0,0,0],\n",
    "                      [0,1,1,0,0,0],\n",
    "                      [0,0,1,0,0,0]])\n",
    "sys_sws.transitions.add_adj(\n",
    "    sp.lil_matrix(transmat4), states, sys_actions='down'\n",
    ")"
   ]
  },
  {
   "cell_type": "code",
   "execution_count": 8,
   "metadata": {},
   "outputs": [
    {
     "name": "stdout",
     "output_type": "stream",
     "text": [
      "----------------------------------------\n",
      "Finite Transition System (open): \n",
      "----------------------------------------\n",
      "Atomic Propositions (APs):\n",
      "MathSet(['lot', 'home'])\n",
      "\n",
      "States labeled with sets of APs:\n",
      "\t State: s1, AP: set()\n",
      "\t State: s5, AP: {'lot'}\n",
      "\t State: s4, AP: set()\n",
      "\t State: s2, AP: set()\n",
      "\t State: s3, AP: set()\n",
      "\t State: s0, AP: {'home'}\n",
      "\n",
      "\n",
      "Initial States:\n",
      "SubSet(['s0', 's3'])\n",
      "\n",
      "Environment Action Type: env_actions, with possible values:\n",
      "\tMathSet([])\n",
      "MathSet([])\n",
      "\n",
      "System Action Type: sys_actions, with possible values: MathSet(['right', 'left', 'up', 'down'])\n",
      "MathSet(['right', 'left', 'up', 'down'])\n",
      "\n",
      "Transitions labeled with sys and env actions:\n",
      "OutMultiEdgeDataView([('s1', 's2', {'sys_actions': 'right'}), ('s1', 's5', {'sys_actions': 'right'}), ('s1', 's5', {'sys_actions': 'up'}), ('s1', 's4', {'sys_actions': 'up'}), ('s1', 's0', {'sys_actions': 'left'}), ('s1', 's3', {'sys_actions': 'left'}), ('s1', 's1', {'sys_actions': 'down'}), ('s5', 's5', {'sys_actions': 'right'}), ('s5', 's5', {'sys_actions': 'up'}), ('s5', 's1', {'sys_actions': 'left'}), ('s5', 's4', {'sys_actions': 'left'}), ('s5', 's2', {'sys_actions': 'down'}), ('s4', 's2', {'sys_actions': 'right'}), ('s4', 's2', {'sys_actions': 'down'}), ('s4', 's5', {'sys_actions': 'right'}), ('s4', 's4', {'sys_actions': 'up'}), ('s4', 's0', {'sys_actions': 'left'}), ('s4', 's3', {'sys_actions': 'left'}), ('s4', 's1', {'sys_actions': 'down'}), ('s2', 's2', {'sys_actions': 'right'}), ('s2', 's2', {'sys_actions': 'down'}), ('s2', 's5', {'sys_actions': 'up'}), ('s2', 's1', {'sys_actions': 'left'}), ('s2', 's4', {'sys_actions': 'left'}), ('s3', 's1', {'sys_actions': 'right'}), ('s3', 's4', {'sys_actions': 'right'}), ('s3', 's3', {'sys_actions': 'up'}), ('s3', 's3', {'sys_actions': 'left'}), ('s3', 's0', {'sys_actions': 'down'}), ('s0', 's1', {'sys_actions': 'right'}), ('s0', 's4', {'sys_actions': 'right'}), ('s0', 's3', {'sys_actions': 'up'}), ('s0', 's0', {'sys_actions': 'left'}), ('s0', 's0', {'sys_actions': 'down'})])\n",
      "----------------------------------------\n",
      "\n"
     ]
    }
   ],
   "source": [
    "# This is what is visible to the outside world (and will go into synthesis method)\n",
    "print(sys_sws)"
   ]
  },
  {
   "cell_type": "code",
   "execution_count": null,
   "metadata": {},
   "outputs": [],
   "source": []
  }
 ],
 "metadata": {
  "kernelspec": {
   "display_name": "Python 3",
   "language": "python",
   "name": "python3"
  },
  "language_info": {
   "codemirror_mode": {
    "name": "ipython",
    "version": 3
   },
   "file_extension": ".py",
   "mimetype": "text/x-python",
   "name": "python",
   "nbconvert_exporter": "python",
   "pygments_lexer": "ipython3",
   "version": "3.6.9"
  }
 },
 "nbformat": 4,
 "nbformat_minor": 4
}
